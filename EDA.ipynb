{
 "cells": [
  {
   "cell_type": "code",
   "execution_count": null,
   "metadata": {},
   "outputs": [],
   "source": [
    "import pandas as pd\n",
    "import numpy as np\n",
    "import matplotlib.pyplot as plt\n",
    "import seaborn as sns"
   ]
  },
  {
   "cell_type": "code",
   "execution_count": null,
   "metadata": {},
   "outputs": [],
   "source": [
    "data = pd.read_csv(\"./data/2015_사업보고서_01_재무상태표_20200515.txt\", sep = \"\\t\", encoding = \"cp949\")\n",
    "df = data.copy()"
   ]
  },
  {
   "cell_type": "code",
   "execution_count": null,
   "metadata": {},
   "outputs": [],
   "source": [
    "print(df.isnull().sum())\n",
    "# 결측치 처리 필요!\n",
    "print(df.info())"
   ]
  },
  {
   "cell_type": "code",
   "execution_count": null,
   "metadata": {},
   "outputs": [],
   "source": [
    "# 변수 \n",
    "# 재무제표종류 종목코드 회사명 시장구분 업종 업종명 결산월 결산기준일 \n",
    "# 보고서종류 통화 항목코드 항목명 당기 전기 전전기 Unnamed: 15\n",
    "\" \".join(df.columns)"
   ]
  },
  {
   "cell_type": "code",
   "execution_count": null,
   "metadata": {},
   "outputs": [],
   "source": [
    "# 재무제표종류\n",
    "print(df[\"재무제표종류\"].unique())\n",
    "print(df[\"재무제표종류\"].value_counts())"
   ]
  },
  {
   "cell_type": "code",
   "execution_count": null,
   "metadata": {},
   "outputs": [],
   "source": [
    "# 종목코드 : 한국거래소에서 관리하는 회사코드로 6자리로 구성\n",
    "print(len(df[\"종목코드\"].unique()))\n",
    "print(df[\"종목코드\"].value_counts())"
   ]
  },
  {
   "cell_type": "code",
   "execution_count": null,
   "metadata": {},
   "outputs": [],
   "source": [
    "# 회사명 : 제출인의 회사명칭\n",
    "print(len(df[\"회사명\"].unique()))\n",
    "print(df[\"회사명\"].value_counts())"
   ]
  },
  {
   "cell_type": "code",
   "execution_count": null,
   "metadata": {},
   "outputs": [],
   "source": [
    "# 시장구분 : 유가증권시장상장법인, 코스닥시장상장법인(Kosdaq)\n",
    "# 유가증권시장상장법인 : Kospi\n",
    "# 코스닥 시장은 IT(Information technology), BT(Bio technology), CT(Culture technology) \n",
    "# 기업과 벤처기업의 자금조달을 목적으로 1996년 7월 개설된 첨단 벤처기업 중심 시장입니다.\n",
    "print(df[\"시장구분\"].unique())"
   ]
  },
  {
   "cell_type": "code",
   "execution_count": null,
   "metadata": {},
   "outputs": [],
   "source": [
    "# 업종, 업종명\n",
    "# 통계청 통계분류 포털 : https://kssc.kostat.go.kr:8443/ksscNew_web/link.do?gubun=001\n",
    "print(df[\"업종명\"].value_counts())\n",
    "company_name = df[\"업종명\"].unique()\n",
    "company_name_sum = df[\"업종명\"].value_counts().sort_values()\n",
    "df_company_name = pd.DataFrame({\"업종명\":company_name, \"합계\":company_name_sum})\n",
    "\n",
    "# 업종\n",
    "print(df[\"업종\"].value_counts())\n",
    "company = df[\"업종\"].unique()\n",
    "company_sum = df[\"업종\"].value_counts().sort_values()\n",
    "df_company = pd.DataFrame({\"업종\":company, \"합계\":company_sum})\n",
    "\n",
    "# 업종과 업종명이 다른 행 추출\n",
    "com_left = pd.merge(df_company_name, df_company, how = \"left\")\n",
    "print(com_left[com_left[\"업종\"].isnull()])\n",
    "\n",
    "com_right = pd.merge(df_company_name, df_company, how = \"right\")\n",
    "print(com_right[com_right[\"업종명\"].isnull()])\n",
    "\n",
    "# 업종 != 업종명 처리방법 회의 필요"
   ]
  },
  {
   "cell_type": "code",
   "execution_count": null,
   "metadata": {},
   "outputs": [],
   "source": [
    "# 결산월, 결산기준일\n",
    "print(df[\"결산월\"].unique())\n",
    "print(df[\"결산기준일\"].unique())"
   ]
  },
  {
   "cell_type": "code",
   "execution_count": null,
   "metadata": {},
   "outputs": [],
   "source": [
    "# 보고서종류\n",
    "print(df[\"보고서종류\"].unique())"
   ]
  },
  {
   "cell_type": "code",
   "execution_count": null,
   "metadata": {},
   "outputs": [],
   "source": [
    "# 통화 : 필요 없는 변수\n",
    "# 항목코드 : 계정과목코드\n",
    "# ifrs_xxx : 국제 기준\n",
    "# dart_xxx : 국제 기준을 수정\n",
    "# entity_xxx : 신규회사"
   ]
  },
  {
   "cell_type": "code",
   "execution_count": null,
   "metadata": {},
   "outputs": [],
   "source": [
    "df[df[\"전전기\"].isnull()].to_csv(\"./data/결측치확인.csv\", index = False,encoding = 'utf-8')\n",
    "no = df[df[\"전전기\"].isnull()]\n",
    "no_lst = no[\"항목명\"].unique()\n",
    "no_big_classifier = []\n",
    "for i in no_lst:\n",
    "    if \"[\" not in i:\n",
    "        no_big_classifier.append(i)"
   ]
  },
  {
   "cell_type": "code",
   "execution_count": null,
   "metadata": {},
   "outputs": [],
   "source": [
    "# no_big_classifier : "
   ]
  },
  {
   "cell_type": "code",
   "execution_count": null,
   "metadata": {},
   "outputs": [],
   "source": [
    "# data\n",
    "df[\"당기\"] = df[\"당기\"].str.replace(\",\", \"\")\n",
    "df[\"전기\"] = df[\"전기\"].str.replace(\",\", \"\")\n",
    "df[\"전전기\"] = df[\"전전기\"].str.replace(\",\", \"\")\n",
    "df[[\"당기\", \"전기\", \"전전기\"]] = df[[\"당기\", \"전기\", \"전전기\"]].astype(np.float32)"
   ]
  },
  {
   "cell_type": "code",
   "execution_count": null,
   "metadata": {},
   "outputs": [],
   "source": [
    "# 필요 없는 변수 제거\n",
    "df.drop(\"통화\", axis = 1, inplace = True)\n",
    "df.drop(\"종목코드\", axis = 1, inplace = True)\n",
    "df.drop(\"Unnamed: 15\", axis = 1, inplace = True)"
   ]
  },
  {
   "cell_type": "code",
   "execution_count": null,
   "metadata": {},
   "outputs": [],
   "source": [
    "sort = list(df[\"항목명\"].unique())\n",
    "\n",
    "dic = {i:[\"-\"]*1801 for i in sort}"
   ]
  },
  {
   "cell_type": "code",
   "execution_count": null,
   "metadata": {},
   "outputs": [],
   "source": [
    "a = df[df[\"회사명\"] == \"3S\"][[\"항목명\", \"당기\"]].T\n",
    "a.rename(columns = a.iloc[0,:], inplace = True)\n",
    "a.drop(index = \"항목명\", inplace = True)"
   ]
  },
  {
   "cell_type": "code",
   "execution_count": null,
   "metadata": {},
   "outputs": [],
   "source": [
    "a\n",
    "idx = 0\n",
    "for i in range(len(a.columns)):\n",
    "    dic[a.columns[i]][0] = a.iloc[0, i]"
   ]
  },
  {
   "cell_type": "code",
   "execution_count": null,
   "metadata": {},
   "outputs": [],
   "source": [
    "lst = []\n",
    "for i in sort:\n",
    "    if dic[i][0] != \"-\":\n",
    "        lst.append(i)"
   ]
  },
  {
   "cell_type": "code",
   "execution_count": null,
   "metadata": {},
   "outputs": [],
   "source": [
    "lst.append(0)\n",
    "lst.append(0)\n",
    "pd.DataFrame({\"3S\":a.columns, \"lst\":lst})\n",
    "# 금융리스부채"
   ]
  },
  {
   "cell_type": "code",
   "execution_count": null,
   "metadata": {},
   "outputs": [],
   "source": [
    "a.drop(\"회사명\", axis = 1, inplace=True)\n",
    "a.reset_index(drop = True, inplace = True)"
   ]
  },
  {
   "cell_type": "code",
   "execution_count": null,
   "metadata": {},
   "outputs": [],
   "source": [
    "b = pd.DataFrame({\"회사명\":[\"3S\"]})"
   ]
  },
  {
   "cell_type": "code",
   "execution_count": null,
   "metadata": {},
   "outputs": [],
   "source": [
    "pd.concat([b, a], axis = 1).to_csv(\"./data/3S전치행렬.csv\", encoding = \"euc-kr\", index = False)"
   ]
  },
  {
   "cell_type": "code",
   "execution_count": null,
   "metadata": {},
   "outputs": [],
   "source": [
    "# 회사명 \n",
    "company = list(df[\"회사명\"].unique())\n",
    "\n",
    "col_num = []\n",
    "col_num_name = []\n",
    "for idx, name in enumerate(company):\n",
    "    a = df[df[\"회사명\"] == name][[\"항목명\", \"당기\"]].T\n",
    "    a.rename(columns = a.iloc[0,:], inplace = True)\n",
    "    a.drop(index = \"항목명\", inplace = True)\n",
    "    col_num.append(len(a.columns))\n",
    "    col_num_name.append(name)\n",
    "    \n",
    "# 가장 많은 항목명을 가진 회사\n",
    "for i in range(len(col_num)):\n",
    "    if col_num[i] == max(col_num):\n",
    "        print(col_num_name[i])"
   ]
  },
  {
   "cell_type": "code",
   "execution_count": null,
   "metadata": {},
   "outputs": [],
   "source": [
    "a = df[df[\"회사명\"] == \"농우바이오\"][[\"항목명\", \"당기\"]].T\n",
    "a.rename(columns = a.iloc[0,:], inplace = True)\n",
    "a.drop(index = \"항목명\", inplace = True)\n",
    "print(a)"
   ]
  },
  {
   "cell_type": "code",
   "execution_count": null,
   "metadata": {},
   "outputs": [],
   "source": [
    "# '      금융리스부채'\n",
    "# '      금융리스부채'(25,26, 34, 35)\n",
    "df[df[\"회사명\"] == \"3S\"].duplicated([\"항목명\"], keep = False)\n",
    "df[df[\"회사명\"] == \"3S\"][\"항목명\"][[25,26, 34, 35]]"
   ]
  },
  {
   "cell_type": "code",
   "execution_count": null,
   "metadata": {},
   "outputs": [],
   "source": [
    "a = pd.DataFrame({\"a\":[1, 3, 4, 5, 1]})\n",
    "a.duplicated(\"a\", keep = False)"
   ]
  },
  {
   "cell_type": "code",
   "execution_count": null,
   "metadata": {},
   "outputs": [],
   "source": [
    "df[\"항목명\"].unique()"
   ]
  },
  {
   "cell_type": "code",
   "execution_count": null,
   "metadata": {},
   "outputs": [],
   "source": [
    "df[\"항목명\"][0]"
   ]
  },
  {
   "cell_type": "code",
   "execution_count": null,
   "metadata": {
    "scrolled": true
   },
   "outputs": [],
   "source": [
    "lst1_대분류 = []\n",
    "for i in range(len(df[\"항목명\"])):\n",
    "    if df[\"항목명\"][i][0] != \" \" and df[\"당기\"].isnull()[i] == True:\n",
    "        lst1_대분류.append(df[\"항목명\"][i])\n",
    "        \n",
    "print(set(lst1_대분류))\n",
    "pd.DataFrame({\"대분류\":lst1_대분류})[\"대분류\"].unique()"
   ]
  },
  {
   "cell_type": "code",
   "execution_count": null,
   "metadata": {},
   "outputs": [],
   "source": [
    "lst_중분류 = []\n",
    "for i in range(len(df[\"항목명\"])):\n",
    "    if df[\"항목명\"][i][:3] == \"   \" and df[\"당기\"].isnull()[i] == True:\n",
    "        lst_중분류.append(df[\"항목명\"][i])\n",
    "        \n",
    "print(set(lst1))\n",
    "pd.DataFrame({\"대분류\":lst_중분류})[\"대분류\"].unique()"
   ]
  },
  {
   "cell_type": "code",
   "execution_count": null,
   "metadata": {},
   "outputs": [],
   "source": [
    "df[[\"항목코드\", \"항목명\"]].iloc[:40, :]"
   ]
  },
  {
   "cell_type": "code",
   "execution_count": null,
   "metadata": {},
   "outputs": [],
   "source": [
    "# 항목코드 중복 확인\n",
    "lst_entity_코드 = []\n",
    "lst_entity_명 = []\n",
    "lst_without_entity_코드 = []\n",
    "lst_without_entity_명 = []\n",
    "\n",
    "# 각 리스트에 코드 및 코드명 append\n",
    "for idx in range(len(df)):\n",
    "    if \"entity\" in df[\"항목코드\"][idx]:\n",
    "        lst_entity_코드.append(df[\"항목코드\"][idx])\n",
    "        lst_entity_명.append(df[\"항목명\"][idx])\n",
    "    else:\n",
    "        lst_without_entity_코드.append(df[\"항목코드\"][idx])\n",
    "        lst_without_entity_명.append(df[\"항목명\"][idx])\n",
    "        \n",
    "# !entity 코드 딕셔너리\n",
    "dic_without_entity = {lst_without_entity_코드[idx]:[] for idx in range(len(lst_without_entity_코드))}\n",
    "\n",
    "for i, j in zip(lst_without_entity_코드, lst_without_entity_명):\n",
    "    dic_without_entity[i].append(j)\n",
    "    \n",
    "check_duplication = {i:len(set(j)) for i, j in dic_without_entity.items()}\n",
    "check_duplication"
   ]
  },
  {
   "cell_type": "code",
   "execution_count": null,
   "metadata": {},
   "outputs": [],
   "source": [
    "for idx in range(len(df)):\n",
    "    if \"NoncurrentAssetsOrDisposalGroupsClassifiedAsHeldForSaleOrAsHeldForDistributionToOwners\" in df[\"항목코드\"][idx]:\n",
    "        print(\"항목코드 =\", df[\"항목코드\"][idx], \"항목명 =\", df[\"항목명\"][idx], \"idx =\", idx)"
   ]
  },
  {
   "cell_type": "code",
   "execution_count": null,
   "metadata": {},
   "outputs": [],
   "source": [
    "df[df[\"회사명\"] == \"케어젠\"]"
   ]
  },
  {
   "cell_type": "code",
   "execution_count": null,
   "metadata": {},
   "outputs": [],
   "source": []
  }
 ],
 "metadata": {
  "kernelspec": {
   "display_name": "Python 3",
   "language": "python",
   "name": "python3"
  },
  "language_info": {
   "codemirror_mode": {
    "name": "ipython",
    "version": 3
   },
   "file_extension": ".py",
   "mimetype": "text/x-python",
   "name": "python",
   "nbconvert_exporter": "python",
   "pygments_lexer": "ipython3",
   "version": "3.7.7"
  }
 },
 "nbformat": 4,
 "nbformat_minor": 4
}
