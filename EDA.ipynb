{
 "cells": [
  {
   "cell_type": "code",
   "execution_count": 1,
   "metadata": {},
   "outputs": [],
   "source": [
    "import pandas as pd\n",
    "import numpy as np\n",
    "import matplotlib.pyplot as plt\n",
    "import seaborn as sns\n",
    "import re"
   ]
  },
  {
   "cell_type": "code",
   "execution_count": 57,
   "metadata": {},
   "outputs": [],
   "source": [
    "data = pd.read_csv(\"./data/2015_사업보고서_01_재무상태표_20200515.txt\", sep = \"\\t\", encoding = \"cp949\")\n",
    "df = data.copy()"
   ]
  },
  {
   "cell_type": "code",
   "execution_count": 58,
   "metadata": {},
   "outputs": [
    {
     "name": "stdout",
     "output_type": "stream",
     "text": [
      "재무제표종류             0\n",
      "종목코드               0\n",
      "회사명                0\n",
      "시장구분               0\n",
      "업종                 0\n",
      "업종명                0\n",
      "결산월                0\n",
      "결산기준일              0\n",
      "보고서종류              0\n",
      "통화                 0\n",
      "항목코드               0\n",
      "항목명                0\n",
      "당기              8270\n",
      "전기              8905\n",
      "전전기             9621\n",
      "Unnamed: 15    77067\n",
      "dtype: int64\n",
      "<class 'pandas.core.frame.DataFrame'>\n",
      "RangeIndex: 77067 entries, 0 to 77066\n",
      "Data columns (total 16 columns):\n",
      " #   Column       Non-Null Count  Dtype  \n",
      "---  ------       --------------  -----  \n",
      " 0   재무제표종류       77067 non-null  object \n",
      " 1   종목코드         77067 non-null  object \n",
      " 2   회사명          77067 non-null  object \n",
      " 3   시장구분         77067 non-null  object \n",
      " 4   업종           77067 non-null  int64  \n",
      " 5   업종명          77067 non-null  object \n",
      " 6   결산월          77067 non-null  int64  \n",
      " 7   결산기준일        77067 non-null  object \n",
      " 8   보고서종류        77067 non-null  object \n",
      " 9   통화           77067 non-null  object \n",
      " 10  항목코드         77067 non-null  object \n",
      " 11  항목명          77067 non-null  object \n",
      " 12  당기           68797 non-null  object \n",
      " 13  전기           68162 non-null  object \n",
      " 14  전전기          67446 non-null  object \n",
      " 15  Unnamed: 15  0 non-null      float64\n",
      "dtypes: float64(1), int64(2), object(13)\n",
      "memory usage: 9.4+ MB\n",
      "None\n"
     ]
    }
   ],
   "source": [
    "print(df.isnull().sum())\n",
    "# 결측치 처리 필요!\n",
    "print(df.info())"
   ]
  },
  {
   "cell_type": "code",
   "execution_count": 59,
   "metadata": {},
   "outputs": [
    {
     "data": {
      "text/plain": [
       "'재무제표종류 종목코드 회사명 시장구분 업종 업종명 결산월 결산기준일 보고서종류 통화 항목코드 항목명 당기 전기 전전기 Unnamed: 15'"
      ]
     },
     "execution_count": 59,
     "metadata": {},
     "output_type": "execute_result"
    }
   ],
   "source": [
    "# 변수 \n",
    "# 재무제표종류 종목코드 회사명 시장구분 업종 업종명 결산월 결산기준일 \n",
    "# 보고서종류 통화 항목코드 항목명 당기 전기 전전기 Unnamed: 15\n",
    "\" \".join(df.columns)"
   ]
  },
  {
   "cell_type": "code",
   "execution_count": 60,
   "metadata": {},
   "outputs": [
    {
     "name": "stdout",
     "output_type": "stream",
     "text": [
      "['재무상태표, 유동/비유동법-별도재무제표' '재무상태표, 유동성배열법-별도재무제표']\n",
      "재무상태표, 유동/비유동법-별도재무제표    76661\n",
      "재무상태표, 유동성배열법-별도재무제표       406\n",
      "Name: 재무제표종류, dtype: int64\n"
     ]
    }
   ],
   "source": [
    "# 재무제표종류\n",
    "print(df[\"재무제표종류\"].unique())\n",
    "print(df[\"재무제표종류\"].value_counts())"
   ]
  },
  {
   "cell_type": "code",
   "execution_count": 61,
   "metadata": {},
   "outputs": [
    {
     "name": "stdout",
     "output_type": "stream",
     "text": [
      "1800\n",
      "[054050]    210\n",
      "[036460]    150\n",
      "[095720]    126\n",
      "[001790]    125\n",
      "[052690]    124\n",
      "           ... \n",
      "[208870]     20\n",
      "[218150]     20\n",
      "[208370]     20\n",
      "[222080]     20\n",
      "[230240]     19\n",
      "Name: 종목코드, Length: 1800, dtype: int64\n"
     ]
    }
   ],
   "source": [
    "# 종목코드 : 한국거래소에서 관리하는 회사코드로 6자리로 구성\n",
    "print(len(df[\"종목코드\"].unique()))\n",
    "print(df[\"종목코드\"].value_counts())"
   ]
  },
  {
   "cell_type": "code",
   "execution_count": 62,
   "metadata": {},
   "outputs": [
    {
     "name": "stdout",
     "output_type": "stream",
     "text": [
      "1801\n",
      "농우바이오         210\n",
      "한국가스공사        150\n",
      "웅진씽크빅         126\n",
      "대한제당          125\n",
      "한전기술          124\n",
      "             ... \n",
      "하나머스트4호스팩      20\n",
      "하나머스트5호스팩      20\n",
      "한국3호스팩         20\n",
      "하나머스트2호스팩      20\n",
      "하나금융7호SPAC     19\n",
      "Name: 회사명, Length: 1801, dtype: int64\n"
     ]
    }
   ],
   "source": [
    "# 회사명 : 제출인의 회사명칭\n",
    "print(len(df[\"회사명\"].unique()))\n",
    "print(df[\"회사명\"].value_counts())"
   ]
  },
  {
   "cell_type": "code",
   "execution_count": 63,
   "metadata": {},
   "outputs": [
    {
     "name": "stdout",
     "output_type": "stream",
     "text": [
      "['코스닥시장상장법인' '유가증권시장상장법인']\n"
     ]
    }
   ],
   "source": [
    "# 시장구분 : 유가증권시장상장법인, 코스닥시장상장법인(Kosdaq)\n",
    "# 유가증권시장상장법인 : Kospi\n",
    "# 코스닥 시장은 IT(Information technology), BT(Bio technology), CT(Culture technology) \n",
    "# 기업과 벤처기업의 자금조달을 목적으로 1996년 7월 개설된 첨단 벤처기업 중심 시장입니다.\n",
    "print(df[\"시장구분\"].unique())"
   ]
  },
  {
   "cell_type": "code",
   "execution_count": 64,
   "metadata": {},
   "outputs": [
    {
     "name": "stdout",
     "output_type": "stream",
     "text": [
      "전자부품 제조업              4731\n",
      "특수 목적용 기계 제조업         4151\n",
      "자동차 부품 제조업            3576\n",
      "소프트웨어 개발 및 공급업        3254\n",
      "의약품 제조업               3033\n",
      "                      ... \n",
      "그외 기타 운송장비 제조업          34\n",
      "소화물 전문 운송업              34\n",
      "자동차 부품 및 내장품 판매업        33\n",
      "인형,장난감 및 오락용품 제조업       32\n",
      "과실, 채소 가공 및 저장 처리업      32\n",
      "Name: 업종명, Length: 155, dtype: int64\n",
      "262    4731\n",
      "292    4151\n",
      "303    3651\n",
      "582    3254\n",
      "212    3033\n",
      "       ... \n",
      "26       35\n",
      "494      34\n",
      "452      33\n",
      "334      32\n",
      "103      32\n",
      "Name: 업종, Length: 145, dtype: int64\n",
      "                                업종명    합계  업종\n",
      "32               유원지 및 기타 오락관련 서비스업    42 NaN\n",
      "33                           건물 건설업    42 NaN\n",
      "79                       소화물 전문 운송업   114 NaN\n",
      "90                     방적 및 가공사 제조업   123 NaN\n",
      "91                      1차 비철금속 제조업   124 NaN\n",
      "143                           어로 어업   367 NaN\n",
      "152                    그외 기타 제품 제조업   468 NaN\n",
      "180  전동기, 발전기 및 전기 변환ㆍ 공급ㆍ제어 장치 제조업  1121 NaN\n",
      "184             건축자재, 철물 및 난방장치 도매업  1671 NaN\n",
      "189                    기타 상품 전문 소매업  2647 NaN\n",
      "193                     제재 및 목재 가공업  3576 NaN\n",
      "     업종명    합계   업종\n",
      "185  NaN    70  303\n",
      "186  NaN   320   26\n",
      "187  NaN   451   72\n",
      "188  NaN   503  320\n",
      "189  NaN   598  339\n",
      "190  NaN  1235  753\n",
      "191  NaN  1713  382\n",
      "192  NaN  2688  120\n",
      "193  NaN  3651  351\n"
     ]
    }
   ],
   "source": [
    "# 업종, 업종명\n",
    "# 통계청 통계분류 포털 : https://kssc.kostat.go.kr:8443/ksscNew_web/link.do?gubun=001\n",
    "print(df[\"업종명\"].value_counts())\n",
    "company_name = df[\"업종명\"].unique()\n",
    "company_name_sum = df[\"업종명\"].value_counts().sort_values()\n",
    "df_company_name = pd.DataFrame({\"업종명\":company_name, \"합계\":company_name_sum})\n",
    "\n",
    "# 업종\n",
    "print(df[\"업종\"].value_counts())\n",
    "company = df[\"업종\"].unique()\n",
    "company_sum = df[\"업종\"].value_counts().sort_values()\n",
    "df_company = pd.DataFrame({\"업종\":company, \"합계\":company_sum})\n",
    "\n",
    "# 업종과 업종명이 다른 행 추출\n",
    "com_left = pd.merge(df_company_name, df_company, how = \"left\")\n",
    "print(com_left[com_left[\"업종\"].isnull()])\n",
    "\n",
    "com_right = pd.merge(df_company_name, df_company, how = \"right\")\n",
    "print(com_right[com_right[\"업종명\"].isnull()])\n",
    "\n",
    "# 업종 != 업종명 처리방법 회의 필요"
   ]
  },
  {
   "cell_type": "code",
   "execution_count": 65,
   "metadata": {},
   "outputs": [
    {
     "name": "stdout",
     "output_type": "stream",
     "text": [
      "[ 3 12  9  6  5  8  4 11]\n",
      "['2015-03-31' '2015-12-31' '2015-09-30' '2015-06-30' '2015-05-31'\n",
      " '2015-08-31' '2015-04-30' '2015-10-31' '2015-11-30']\n"
     ]
    }
   ],
   "source": [
    "# 결산월, 결산기준일\n",
    "print(df[\"결산월\"].unique())\n",
    "print(df[\"결산기준일\"].unique())"
   ]
  },
  {
   "cell_type": "code",
   "execution_count": 66,
   "metadata": {},
   "outputs": [
    {
     "name": "stdout",
     "output_type": "stream",
     "text": [
      "['사업보고서']\n"
     ]
    }
   ],
   "source": [
    "# 보고서종류\n",
    "print(df[\"보고서종류\"].unique())"
   ]
  },
  {
   "cell_type": "code",
   "execution_count": 67,
   "metadata": {},
   "outputs": [],
   "source": [
    "# 통화 : 필요 없는 변수\n",
    "# 항목코드 : 계정과목코드\n",
    "# ifrs_xxx : 국제 기준\n",
    "# dart_xxx : 국제 기준을 수정\n",
    "# entity_xxx : 신규회사"
   ]
  },
  {
   "cell_type": "code",
   "execution_count": 68,
   "metadata": {},
   "outputs": [],
   "source": [
    "df[df[\"전전기\"].isnull()].to_csv(\"./data/결측치확인.csv\", index = False,encoding = 'utf-8')\n",
    "no = df[df[\"전전기\"].isnull()]\n",
    "no_lst = no[\"항목명\"].unique()\n",
    "no_big_classifier = []\n",
    "for i in no_lst:\n",
    "    if \"[\" not in i:\n",
    "        no_big_classifier.append(i)"
   ]
  },
  {
   "cell_type": "code",
   "execution_count": 69,
   "metadata": {},
   "outputs": [],
   "source": [
    "# no_big_classifier : "
   ]
  },
  {
   "cell_type": "code",
   "execution_count": 70,
   "metadata": {},
   "outputs": [],
   "source": [
    "# data\n",
    "df[\"당기\"] = df[\"당기\"].str.replace(\",\", \"\")\n",
    "df[\"전기\"] = df[\"전기\"].str.replace(\",\", \"\")\n",
    "df[\"전전기\"] = df[\"전전기\"].str.replace(\",\", \"\")\n",
    "df[[\"당기\", \"전기\", \"전전기\"]] = df[[\"당기\", \"전기\", \"전전기\"]].astype(np.float32)"
   ]
  },
  {
   "cell_type": "code",
   "execution_count": 71,
   "metadata": {},
   "outputs": [],
   "source": [
    "# 필요 없는 변수 제거\n",
    "df.drop(\"통화\", axis = 1, inplace = True)\n",
    "df.drop(\"종목코드\", axis = 1, inplace = True)\n",
    "df.drop(\"Unnamed: 15\", axis = 1, inplace = True)"
   ]
  },
  {
   "cell_type": "code",
   "execution_count": 72,
   "metadata": {},
   "outputs": [],
   "source": [
    "sort = list(df[\"항목명\"].unique())\n",
    "\n",
    "dic = {i:[\"-\"]*1801 for i in sort}"
   ]
  },
  {
   "cell_type": "code",
   "execution_count": 73,
   "metadata": {},
   "outputs": [],
   "source": [
    "a = df[df[\"회사명\"] == \"3S\"][[\"항목명\", \"당기\"]].T\n",
    "a.rename(columns = a.iloc[0,:], inplace = True)\n",
    "a.drop(index = \"항목명\", inplace = True)"
   ]
  },
  {
   "cell_type": "code",
   "execution_count": null,
   "metadata": {},
   "outputs": [],
   "source": [
    "a\n",
    "idx = 0\n",
    "for i in range(len(a.columns)):\n",
    "    dic[a.columns[i]][0] = a.iloc[0, i]"
   ]
  },
  {
   "cell_type": "code",
   "execution_count": null,
   "metadata": {},
   "outputs": [],
   "source": [
    "lst = []\n",
    "for i in sort:\n",
    "    if dic[i][0] != \"-\":\n",
    "        lst.append(i)"
   ]
  },
  {
   "cell_type": "code",
   "execution_count": null,
   "metadata": {},
   "outputs": [],
   "source": [
    "lst.append(0)\n",
    "lst.append(0)\n",
    "pd.DataFrame({\"3S\":a.columns, \"lst\":lst})\n",
    "# 금융리스부채"
   ]
  },
  {
   "cell_type": "code",
   "execution_count": null,
   "metadata": {},
   "outputs": [],
   "source": [
    "a.drop(\"회사명\", axis = 1, inplace=True)\n",
    "a.reset_index(drop = True, inplace = True)"
   ]
  },
  {
   "cell_type": "code",
   "execution_count": null,
   "metadata": {},
   "outputs": [],
   "source": [
    "b = pd.DataFrame({\"회사명\":[\"3S\"]})"
   ]
  },
  {
   "cell_type": "code",
   "execution_count": null,
   "metadata": {},
   "outputs": [],
   "source": [
    "pd.concat([b, a], axis = 1).to_csv(\"./data/3S전치행렬.csv\", encoding = \"euc-kr\", index = False)"
   ]
  },
  {
   "cell_type": "code",
   "execution_count": null,
   "metadata": {},
   "outputs": [],
   "source": [
    "# 회사명 \n",
    "company = list(df[\"회사명\"].unique())\n",
    "\n",
    "col_num = []\n",
    "col_num_name = []\n",
    "for idx, name in enumerate(company):\n",
    "    a = df[df[\"회사명\"] == name][[\"항목명\", \"당기\"]].T\n",
    "    a.rename(columns = a.iloc[0,:], inplace = True)\n",
    "    a.drop(index = \"항목명\", inplace = True)\n",
    "    col_num.append(len(a.columns))\n",
    "    col_num_name.append(name)\n",
    "    \n",
    "# 가장 많은 항목명을 가진 회사\n",
    "for i in range(len(col_num)):\n",
    "    if col_num[i] == max(col_num):\n",
    "        print(col_num_name[i])"
   ]
  },
  {
   "cell_type": "code",
   "execution_count": null,
   "metadata": {},
   "outputs": [],
   "source": [
    "a = df[df[\"회사명\"] == \"농우바이오\"][[\"항목명\", \"당기\"]].T\n",
    "a.rename(columns = a.iloc[0,:], inplace = True)\n",
    "a.drop(index = \"항목명\", inplace = True)\n",
    "print(a)"
   ]
  },
  {
   "cell_type": "code",
   "execution_count": null,
   "metadata": {},
   "outputs": [],
   "source": [
    "# '      금융리스부채'\n",
    "# '      금융리스부채'(25,26, 34, 35)\n",
    "df[df[\"회사명\"] == \"3S\"].duplicated([\"항목명\"], keep = False)\n",
    "df[df[\"회사명\"] == \"3S\"][\"항목명\"][[25,26, 34, 35]]"
   ]
  },
  {
   "cell_type": "code",
   "execution_count": null,
   "metadata": {},
   "outputs": [],
   "source": [
    "a = pd.DataFrame({\"a\":[1, 3, 4, 5, 1]})\n",
    "a.duplicated(\"a\", keep = False)"
   ]
  },
  {
   "cell_type": "code",
   "execution_count": null,
   "metadata": {},
   "outputs": [],
   "source": [
    "df[\"항목명\"].unique()"
   ]
  },
  {
   "cell_type": "code",
   "execution_count": null,
   "metadata": {},
   "outputs": [],
   "source": [
    "df[\"항목명\"][0]"
   ]
  },
  {
   "cell_type": "code",
   "execution_count": null,
   "metadata": {
    "scrolled": true
   },
   "outputs": [],
   "source": [
    "lst1_대분류 = []\n",
    "for i in range(len(df[\"항목명\"])):\n",
    "    if df[\"항목명\"][i][0] != \" \" and df[\"당기\"].isnull()[i] == True:\n",
    "        lst1_대분류.append(df[\"항목명\"][i])\n",
    "        \n",
    "print(set(lst1_대분류))\n",
    "pd.DataFrame({\"대분류\":lst1_대분류})[\"대분류\"].unique()"
   ]
  },
  {
   "cell_type": "code",
   "execution_count": null,
   "metadata": {},
   "outputs": [],
   "source": [
    "lst_중분류 = []\n",
    "for i in range(len(df[\"항목명\"])):\n",
    "    if df[\"항목명\"][i][:3] == \"   \" and df[\"당기\"].isnull()[i] == True:\n",
    "        lst_중분류.append(df[\"항목명\"][i])\n",
    "        \n",
    "print(set(lst1))\n",
    "pd.DataFrame({\"대분류\":lst_중분류})[\"대분류\"].unique()"
   ]
  },
  {
   "cell_type": "code",
   "execution_count": null,
   "metadata": {},
   "outputs": [],
   "source": [
    "df[[\"항목코드\", \"항목명\"]].iloc[:40, :]"
   ]
  },
  {
   "cell_type": "code",
   "execution_count": null,
   "metadata": {},
   "outputs": [],
   "source": [
    "# 항목코드 중복 확인\n",
    "lst_entity_코드 = []\n",
    "lst_entity_명 = []\n",
    "lst_without_entity_코드 = []\n",
    "lst_without_entity_명 = []\n",
    "\n",
    "# 각 리스트에 코드 및 코드명 append\n",
    "for idx in range(len(df)):\n",
    "    if \"entity\" in df[\"항목코드\"][idx]:\n",
    "        lst_entity_코드.append(df[\"항목코드\"][idx])\n",
    "        lst_entity_명.append(df[\"항목명\"][idx])\n",
    "    else:\n",
    "        lst_without_entity_코드.append(df[\"항목코드\"][idx])\n",
    "        lst_without_entity_명.append(df[\"항목명\"][idx])\n",
    "        \n",
    "# !entity 코드 딕셔너리\n",
    "dic_without_entity = {lst_without_entity_코드[idx]:[] for idx in range(len(lst_without_entity_코드))}\n",
    "\n",
    "for i, j in zip(lst_without_entity_코드, lst_without_entity_명):\n",
    "    dic_without_entity[i].append(j)\n",
    "    \n",
    "check_duplication = {i:len(set(j)) for i, j in dic_without_entity.items()}\n",
    "check_duplication"
   ]
  },
  {
   "cell_type": "code",
   "execution_count": null,
   "metadata": {},
   "outputs": [],
   "source": [
    "dic_without_entity"
   ]
  },
  {
   "cell_type": "code",
   "execution_count": null,
   "metadata": {},
   "outputs": [],
   "source": [
    "for idx in range(len(df)):\n",
    "    if \"NoncurrentAssetsOrDisposalGroupsClassifiedAsHeldForSaleOrAsHeldForDistributionToOwners\" in df[\"항목코드\"][idx]:\n",
    "        print(\"항목코드 =\", df[\"항목코드\"][idx], \"항목명 =\", df[\"항목명\"][idx], \"idx =\", idx)"
   ]
  },
  {
   "cell_type": "code",
   "execution_count": null,
   "metadata": {},
   "outputs": [],
   "source": [
    "dic_entity_코드_명 = {lst_entity_코드[idx]:[] for idx in range(len(lst_entity_코드))}\n",
    "\n",
    "for i, j in zip(lst_entity_코드, lst_entity_명):\n",
    "    dic_entity[i].append(j)\n",
    "    \n",
    "dic_entity_코드_명"
   ]
  },
  {
   "cell_type": "code",
   "execution_count": null,
   "metadata": {},
   "outputs": [],
   "source": [
    "dic_entity_명_코드 = {lst_entity_명[idx]:[] for idx in range(len(lst_entity_명))}\n",
    "\n",
    "for i, j in zip(lst_entity_명, lst_entity_코드):\n",
    "    dic_entity_명_코드[i].append(j)\n",
    "    \n",
    "dic_entity_명_코드"
   ]
  },
  {
   "cell_type": "code",
   "execution_count": 54,
   "metadata": {},
   "outputs": [],
   "source": [
    "elementid = pd.read_excel(\"./data/재무제표양식.xlsx\", encoding = \"utf-8\", sheet_name=\"BS1\")\n",
    "# '한글 Label', 'Element ID'\n",
    "df_element = elementid[['한글 Label', 'Element ID']]\n",
    "df_element = df_element[df_element[\"Element ID\"].notnull()]\n",
    "\n",
    "df_element.columns = df_element.columns.str.replace(\" \", \"_\")\n",
    "lst_element = df_element[\"Element_ID\"].unique()\n",
    "\n",
    "re_lst_element = []\n",
    "for i in lst_element:\n",
    "    a = re.sub(\"[a-z]{1,}-[a-z]{1,}\", \"\", i)\n",
    "    b = re.sub(\"[dart]\", \"\", a)\n",
    "    re_lst_element.append(b)\n",
    "\n",
    "dic_element = {i:[] for i in re_lst_element}\n",
    "for i, j in zip(re_lst_element, df_element[\"한글_Label\"]):\n",
    "    dic_element[i].append(j)"
   ]
  },
  {
   "cell_type": "code",
   "execution_count": 90,
   "metadata": {},
   "outputs": [
    {
     "name": "stdout",
     "output_type": "stream",
     "text": [
      "항목코드    ifrs_AssetsAbstract\n",
      "항목명           자산 [abstract]\n",
      "Name: 0, dtype: object\n",
      "{'_SemenOfFinncilPosiionAbsc': ['재무상태표 [abstract]'], '_AssesAbsc': ['자산 [abstract]'], '_CuenAsses': ['유동자산'], '_CshAnCshEquivlens': ['현금및현금성자산'], '_Csh': ['현금'], '_CshEquivlens': ['현금성자산'], '_GovenmenGnsCshAnCshEquivlensGoss': ['정부보조금'], '_ShoTemDeposisNoClssifieAsCshEquivlens': ['단기금융상품'], '_TeAnOheCuenReceivbles': ['매출채권 및 기타유동채권'], '_ShoTemTeReceivble': ['매출채권'], '_AllownceFoDoubfulAcccounShoTemTeReceivble': ['대손충당금'], '_CuenFinnceLeseReceivbles': ['단기금융리스채권'], '_AllownceFoDoubfulAcccounCuenFinnceLeseReceivbles': ['대손충당금'], '_ShoTemDefeeAncillyIncomeFoLons': ['단기이연대출부대수익'], '_AllownceFoDoubfulAcccounShoTemDefeeAncillyIncomeFoLons': ['대손충당금'], '_ShoTemOheReceivbles': ['단기미수금'], '_AllownceFoDoubfulAcccounShoTemOheReceivbles': ['대손충당금'], '_ReceivblesOnConsucionConcs': ['공사미수금'], '_AllownceFoDoubfulAcccounReceivblesOnConsucionConcs': ['대손충당금'], '_ReceivblesReleseSles': ['분양미수금'], '_AllownceFoDoubfulAcccounReceivblesReleseSles': ['대손충당금'], '_ReceivblesAgen': ['대행미수금'], '_AllownceFoDoubfulAcccounReceivblesAgen': ['대손충당금'], '_ShoTemAccueIncome': ['단기미수수익'], '_AllownceFoDoubfulAcccounShoTemAccueIncome': ['대손충당금'], '_ShoTemDeposisPovie': ['단기보증금자산'], '_AllownceFoDoubfulAcccounShoTemDeposisPovie': ['대손충당금'], '_ShoTemAvncePymens': ['단기선급금'], '_AllownceFoDoubfulAcccounShoTemAvncePymens': ['대손충당금'], '_CuenVlueAeTxReceivbles': ['부가가치세대급금'], '_ShoTemPepiExpenses': ['단기선급비용'], '_AllownceFoDoubfulAcccounShoTemPepiExpenses': ['대손충당금'], '_ShoTemPepiConsucionCoss': ['단기선급공사원가'], '_AllownceFoDoubfulAcccounShoTemPepiConsucionCoss': ['대손충당금'], '_LeseholDeposis': ['단기임차보증금'], '_AllownceFoDoubfulAcccounLeseholDeposis': ['대손충당금'], '_ShoTemConcReseve': ['단기공사유보금'], '_CuenWokouReceivble': ['유동회생채권'], '_ShoTemDueFomCusomesFoConcWok': ['단기미청구공사'], '_AllownceFoDoubfulAcccounShoTemDueFomCusomesFoConcWok': ['대손충당금'], '_CuenConcAsses': ['유동계약자산'], '_ShoTemLons': ['단기대여금'], '_AllownceFoDoubfulAcccounShoTemLons': ['대손충당금'], '_CuenTxAsses': ['당기법인세자산'], '_Invenoies': ['재고자산'], '_RwMeilsGoss': ['원재료'], '_AccumuleImpimenLossRwMeilsGoss': ['평가충당금'], '_ExpeimenMeilGoss': ['시험재료'], '_AccumuleImpimenLossExpeimenMeilGoss': ['평가충당금'], '_MechniseGoss': ['상품'], '_AccumuleImpimenLossMechniseGoss': ['평가충당금'], '_PoucionSuppliesGoss': ['소모품'], '_AccumuleImpimenLossPoucionSuppliesGoss': ['평가충당금'], '_WokInPogessGoss': ['재공품'], '_AccumuleImpimenLossWokInPogessGoss': ['평가충당금'], '_FinisheGoosGoss': ['제품'], '_AccumuleImpimenLossFinisheGoosGoss': ['평가충당금'], '_SemiFinisheGoosGoss': ['반제품'], '_AccumuleImpimenLossSemiFinisheGoosGoss': ['평가충당금'], '_SuppliesGoss': ['저장품'], '_AccumuleImpimenLossSuppliesGoss': ['평가충당금'], '_GoosInTnsiGoss': ['미착품'], '_AccumuleImpimenLossGoosInTnsiGoss': ['평가충당금'], '_ByPoucGoss': ['부산물'], '_AccumuleImpimenLossByPoucGoss': ['평가충당금'], '_FinisheHousingGoss': ['완성주택'], '_AccumuleImpimenLossFinisheHousingGoss': ['평가충당금'], '_LoGoss': ['용지'], '_AccumuleImpimenLossLoGoss': ['평가충당금'], '_OheInvenoiesGoss': ['기타재고'], '_AccumuleImpimenLossOheInvenoiesGoss': ['평가충당금'], '_OheCuenFinncilAsses': ['기타유동금융자산'], '_CuenAvilbleFoSleFinncilAsses': ['유동매도가능금융자산'], '_CuenFinncilAssesMesueAFiVlueThoughOheCompehensiveIncome': ['유동 기타포괄손익-공정가치 측정 금융자산'], '_CuenInvesmensInEquiyInsumensDesigneAFiVlueThoughOheCompehensiveIncome': ['유동 기타포괄손익-공정가치 측정 지정 지분상품 투자'], '_CuenFinncilAssesHelToMuiy': ['유동만기보유금융자산'], '_CuenFinncilAssesAAmoiseCos': ['유동 상각후원가 측정 금융자산'], '_CuenFinncilAsseHelFoTing': ['유동단기매매금융자산'], '_CuenFinncilAssesAFiVlueThoughPofiOLossMnoilyMesueAFiVlue': ['유동 당기손익-공정가치 의무 측정 금융자산'], '_CuenFinncilAsseDesignionAsAFiVlueThoughPofiOLoss': ['유동당기손익인식지정금융자산'], '_CuenFinncilAssesAFiVlueThoughPofiOLossDesigneUponIniilRecogniion': ['유동 당기손익-공정가치 측정 지정 금융자산'], '_CuenDeiviveAsse': ['유동파생상품자산'], '_CuenFimCommimenAsse': ['유동확정계약자산'], '_CuenBiologiclAssesGoss': ['유동생물자산'], '_GovenmenGnsCuenBiologiclAssesGoss': ['정부보조금'], '_AccumuleDepeciionCuenBiologiclAssesGoss': ['감가상각누계액'], '_AccumuleImpimenLossCuenBiologiclAssesGoss': ['손상차손누계액'], '_OheCuenAsses': ['기타유동자산'], '_CuenEmissionRigh': ['유동배출권'], '_GovenmenGnsCuenEmissionRigh': ['정부보조금'], '_AccumuleImpimenLossCuenEmissionRigh': ['손상차손누계액'], '_CuenNoncshAssesPlegeAsCollelFoWhichTnsfeeeHsRighByConcOCusomToSellOReplegeCollel': ['양수자가 계약이나 관행에 따라 담보물을 매도하거나 다시 담보로 제공할 권리를 가지고 있는 유동 비현금담보물'], '_NoncuenAssesODisposlGoupsClssifieAsHelFoSleOAsHelFoDisibuionToOwnes': ['매각예정 또는 소유주에 대한 분배예정으로 분류된 비유동자산이나 처분자산집단'], '_NoncuenAsses': ['비유동자산'], '_LongTemDeposisNoClssifieAsCshEquivlens': ['장기금융상품'], '_LongTemTeAnOheNonCuenReceivblesGoss': ['장기매출채권 및 기타비유동채권'], '_LongTemTeReceivblesGoss': ['장기매출채권'], '_PesenVlueDiscounsLongTemTeReceivblesGoss': ['현재가치할인차금'], '_AllownceFoDoubfulAcccounLongTemTeReceivblesGoss': ['대손충당금'], '_NoncuenFinnceLeseReceivble': ['장기금융리스채권'], '_PesenVlueDiscounsNoncuenFinnceLeseReceivble': ['현재가치할인차금'], '_AllownceFoDoubfulAcccounNoncuenFinnceLeseReceivble': ['대손충당금'], '_LongTemDefeeAncillyIncomeFoLons': ['장기이연대출부대손익'], '_PesenVlueDiscounsLongTemDefeeAncillyIncomeFoLons': ['현재가치할인차금'], '_AllownceFoDoubfulAcccounLongTemDefeeAncillyIncomeFoLons': ['대손충당금'], '_LongTemOheReceivblesGoss': ['장기미수금'], '_PesenVlueDiscounsLongTemOheReceivblesGoss': ['현재가치할인차금'], '_AllownceFoDoubfulAcccounLongTemOheReceivblesGoss': ['대손충당금'], '_LongTemReceivblesOnConsucionConcs': ['장기공사미수금'], '_PesenVlueDiscounsLongTemReceivblesOnConsucionConcs': ['현재가치할인차금'], '_AllownceFoDoubfulAcccounLongTemReceivblesOnConsucionConcs': ['대손충당금'], '_LongTemReceivblesReleseSles': ['장기분양미수금'], '_PesenVlueDiscounsLongTemReceivblesReleseSles': ['현재가치할인차금'], '_AllownceFoDoubfulAcccounLongTemReceivblesReleseSles': ['대손충당금'], '_LongTemReceivblesAgen': ['장기대행미수금'], '_PesenVlueDiscounsLongTemReceivblesAgen': ['현재가치할인차금'], '_AllownceFoDoubfulAcccounLongTemReceivblesAgen': ['대손충당금'], '_LongTemAccueIncomeGoss': ['장기미수수익'], '_PesenVlueDiscounsLongTemAccueIncomeGoss': ['현재가치할인차금'], '_AllownceFoDoubfulAcccounLongTemAccueIncomeGoss': ['대손충당금'], '_LongTemDeposisPovieGoss': ['장기보증금자산'], '_PesenVlueDiscounsLongTemDeposisPovieGoss': ['현재가치할인차금'], '_AllownceFoDoubfulAcccounLongTemDeposisPovieGoss': ['대손충당금'], '_LongTemAvncePymensGoss': ['장기선급금'], '_PesenVlueDiscounsLongTemAvncePymensGoss': ['현재가치할인차금'], '_AllownceFoDoubfulAcccounLongTemAvncePymensGoss': ['대손충당금'], '_LongTemPepiExpenses': ['장기선급비용'], '_PesenVlueDiscounsLongTemPepiExpensesGoss': ['현재가치할인차금'], '_AllownceFoDoubfulAcccounLongTemPepiExpensesGoss': ['대손충당금'], '_LongTemLonsGoss': ['장기대여금'], '_PesenVlueDiscounsLongTemLonsGoss': ['현재가치할인차금'], '_AllownceFoDoubfulAcccounLongTemLonsGoss': ['대손충당금'], '_LongTemLeseholDeposis': ['장기임차보증금'], '_PesenVlueDiscounsLongTemLeseholDeposis': ['현재가치할인차금'], '_AllownceFoDoubfulAcccounLongTemLeseholDeposis': ['대손충당금'], '_LongTemDueFomCusomesFoConcWok': ['장기미청구공사'], '_PesenVlueDiscounsLongTemDueFomCusomesFoConcWok': ['현재가치할인차금'], '_AllownceFoDoubfulAcccounLongTemDueFomCusomesFoConcWok': ['대손충당금'], '_NoncuenConcAsses': ['비유동계약자산'], '_LongTemConcReseve': ['장기공사유보금'], '_PesenVlueDiscounsLongTemConcReseve': ['현재가치할인차금'], '_AllownceFoDoubfulAcccounLongTemConcReseve': ['대손충당금'], '_NonCuenWokouReceivble': ['비유동회생채권'], '_PopeyPlnAnEquipmen': ['유형자산'], '_LnGoss': ['토지'], '_GovenmenGnsLnGoss': ['정부보조금'], '_AccumuleImpimenLossLnGoss': ['손상차손누계액'], '_BuilingsGoss': ['건물'], '_GovenmenGnsBuilingsGoss': ['정부보조금'], '_AccumuleDepeciionBuilingsGoss': ['감가상각누계액'], '_AccumuleImpimenLossBuilingsGoss': ['손상차손누계액'], '_BuilingIncienlFciliiesGoss': ['건물부대설비'], '_GovenmenGnsBuilingIncienlFciliiesGoss': ['정부보조금'], '_AccumuleDepeciionBuilingIncienlFciliiesGoss': ['감가상각누계액'], '_AccumuleImpimenLossBuilingIncienlFciliiesGoss': ['손상차손누계액'], '_FiingGoss': ['시설물'], '_GovenmenGnsFiingGoss': ['정부보조금'], '_AccumuleDepeciionFiingGoss': ['감가상각누계액'], '_AccumuleImpimenLossFiingGoss': ['손상차손누계액'], '_SucueGoss': ['구축물'], '_GovenmenGnsSucueGoss': ['정부보조금'], '_AccumuleDepeciionSucueGoss': ['감가상각누계액'], '_AccumuleImpimenLossSucueGoss': ['손상차손누계액'], '_MchineyGoss': ['기계장치'], '_GovenmenGnsMchineyGoss': ['정부보조금'], '_AccumuleDepeciionMchineyGoss': ['감가상각누계액'], '_AccumuleImpimenLossMchineyGoss': ['손상차손누계액'], '_VehiclesGoss': ['차량운반구'], '_GovenmenGnsVehiclesGoss': ['정부보조금'], '_AccumuleDepeciionVehiclesGoss': ['감가상각누계액'], '_AccumuleImpimenLossVehiclesGoss': ['손상차손누계액'], '_SupplyFciliiesGoss': ['공급설비'], '_GovenmenGnsSupplyFciliiesGoss': ['정부보조금'], '_AccumuleDepeciionSupplyFciliiesGoss': ['감가상각누계액'], '_AccumuleImpimenLossSupplyFciliiesGoss': ['손상차손누계액'], '_EleconicFciliiesGoss': ['전산장비/전산설비'], '_GovenmenGnsEleconicFciliiesGoss': ['정부보조금'], '_AccumuleDepeciionEleconicFciliiesGoss': ['감가상각누계액'], '_AccumuleImpimenLossEleconicFciliiesGoss': ['손상차손누계액'], '_ToolsAnEquipmenGoss': ['공구와기구'], '_GovenmenGnsToolsAnEquipmenGoss': ['정부보조금'], '_AccumuleDepeciionToolsAnEquipmenGoss': ['감가상각누계액'], '_AccumuleImpimenLossToolsAnEquipmenGoss': ['손상차손누계액'], '_FinnceLeseAsseGoss': ['금융리스자산'], '_GovenmenGnsFinnceLeseAsseGoss': ['정부보조금'], '_AccumuleDepeciionFinnceLeseAsseGoss': ['감가상각누계액'], '_AccumuleImpimenLossFinnceLeseAsseGoss': ['손상차손누계액'], '_RighofuseAsses': ['사용권자산'], '_RenSucueGoss': ['임차구축물'], '_GovenmenGnsRenSucueGoss': ['정부보조금'], '_AccumuleDepeciionRenSucueGoss': ['감가상각누계액'], '_AccumuleImpimenLossRenSucueGoss': ['손상차손누계액'], '_FixuesAnFiingsGoss': ['집기'], '_GovenmenGnsFixuesAnFiingsGoss': ['정부보조금'], '_AccumuleDepeciionFixuesAnFiingsGoss': ['감가상각누계액'], '_AccumuleImpimenLossFixuesAnFiingsGoss': ['손상차손누계액'], '_OfficeEquipmenGoss': ['사무용비품'], '_GovenmenGnsOfficeEquipmenGoss': ['정부보조금'], '_AccumuleDepeciionOfficeEquipmenGoss': ['감가상각누계액'], '_AccumuleImpimenLossOfficeEquipmenGoss': ['손상차손누계액'], '_TngibleExploionAnEvluionAssesGoss': ['유형탐사평가자산'], '_GovenmenGnsTngibleExploionAnEvluionAssesGoss': ['정부보조금'], '_AccumuleDepeciionTngibleExploionAnEvluionAssesGoss': ['감가상각누계액'], '_AccumuleImpimenLossTngibleExploionAnEvluionAssesGoss': ['손상차손누계액'], '_ConsucionInPogessGoss': ['건설중인자산'], '_GovenmenGnsConsucionInPogessGoss': ['정부보조금'], '_AccumuleImpimenLossConsucionInPogessGoss': ['손상차손누계액'], '_RenlAsseGoss': ['렌탈자산'], '_GovenmenGnsRenlAsseGoss': ['정부보조금'], '_AccumuleDepeciionRenlAsseGoss': ['감가상각누계액'], '_AccumuleImpimenLossRenlAsseGoss': ['손상차손누계액'], '_ShipsGoss': ['선박'], '_GovenmenGnsShipsGoss': ['정부보조금'], '_AccumuleDepeciionShipsGoss': ['감가상각누계액'], '_AccumuleImpimenLossShipsGoss': ['손상차손누계액'], '_OhePopeyPlnAnEquipmenGoss': ['기타유형자산'], '_GovenmenGnsOhePopeyPlnAnEquipmenGoss': ['정부보조금'], '_AccumuleDepeciionOhePopeyPlnAnEquipmenGoss': ['감가상각누계액'], '_AccumuleImpimenLossOhePopeyPlnAnEquipmenGoss': ['손상차손누계액'], '_InvesmenPopey': ['투자부동산'], '_GovenmenGnsInvesmenPopey': ['정부보조금'], '_AccumuleDepeciionInvesmenPopey': ['감가상각누계액'], '_AccumuleImpimenLossInvesmenPopey': ['손상차손누계액'], '_GoowillGoss': ['영업권'], '_AccumuleImpimenLossGoowillGoss': ['손상차손누계액'], '_InngibleAssesOheThnGoowill': ['영업권 이외의 무형자산'], '_BnNmesGoss': ['브랜드명'], '_GovenmenGnsBnNmesGoss': ['정부보조금'], '_AccumuleDepeciionBnNmesGoss': ['감가상각누계액'], '_AccumuleImpimenLossBnNmesGoss': ['손상차손누계액'], '_InngibleExploionAnEvluionAssesGoss': ['무형탐사평가자산'], '_GovenmenGnsInngibleExploionAnEvluionAssesGoss': ['정부보조금'], '_AccumuleDepeciionInngibleExploionAnEvluionAssesGoss': ['감가상각누계액'], '_AccumuleImpimenLossInngibleExploionAnEvluionAssesGoss': ['손상차손누계액'], '_MshesAnPublishingTilesGoss': ['제호와 출판표제'], '_GovenmenGnsMshesAnPublishingTilesGoss': ['정부보조금'], '_AccumuleDepeciionMshesAnPublishingTilesGoss': ['감가상각누계액'], '_AccumuleImpimenLossMshesAnPublishingTilesGoss': ['손상차손누계액'], '_CompueSofweGoss': ['컴퓨터소프트웨어'], '_GovenmenGnsCompueSofweGoss': ['정부보조금'], '_AccumuleDepeciionCompueSofweGoss': ['감가상각누계액'], '_AccumuleImpimenLossCompueSofweGoss': ['손상차손누계액'], '_LicencesAnFnchisesGoss': ['라이선스와 프랜차이즈'], '_GovenmenGnsLicencesAnFnchisesGoss': ['정부보조금'], '_AccumuleDepeciionLicencesAnFnchisesGoss': ['감가상각누계액'], '_AccumuleImpimenLossLicencesAnFnchisesGoss': ['손상차손누계액'], '_CopyighsPensAnOheInusilPopeyRighsSeviceAnOpeingRighsGoss': ['저작권, 특허권, 기타 산업재산권, 용역운영권'], '_GovenmenGnsCopyighsPensAnOheInusilPopeyRighsSeviceAnOpeingRighsGoss': ['정부보조금'], '_AccumuleDepeciionCopyighsPensAnOheInusilPopeyRighsSeviceAnOpeingRighsGoss': ['감가상각누계액'], '_AccumuleImpimenLossCopyighsPensAnOheInusilPopeyRighsSeviceAnOpeingRighsGoss': ['손상차손누계액'], '_RecipesFomuleMoelsDesignsAnPooypesGoss': ['조리법, 공식, 모형, 설계 및 시제품'], '_GovenmenGnsRecipesFomuleMoelsDesignsAnPooypesGoss': ['정부보조금'], '_AccumuleDepeciionRecipesFomuleMoelsDesignsAnPooypesGoss': ['감가상각누계액'], '_AccumuleImpimenLossRecipesFomuleMoelsDesignsAnPooypesGoss': ['손상차손누계액'], '_UiliyMoelRighsGoss': ['실용신안권'], '_GovenmenGnsUiliyMoelRighsGoss': ['정부보조금'], '_AccumuleDepeciionUiliyMoelRighsGoss': ['감가상각누계액'], '_AccumuleImpimenLossUiliyMoelRighsGoss': ['손상차손누계액'], '_TelexAnTelephoneSubscipionRighs': ['전신전화가입권'], '_GovenmenGnsTelexAnTelephoneSubscipionRighs': ['정부보조금'], '_AccumuleDepeciionTelexAnTelephoneSubscipionRighs': ['감가상각누계액'], '_AccumuleImpimenLossTelexAnTelephoneSubscipionRighs': ['손상차손누계액'], '_FinishePogmGoss': ['완성프로그램'], '_GovenmenGnsFinishePogmGoss': ['정부보조금'], '_AccumuleDepeciionFinishePogmGoss': ['감가상각누계액'], '_AccumuleImpimenLossFinishePogmGoss': ['손상차손누계액'], '_UnfinishePogmGoss': ['미완성프로그램'], '_GovenmenGnsUnfinishePogmGoss': ['정부보조금'], '_AccumuleDepeciionUnfinishePogmGoss': ['감가상각누계액'], '_AccumuleImpimenLossUnfinishePogmGoss': ['손상차손누계액'], '_UsufucConibuionAsseGoss': ['사용수익기부자산'], '_GovenmenGnsUsufucConibuionAsseGoss': ['정부보조금'], '_AccumuleDepeciionUsufucConibuionAsseGoss': ['감가상각누계액'], '_AccumuleImpimenLossUsufucConibuionAsseGoss': ['손상차손누계액'], '_EleconicAuomionDevelopmenGoss': ['전산자동화개발'], '_GovenmenGnsEleconicAuomionDevelopmenGoss': ['정부보조금'], '_AccumuleDepeciionEleconicAuomionDevelopmenGoss': ['감가상각누계액'], '_AccumuleImpimenLossEleconicAuomionDevelopmenGoss': ['손상차손누계액'], '_LnRighGoss': ['차지권'], '_GovenmenGnsLnRighGoss': ['정부보조금'], '_AccumuleDepeciionLnRighGoss': ['감가상각누계액'], '_AccumuleImpimenLossLnRighGoss': ['손상차손누계액'], '_MiningRighsGoss': ['채굴권'], '_GovenmenGnsMiningRighsGoss': ['정부보조금'], '_AccumuleDepeciionMiningRighsGoss': ['감가상각누계액'], '_AccumuleImpimenLossMiningRighsGoss': ['손상차손누계액'], '_LnUseRighGoss': ['토지사용권'], '_GovenmenGnsLnUseRighGoss': ['정부보조금'], '_AccumuleDepeciionLnUseRighGoss': ['감가상각누계액'], '_AccumuleImpimenLossLnUseRighGoss': ['손상차손누계액'], '_InngibleAssesUneDevelopmenGoss': ['개발 중인 무형자산'], '_GovenmenGnsInngibleAssesUneDevelopmenGoss': ['정부보조금'], '_AccumuleImpimenLossInngibleAssesUneDevelopmenGoss': ['손상차손누계액'], '_NonCuenEmissionRighGoss': ['비유동배출권'], '_GovenmenGnsNonCuenEmissionRighGoss': ['정부보조금'], '_AccumuleImpimenLossNonCuenEmissionRighGoss': ['손상차손누계액'], '_OheInngibleAssesGoss': ['기타무형자산'], '_GovenmenGnsOheInngibleAssesGoss': ['정부보조금'], '_AccumuleDepeciionOheInngibleAssesGoss': ['감가상각누계액'], '_AccumuleImpimenLossOheInngibleAssesGoss': ['손상차손누계액'], '_OheNoncuenFinncilAsses': ['기타비유동금융자산'], '_NonCuenAvilbleFoSleFinncilAsses': ['비유동매도가능금융자산'], '_NoncuenFinncilAssesMesueAFiVlueThoughOheCompehensiveIncome': ['비유동 기타포괄손익-공정가치 측정 금융자산'], '_NoncuenInvesmensInEquiyInsumensDesigneAFiVlueThoughOheCompehensiveIncome': ['비유동 기타포괄손익-공정가치 측정 지정 지분상품 투자'], '_NonCuenFinncilAssesHelToMuiy': ['비유동만기보유금융자산'], '_NoncuenFinncilAssesAAmoiseCos': ['비유동 상각후원가 측정 금융자산'], '_NonCuenFiVlueFinncilAsse': ['비유동당기손익인식금융자산'], '_NoncuenFinncilAssesAFiVlueThoughPofiOLossDesigneUponIniilRecogniion': ['비유동 당기손익-공정가치 측정 지정 금융자산'], '_NoncuenFinncilAssesAFiVlueThoughPofiOLossMnoilyMesueAFiVlue': ['비유동 당기손익-공정가치 의무 측정 금융자산'], '_NonCuenFimCommimenAsse': ['비유동확정계약자산'], '_NonCuenDeiviveAsses': ['비유동파생상품자산'], '_InveseAsseFoPosemploymenBenefi': ['퇴직급여운용자산/퇴직연금운용자산'], '_DeposisFoSevenceInsunce': ['퇴직보험예치금'], '_InvesmensInSubsiiiesJoinVenuesAnAssocies': ['종속기업, 조인트벤처와 관계기업에 대한 투자자산'], '_InvesmensInSubsiiies': ['종속기업에 대한 투자자산'], '_InvesmensInJoinVenues': ['조인트벤처에 대한 투자자산'], '_InvesmensInAssocies': ['관계기업에 대한 투자자산'], '_InvesmenAccouneFoUsingEquiyMeho': ['지분법적용 투자지분'], '_NonCuenBiologiclAssesGoss': ['비유동생물자산'], '_GovenmenGnsNonCuenBiologiclAssesGoss': ['정부보조금'], '_AccumuleDepeciionNonCuenBiologiclAssesGoss': ['감가상각누계액'], '_AccumuleImpimenLossNonCuenBiologiclAssesGoss': ['손상차손누계액'], '_DefeeTxAsses': ['이연법인세자산'], '_NoncuenNoncshAssesPlegeAsCollelFoWhichTnsfeeeHsRighByConcOCusomToSellOReplegeCollel': ['양수자가 계약이나 관행에 따라 담보물을 매도하거나 다시 담보로 제공할 권리를 가지고 있는 비유동 비현금담보물'], '_OheNonCuenAsses': ['기타비유동자산'], '_Asses': ['자산총계'], '_LibiliiesAbsc': ['부채 [abstract]'], '_CuenLibiliies': ['유동부채'], '_TeAnOheCuenPybles': ['매입채무 및 기타유동채무'], '_ShoTemTePybles': ['단기매입채무'], '_ShoTemDueToCusomesFoConcWok': ['단기초과청구공사'], '_CuenConcLibiliies': ['유동계약부채'], '_ShoTemOhePybles': ['단기미지급금'], '_DiviensPyble': ['미지급배당금'], '_ShoTemAccueExpenses': ['단기미지급비용'], '_ShoTemGuneeDeposiRen': ['단기임대보증금'], '_ShoTemOheGuneeDeposiReceive': ['단기기타보증금'], '_ShoTemWihholings': ['단기예수금'], '_ShoTemCollecionWihholings': ['추심예수금'], '_CuenVlueAeTxPybles': ['부가가치세예수금'], '_ShoTemGuneeDeposiWihholings': ['단기예수보증금'], '_ShoTemAvncesCusomes': ['단기선수금'], '_AvncesOnConsucionConcs': ['공사선수금'], '_AvncesFomHouseOfficeSles': ['분양선수금'], '_ShoTemAvncesInvesemen': ['투자선수금'], '_DefeeIncomeClssifieAsCuen': ['단기이연수익'], '_ShoTemIncomeReceiveInAvnce': ['단기선수수익'], '_ShoTemRenReceiveInAvnce': ['단기선수임대료'], '_ShoemBoowings': ['단기차입금'], '_CuenPoionOfLongemBoowings': ['유동성장기차입금'], '_CuenPoionOfLongemOhePybles': ['유동성장기미지급금'], '_CuenPoionOfBons': ['유동성사채'], '_CuenPoionOfConveibleBons': ['유동성전환사채'], '_CuenPoionOfBonWihWn': ['유동성신주인수권부사채'], '_CuenPoionOfConveibleReeemblePefeeSockLibiliies': ['유동성전환상환우선주부채'], '_CuenPoionOfExchngebleBon': ['유동성교환사채'], '_CuenPoionOfFinnceLeseLibiliies': ['유동성금융리스부채'], '_CuenLeseLibiliies': ['유동리스부채'], '_CuenWokouPybles': ['유동회생채무'], '_PymensOfIncomeTxesPyble': ['미지급법인세'], '_CuenTxLibiliies': ['당기법인세부채'], '_OheCuenFinncilLibiliies': ['기타유동금융부채'], '_CuenFinncilLibiliiesHelFoTing': ['유동단기매매금융부채'], '_CuenFinncilLibiliiesAFiVlueThoughPofiOLossClssifieAsHelFoTing': ['유동 단기매매정의 충족 금융부채'], '_CuenFinncilLibiliiesDesignionAsAFiVlueThoughPofiOLoss': ['유동당기손익인식지정금융부채'], '_CuenFinncilLibiliiesAFiVlueThoughPofiOLossDesigneUponIniilRecogniion': ['유동 당기손익-공정가치 측정 지정 금융부채'], '_CuenFinncilLibiliiesAAmoiseCos': ['유동 상각후원가 측정 금융부채'], '_CuenFinncilGuneeLibiliies': ['유동금융보증부채'], '_CuenDeiviveLibiliies': ['유동파생상품부채'], '_CuenFimCommimenLibiliies': ['유동확정계약부채'], '_CuenPovisions': ['유동충당부채'], '_CuenPovisionsFoEmployeeBenefis': ['유동종업원급여충당부채'], '_CuenPovisionsFoPoucWnies': ['유동판매보증충당부채'], '_CuenPovisionsFoConsucionWnies': ['유동하자보수충당부채'], '_CuenPovisionsFoReuneGoos': ['유동반품충당부채'], '_CuenPovisionFoConsucionLosses': ['유동공사손실충당부채'], '_ShoemWnyPovision': ['단기제품보증충당부채'], '_ShoemResucuingPovision': ['단기구조조정충당부채'], '_ShoemLeglPoceeingsPovision': ['단기법적소송충당부채'], '_ShoemOneousConcsPovision': ['단기손실부담계약충당부채'], '_ShoemPovisionFoDecommissioningResoionAnRehbiliionCoss': ['단기 사후처리, 복구, 정화 비용을 위한 충당부채'], '_ShoemMiscellneousOhePovisions': ['그 밖의 기타단기충당부채'], '_LibiliiesInclueInDisposlGoupsClssifieAsHelFoSle': ['매각예정으로 분류된 처분자산집단에 포함된 부채'], '_OheCuenLibiliies': ['기타유동부채'], '_CuenEmissionLibiliies': ['유동배출부채'], '_NoncuenLibiliies': ['비유동부채'], '_LongTemTeAnOheNonCuenPybles': ['장기매입채무 및 기타비유동채무'], '_LongTemTePyblesGoss': ['장기매입채무'], '_PesenVlueDiscounsLongTemTePyblesGoss': ['현재가치할인차금'], '_LongTemDueToCusomesFoConcWok': ['장기초과청구공사'], '_NoncuenConcLibiliies': ['비유동계약부채'], '_LongTemOhePyblesGoss': ['장기미지급금'], '_PesenVlueDiscounsLongTemOhePyblesGoss': ['현재가치할인차금'], '_LongTemAccueExpensesGoss': ['장기미지급비용'], '_PesenVlueDiscounsLongTemAccueExpensesGoss': ['현재가치할인차금'], '_LongTemGuneeDeposiRenGoss': ['장기임대보증금'], '_PesenVlueDiscounsLongTemGuneeDeposiRenGoss': ['현재가치할인차금'], '_LongTemOheGuneeDeposiReceiveGoss': ['장기기타보증금'], '_PesenVlueDiscounsLongTemOheGuneeDeposiReceiveGoss': ['현재가치할인차금'], '_LongTemWihholingsBnks': ['장기예수금'], '_PesenVlueDiscounsLongTemWihholingsBnks': ['현재가치할인차금'], '_LongTemGuneeDeposiWihholings': ['장기예수보증금'], '_PesenVlueDiscounsLongTemGuneeDeposiWihholings': ['현재가치할인차금'], '_LongTemAvncesCusomes': ['장기선수금'], '_PesenVlueDiscounsLongTemAvncesCusomes': ['현재가치할인차금'], '_LongTemAvncesOnConsucionConcs': ['장기공사선수금'], '_PesenVlueDiscounsLongTemAvncesOnConsucionConcs': ['현재가치할인차금'], '_DefeeIncomeClssifieAsNoncuen': ['장기이연수익'], '_PesenVlueDiscounsDefeeIncomeClssifieAsNoncuen': ['현재가치할인차금'], '_LongTemIncomeReceiveInAvnce': ['장기선수수익'], '_LongTemRenReceiveInAvnce': ['장기선수임대료'], '_PesenVlueDiscounsLongTemRenReceiveInAvnce': ['현재가치할인차금'], '_LongTemBoowingsGoss': ['장기차입금'], '_PesenVlueDiscounsLongTemBoowingsGoss': ['현재가치할인차금'], '_BonsIssue': ['사채'], '_ReempionPemiumOnBonsIssue': ['사채상환할증금'], '_DiscounOnBonsIssue': ['사채할인발행차금'], '_PemiumOnBonsIssue': ['사채할증발행차금'], '_ConveibleBons': ['전환사채'], '_ReempionPemiumOnConveibleBons': ['전환사채상환할증금'], '_ConvesionRighsAjusmenOfConveibleBons': ['전환사채전환권조정'], '_DiscounOnConveibleBons': ['전환사채할인발행차금'], '_PemiumOnConveibleBons': ['전환사채할증발행차금'], '_BonWihWn': ['신주인수권부사채'], '_ReempionPemiumOnBonWihWn': ['신주인수권부사채상환할증금'], '_DiscounOnBonWihWn': ['신주인수권부사채할인발행차금'], '_PemiumOnBonWihWn': ['신주인수권부사채할증발행차금'], '_ConveibleReeemblePefeeSockLibiliies': ['전환상환우선주부채'], '_ReempionPemiumOnConveibleReeemblePefeeSockLibiliies': ['전환상환우선주부채상환할증금'], '_DiscounOnConveibleReeemblePefeeSockLibiliies': ['전환상환우선주부채할인발행차금'], '_PemiumOnConveibleReeemblePefeeSockLibiliies': ['전환상환우선주부채할증발행차금'], '_ExchngebleBons': ['교환사채'], '_ReempionPemiumOnExchngebleBons': ['교환사채상환할증금'], '_ExchngebleRighsAjusmenOfExchngebleBons': ['교환사채전환권조정'], '_DiscounOnExchngebleBons': ['교환사채할인발행차금'], '_PemiumOnExchngebleBons': ['교환사채할증발행차금'], '_NonCuenFinnceLeseLibiliies': ['비유동금융리스부채'], '_NoncuenLeseLibiliies': ['비유동리스부채'], '_NonCuenWokouPybles': ['비유동회생채무'], '_OheNoncuenFinncilLibiliies': ['기타비유동금융부채'], '_NonCuenFinncilLibiliiesAFiVlueThoughPofiOLoss': ['비유동당기손익인식금융부채'], '_NoncuenFinncilLibiliiesAFiVlueThoughPofiOLossClssifieAsHelFoTing': ['비유동 단기매매정의 충족 금융부채'], '_NoncuenFinncilLibiliiesAFiVlueThoughPofiOLossDesigneUponIniilRecogniion': ['비유동 당기손익-공정가치 측정 지정 금융부채'], '_NoncuenFinncilLibiliiesAAmoiseCos': ['비유동 상각후원가 측정 금융부채'], '_NonCuenFinncilGuneeLibiliies': ['비유동금융보증부채'], '_NonCuenDeiviveLibiliies': ['비유동파생상품부채'], '_NonCuenFimCommimenLibiliies': ['비유동확정계약부채'], '_NoncuenPovisions': ['비유동충당부채'], '_NoncuenPovisionsFoEmployeeBenefis': ['비유동종업원급여충당부채'], '_NonCuenPovisionsFoReuneGoos': ['비유동반품충당부채'], '_NonCuenPovisionsFoConsucionWnies': ['비유동하자보수충당부채'], '_NonCuenPovisionsFoPoucWnies': ['비유동판매보증충당부채'], '_NonCuenPovisionFoConsucionLosses': ['비유동공사손실충당부채'], '_LongemWnyPovision': ['장기제품보증충당부채'], '_LongemResucuingPovision': ['장기구조조정충당부채'], '_LongemLeglPoceeingsPovision': ['장기법적소송충당부채'], '_LongemOneousConcsPovision': ['장기손실부담계약충당부채'], '_LongemPovisionFoDecommissioningResoionAnRehbiliionCoss': ['장기 사후처리, 복구, 정화 비용을 위한 충당부채'], '_LongemMiscellneousOhePovisions': ['그 밖의 기타장기충당부채'], '_PosemploymenBenefiObligions': ['퇴직급여부채'], '_PesenVlueOfDefineBenefiObligion': ['확정급여채무의현재가치'], '_FiVlueOfPlnAsses': ['사외적립자산의공정가치'], '_InveseAsseFoPosemploymenBenefiConAccoun': ['퇴직급여운용자산/퇴직연금운용자산'], '_DeposisFoSevenceInsunceConAccoun': ['퇴직보험예치금'], '_DefeeTxLibiliies': ['이연법인세부채'], '_OheNonCuenLibiliies': ['기타비유동부채'], '_NonCuenEmissionLibiliies': ['비유동배출부채'], '_Libiliies': ['부채총계'], '_EquiyAbsc': ['자본 [abstract]'], '_EquiyAibubleToOwnesOfPen': ['지배기업의 소유주에게 귀속되는 자본'], '_IssueCpil': ['자본금'], '_IssueCpilOfCommonSock': ['보통주자본금'], '_IssueCpilOfPefeeSock': ['우선주자본금'], '_CpilSuplus': ['자본잉여금'], '_ShePemium': ['주식발행초과금'], '_GinsCpilReucion': ['감자차익'], '_GinsSleTesuySock': ['자기주식처분이익'], '_ConsieionConvesionRighsCpilSuplus': ['전환권대가'], '_ConsieionSockWnsCpilSuplus': ['신주인수권대가'], '_ConsieionExchngebleRighsCpilSuplus': ['교환권대가'], '_OheCpilSuplus': ['기타자본잉여금'], '_ElemensOfOheSockholesEquiy': ['기타자본구성요소'], '_CpilSockSubscibe': ['신주청약증거금'], '_DiscounSockIssunce': ['주식할인발행차금'], '_TesuyShes': ['자기주식'], '_LossesCpilReucion': ['감자차손'], '_LossesSleTesuySock': ['자기주식처분손실'], '_SockOpions': ['주식선택권'], '_NonVesingSocks': ['미가득주식'], '_DebEquiySwp': ['출자전환채무'], '_OheCpilAjusmens': ['기타자본조정'], '_OheCompehensiveIncomeLossAccumuleAmoun': ['기타포괄손익누계액'], '_OheCompehensiveIncomeGinsLossesOnRevluion': ['재평가잉여금'], '_OheCompehensiveIncomeGinsLossesOnRemesuemensOfDefineBenefiPlns': ['확정급여제도의 재측정손익'], '_GinsVluionAvilbleFoSleFinncilAsses': ['매도가능금융자산평가이익'], '_LossVluionAvilbleFoSleFinncilAsses': ['매도가능금융자산평가손실'], '_ReseveOfGinsOnFinncilAssesMesueAFiVlueThoughOheCompehensiveIncome': ['기타포괄손익-공정가치 측정 금융자산 평가이익 적립금'], '_ReseveOfLossesOnFinncilAssesMesueAFiVlueThoughOheCompehensiveIncome': ['기타포괄손익-공정가치 측정 금융자산 평가손실 적립금'], '_ReseveOfGinsOnHegingInsumensThHegeInvesmensInEquiyInsumens': ['지분상품투자에 대한 위험회피수단 평가이익 적립금'], '_ReseveOfLossesOnHegingInsumensThHegeInvesmensInEquiyInsumens': ['지분상품투자에 대한 위험회피수단 평가손실 적립금'], '_ReseveOfChngeInVlueOfTimeVlueOfOpions': ['옵션의 시간가치 변동 적립금'], '_ReseveOfChngeInVlueOfFowElemensOfFowConcs': ['선도계약의 선도요소 가치 변동 적립금'], '_ReseveOfChngeInVlueOfFoeignCuencyBsisSpes': ['외화베이시스스프레드 변동 적립금'], '_ReseveOfGinsFomInvesmensInEquiyInsumens': ['지분상품투자 평가이익 적립금'], '_ReseveOfLossesFomInvesmensInEquiyInsumens': ['지분상품투자 평가손실 적립금'], '_ReseveOfChngeInFiVlueOfFinncilLibiliyAibubleToChngeInCeiRiskOfLibiliy': ['신용위험 변동에 의한 금융부채 공정가치 변동 적립금'], '_GinsCumuliveEffecFoeignCuencyTnslion': ['해외사업환산이익'], '_LossesCumuliveEffecFoeignCuencyTnslion': ['해외사업환산손실'], '_GinsVluionDeivivesCshFlowHege': ['현금흐름위험회피파생상품평가이익'], '_LossesVluionDeivivesCshFlowHege': ['현금흐름위험회피파생상품평가손실'], '_CompehensiveIncomeGinsLossesEquiyMehoSecuiies': ['지분법기타포괄손익변동'], '_ReineEnings': ['이익잉여금(결손금)'], '_LeglReseve': ['이익준비금'], '_AppopieReineEningsOheLeglReseves': ['기타법정적립금'], '_VolunyReseves': ['임의적립금'], '_ReineEningsBefoeAppopiionsAccumuleDeficiBefoeDisposiion': ['미처분이익잉여금(미처리결손금)'], '_NonconollingIneess': ['비지배지분'], '_Equiy': ['자본총계'], '_EquiyAnLibiliies': ['자본과부채총계']}\n"
     ]
    }
   ],
   "source": [
    "print(df[[\"항목코드\", \"항목명\"]].iloc[0,:])\n",
    "print(dic_element)\n",
    "\n",
    "# dic_element[re.findall(\"_\\w{1,}\", df[\"항목코드\"][0])[0]]\n",
    "# for idx in range(len(df)):\n",
    "#     if \"entity\" in df[\"항목코드\"][idx]:\n",
    "#         lst_entity_코드.append(df[\"항목코드\"][idx])\n",
    "#         lst_entity_명.append(df[\"항목명\"][idx])\n",
    "#     else:\n",
    "#         lst_without_entity_코드.append(df[\"항목코드\"][idx])\n",
    "#         lst_without_entity_명.append(df[\"항목명\"][idx])"
   ]
  },
  {
   "cell_type": "code",
   "execution_count": null,
   "metadata": {},
   "outputs": [],
   "source": []
  }
 ],
 "metadata": {
  "kernelspec": {
   "display_name": "Python 3",
   "language": "python",
   "name": "python3"
  },
  "language_info": {
   "codemirror_mode": {
    "name": "ipython",
    "version": 3
   },
   "file_extension": ".py",
   "mimetype": "text/x-python",
   "name": "python",
   "nbconvert_exporter": "python",
   "pygments_lexer": "ipython3",
   "version": "3.7.7"
  }
 },
 "nbformat": 4,
 "nbformat_minor": 4
}
