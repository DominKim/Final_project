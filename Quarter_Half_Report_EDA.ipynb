{
 "cells": [
  {
   "cell_type": "code",
   "execution_count": 1,
   "metadata": {},
   "outputs": [],
   "source": [
    "import pandas as pd\n",
    "import numpy as np\n",
    "import matplotlib.pyplot as plt\n",
    "import os\n",
    "import glob\n",
    "import pandas as pd\n",
    "import seaborn as sns"
   ]
  },
  {
   "cell_type": "code",
   "execution_count": 2,
   "metadata": {},
   "outputs": [
    {
     "name": "stderr",
     "output_type": "stream",
     "text": [
      "C:\\Users\\user\\anaconda3\\lib\\site-packages\\IPython\\core\\interactiveshell.py:3331: DtypeWarning: Columns (14) have mixed types.Specify dtype option on import or set low_memory=False.\n",
      "  exec(code_obj, self.user_global_ns, self.user_ns)\n"
     ]
    }
   ],
   "source": [
    "def get_merged_csv(flist, **kwargs):\n",
    "    return pd.concat([pd.read_csv(f, **kwargs) for f in flist], ignore_index=True)\n",
    "\n",
    "path = os.getcwd() + \"/data\"\n",
    "fmask = os.path.join(path, '*기보고서*.txt')\n",
    "glob.glob(fmask)\n",
    "df = get_merged_csv(glob.glob(fmask), index_col=None, sep = \"\\t\", encoding = \"cp949\")"
   ]
  },
  {
   "cell_type": "code",
   "execution_count": 3,
   "metadata": {
    "scrolled": true
   },
   "outputs": [],
   "source": [
    "# '재무제표종류 종목코드 회사명 시장구분 업종 업종명 결산월 결산기준일 \n",
    "# 보고서종류 통화 항목코드 항목명 당기 1분기말 전기말 전전기말 Unnamed: 15 당기 3분기말 당기 반기말'\n",
    "\n",
    "# 변수 삭제\n",
    "\" \".join(df.columns)\n",
    "\n",
    "lst = [\"통화\", \"Unnamed: 15\"]\n",
    "df.drop(lst, axis = 1, inplace = True)"
   ]
  },
  {
   "cell_type": "code",
   "execution_count": 28,
   "metadata": {},
   "outputs": [
    {
     "name": "stdout",
     "output_type": "stream",
     "text": [
      "<class 'pandas.core.frame.DataFrame'>\n",
      "RangeIndex: 1993753 entries, 0 to 1993752\n",
      "Data columns (total 16 columns):\n",
      " #   Column   Dtype \n",
      "---  ------   ----- \n",
      " 0   재무제표종류   object\n",
      " 1   종목코드     object\n",
      " 2   회사명      object\n",
      " 3   시장구분     object\n",
      " 4   업종       int64 \n",
      " 5   업종명      object\n",
      " 6   결산월      int64 \n",
      " 7   결산기준일    object\n",
      " 8   보고서종류    object\n",
      " 9   항목코드     object\n",
      " 10  항목명      object\n",
      " 11  당기 1분기말  object\n",
      " 12  전기말      object\n",
      " 13  전전기말     object\n",
      " 14  당기 3분기말  object\n",
      " 15  당기 반기말   object\n",
      "dtypes: int64(2), object(14)\n",
      "memory usage: 243.4+ MB\n"
     ]
    }
   ],
   "source": [
    "df.info()"
   ]
  },
  {
   "cell_type": "code",
   "execution_count": 4,
   "metadata": {},
   "outputs": [
    {
     "data": {
      "text/html": [
       "<div>\n",
       "<style scoped>\n",
       "    .dataframe tbody tr th:only-of-type {\n",
       "        vertical-align: middle;\n",
       "    }\n",
       "\n",
       "    .dataframe tbody tr th {\n",
       "        vertical-align: top;\n",
       "    }\n",
       "\n",
       "    .dataframe thead th {\n",
       "        text-align: right;\n",
       "    }\n",
       "</style>\n",
       "<table border=\"1\" class=\"dataframe\">\n",
       "  <thead>\n",
       "    <tr style=\"text-align: right;\">\n",
       "      <th></th>\n",
       "      <th>결산기준일</th>\n",
       "      <th>결산월</th>\n",
       "    </tr>\n",
       "  </thead>\n",
       "  <tbody>\n",
       "    <tr>\n",
       "      <th>139997</th>\n",
       "      <td>2016-12-31</td>\n",
       "      <td>3</td>\n",
       "    </tr>\n",
       "    <tr>\n",
       "      <th>139998</th>\n",
       "      <td>2016-12-31</td>\n",
       "      <td>3</td>\n",
       "    </tr>\n",
       "    <tr>\n",
       "      <th>139999</th>\n",
       "      <td>2016-12-31</td>\n",
       "      <td>3</td>\n",
       "    </tr>\n",
       "    <tr>\n",
       "      <th>140000</th>\n",
       "      <td>2016-12-31</td>\n",
       "      <td>3</td>\n",
       "    </tr>\n",
       "    <tr>\n",
       "      <th>140001</th>\n",
       "      <td>2016-12-31</td>\n",
       "      <td>3</td>\n",
       "    </tr>\n",
       "    <tr>\n",
       "      <th>...</th>\n",
       "      <td>...</td>\n",
       "      <td>...</td>\n",
       "    </tr>\n",
       "    <tr>\n",
       "      <th>1662491</th>\n",
       "      <td>2019-09-30</td>\n",
       "      <td>12</td>\n",
       "    </tr>\n",
       "    <tr>\n",
       "      <th>1662492</th>\n",
       "      <td>2019-09-30</td>\n",
       "      <td>12</td>\n",
       "    </tr>\n",
       "    <tr>\n",
       "      <th>1662493</th>\n",
       "      <td>2019-09-30</td>\n",
       "      <td>12</td>\n",
       "    </tr>\n",
       "    <tr>\n",
       "      <th>1662494</th>\n",
       "      <td>2019-09-30</td>\n",
       "      <td>12</td>\n",
       "    </tr>\n",
       "    <tr>\n",
       "      <th>1662495</th>\n",
       "      <td>2019-09-30</td>\n",
       "      <td>12</td>\n",
       "    </tr>\n",
       "  </tbody>\n",
       "</table>\n",
       "<p>618322 rows × 2 columns</p>\n",
       "</div>"
      ],
      "text/plain": [
       "              결산기준일  결산월\n",
       "139997   2016-12-31    3\n",
       "139998   2016-12-31    3\n",
       "139999   2016-12-31    3\n",
       "140000   2016-12-31    3\n",
       "140001   2016-12-31    3\n",
       "...             ...  ...\n",
       "1662491  2019-09-30   12\n",
       "1662492  2019-09-30   12\n",
       "1662493  2019-09-30   12\n",
       "1662494  2019-09-30   12\n",
       "1662495  2019-09-30   12\n",
       "\n",
       "[618322 rows x 2 columns]"
      ]
     },
     "execution_count": 4,
     "metadata": {},
     "output_type": "execute_result"
    }
   ],
   "source": [
    "# 1분기보고서 : 결산월 3월 이면 결산기준일 6/30\n",
    "# 결산월 부터 \n",
    "df[df[\"보고서종류\"] == \"3분기보고서\"][[\"결산기준일\", \"결산월\"]]"
   ]
  },
  {
   "cell_type": "code",
   "execution_count": 37,
   "metadata": {},
   "outputs": [],
   "source": [
    "a = df[[\"업종명\", \"업종\"]].groupby([\"업종명\"]).agg([\"count\"]).reset_index().sort_values(by = ( '업종', 'count'))\n",
    "a.to_csv(\"./data/업종명.csv\", encoding = \"utf-8\", index = False)"
   ]
  },
  {
   "cell_type": "code",
   "execution_count": 38,
   "metadata": {},
   "outputs": [],
   "source": [
    "b = a = df[[\"업종명\", \"업종\"]].groupby([\"업종\"]).agg([\"count\"]).reset_index().sort_values(by = ( '업종명', 'count'))\n",
    "b.to_csv(\"./data/업종.csv\", encoding = \"utf-8\", index = False)"
   ]
  },
  {
   "cell_type": "code",
   "execution_count": 28,
   "metadata": {},
   "outputs": [
    {
     "name": "stdout",
     "output_type": "stream",
     "text": [
      "                         업종명     업종\n",
      "                              count\n",
      "0                1차 비철금속 제조업  16107\n",
      "1                  1차 철강 제조업  48640\n",
      "2                     가구 제조업   6592\n",
      "3              가스 제조 및 배관공급업   4053\n",
      "4          가전제품 및 정보통신장비 소매업    431\n",
      "..                       ...    ...\n",
      "180         해체, 선별 및 원료 재생업     785\n",
      "181                 화학섬유 제조업  10382\n",
      "182              환경 정화 및 복원업   1092\n",
      "183      회사 본부 및 경영 컨설팅 서비스업   9848\n",
      "184  회사본부, 지주회사 및 경영컨설팅 서비스업  26719\n",
      "\n",
      "[185 rows x 2 columns]\n",
      "185\n",
      "155\n"
     ]
    }
   ],
   "source": [
    "print(a)\n",
    "print(len(df[\"업종명\"].unique()))\n",
    "print(len(df[\"업종\"].unique()))"
   ]
  },
  {
   "cell_type": "code",
   "execution_count": 63,
   "metadata": {},
   "outputs": [],
   "source": [
    "lst = df[\"업종명\"].unique()\n",
    "\n",
    "check = df[[\"업종명\", \"업종\"]]\n",
    "\n",
    "lst2 = []\n",
    "for i in lst:\n",
    "    lst2.append(check[check[\"업종명\"] == i].iloc[0,1])\n",
    "    \n",
    "check_df1 = pd.DataFrame({\"업종명1\":lst, \"업종\":lst2})\n",
    "# check_df.to_csv(\"업종명기준확인.csv\", encoding = \"utf-8\", index = False)\n",
    "\n",
    "lst = df[\"업종\"].unique()\n",
    "\n",
    "check = df[[\"업종\", \"업종명\"]]\n",
    "\n",
    "lst2 = []\n",
    "for i in lst:\n",
    "    lst2.append(check[check[\"업종\"] == i].iloc[0,1])\n",
    "    \n",
    "check_df2 = pd.DataFrame({\"업종\":lst, \"업종명2\":lst2})\n",
    "# check_df.to_csv(\"업종기준확인.csv\", encoding = \"utf-8\", index = False)\n",
    "pd.merge(check_df1, check_df2, how = \"outer\").to_csv(\"최종확인.csv\", encoding = \"utf-8\", index = False)"
   ]
  }
 ],
 "metadata": {
  "kernelspec": {
   "display_name": "Python 3",
   "language": "python",
   "name": "python3"
  },
  "language_info": {
   "codemirror_mode": {
    "name": "ipython",
    "version": 3
   },
   "file_extension": ".py",
   "mimetype": "text/x-python",
   "name": "python",
   "nbconvert_exporter": "python",
   "pygments_lexer": "ipython3",
   "version": "3.7.7"
  }
 },
 "nbformat": 4,
 "nbformat_minor": 4
}
