{
 "cells": [
  {
   "cell_type": "code",
   "execution_count": 160,
   "metadata": {},
   "outputs": [],
   "source": [
    "import numpy as np\n",
    "import pylab as pl\n",
    "import pandas as pd\n",
    "\n",
    "from sklearn.base import BaseEstimator\n",
    "from sklearn.utils import check_random_state\n",
    "from sklearn.cluster import MiniBatchKMeans\n",
    "from sklearn.cluster import KMeans as KMeansGood\n",
    "from sklearn.metrics.pairwise import euclidean_distances, manhattan_distances\n",
    "from sklearn.datasets.samples_generator import make_blobs\n",
    "from sklearn.preprocessing import StandardScaler\n",
    "\n",
    "df = pd.read_csv(\"./data/fianl_data_without_entity_change.csv\", encoding = \"euc-kr\")\n",
    "df.drop(7609, inplace = True)\n",
    "df.reset_index(drop = True, inplace = True)\n",
    "\n",
    "lst = list(df.columns)\n",
    "\n",
    "idx = [i for i, j in enumerate(df.columns) if \"총계\" in j]\n",
    "\n",
    "X = df.iloc[:,idx]\n",
    "X = X.fillna(0)\n",
    "\n",
    "scr = StandardScaler()\n",
    "X = scr.fit_transform(X)\n",
    "\n",
    "class KMeans(BaseEstimator):\n",
    "\n",
    "    def __init__(self, k, max_iter=100, random_state=0, tol=1e-4):\n",
    "        self.k = k\n",
    "        self.max_iter = max_iter\n",
    "        self.random_state = random_state\n",
    "        self.tol = tol\n",
    "\n",
    "    def _e_step(self, X):\n",
    "        self.labels_ = euclidean_distances(X, self.cluster_centers_,\n",
    "                                     squared=True).argmin(axis=1)\n",
    "\n",
    "    def _average(self, X):\n",
    "        return X.mean(axis=0)\n",
    "\n",
    "    def _m_step(self, X):\n",
    "        X_center = None\n",
    "        for center_id in range(self.k):\n",
    "            center_mask = self.labels_ == center_id\n",
    "            if not np.any(center_mask):\n",
    "                # The centroid of empty clusters is set to the center of\n",
    "                # everything\n",
    "                if X_center is None:\n",
    "                    X_center = self._average(X)\n",
    "                self.cluster_centers_[center_id] = X_center\n",
    "            else:\n",
    "                self.cluster_centers_[center_id] = \\\n",
    "                    self._average(X[center_mask])\n",
    "\n",
    "    def fit(self, X, y=None):\n",
    "        n_samples = X.shape[0]\n",
    "        vdata = np.mean(np.var(X, 0))\n",
    "\n",
    "        random_state = check_random_state(self.random_state)\n",
    "        self.labels_ = random_state.permutation(n_samples)[:self.k]\n",
    "        self.cluster_centers_ = X[self.labels_]\n",
    "\n",
    "        for i in range(self.max_iter):\n",
    "            centers_old = self.cluster_centers_.copy()\n",
    "\n",
    "            self._e_step(X)\n",
    "            self._m_step(X)\n",
    "\n",
    "            if np.sum((centers_old - self.cluster_centers_) ** 2) < self.tol * vdata:\n",
    "                break\n",
    "\n",
    "        return self\n",
    "\n",
    "class KMedians(KMeans):\n",
    "\n",
    "    def _e_step(self, X):\n",
    "        self.labels_ = manhattan_distances(X, self.cluster_centers_).argmin(axis=1)\n",
    "\n",
    "    def _average(self, X):\n",
    "        return np.median(X, axis=0)\n",
    "\n",
    "class FuzzyKMeans(KMeans):\n",
    "\n",
    "    def __init__(self, k, m=2, max_iter=100, random_state=0, tol=1e-4):\n",
    "        \"\"\"\n",
    "        m > 1: fuzzy-ness parameter\n",
    "        The closer to m is to 1, the closter to hard kmeans.\n",
    "        The bigger m, the fuzzier (converge to the global cluster).\n",
    "        \"\"\"\n",
    "        self.k = k\n",
    "        assert m > 1\n",
    "        self.m = m\n",
    "        self.max_iter = max_iter\n",
    "        self.random_state = random_state\n",
    "        self.tol = tol\n",
    "\n",
    "    def _e_step(self, X):\n",
    "        D = 1.0 / euclidean_distances(X, self.cluster_centers_, squared=True)\n",
    "        D **= 1.0 / (self.m - 1)\n",
    "        D /= np.sum(D, axis=1)[:, np.newaxis]\n",
    "        # shape: n_samples x k\n",
    "        self.fuzzy_labels_ = D\n",
    "        self.labels_ = self.fuzzy_labels_.argmax(axis=1)\n",
    "\n",
    "    def _m_step(self, X):\n",
    "        weights = self.fuzzy_labels_ ** self.m\n",
    "        # shape: n_clusters x n_features\n",
    "        self.cluster_centers_ = np.dot(X.T, weights).T\n",
    "        self.cluster_centers_ /= weights.sum(axis=0)[:, np.newaxis]\n",
    "\n",
    "    def fit(self, X, y=None):\n",
    "        n_samples, n_features = X.shape\n",
    "        vdata = np.mean(np.var(X, 0))\n",
    "\n",
    "        random_state = check_random_state(self.random_state)\n",
    "        self.fuzzy_labels_ = random_state.rand(n_samples, self.k)\n",
    "        self.fuzzy_labels_ /= self.fuzzy_labels_.sum(axis=1)[:, np.newaxis]\n",
    "        self._m_step(X)\n",
    "\n",
    "        for i in range(self.max_iter):\n",
    "            centers_old = self.cluster_centers_.copy()\n",
    "\n",
    "            self._e_step(X)\n",
    "            self._m_step(X)\n",
    "\n",
    "            if np.sum((centers_old - self.cluster_centers_) ** 2) < self.tol * vdata:\n",
    "                break\n",
    "\n",
    "        return self\n",
    "    \n",
    "kmeans.fit(np.array(X))\n",
    "kmedians = KMedians(k=5)\n",
    "kmedians.fit(np.array(X))\n",
    "\n",
    "y_pred = kmedians.labels_\n",
    "X = pd.DataFrame(X)\n",
    "X[\"cluster\"] = y_pred\n",
    "print(pd.Series(y_pred).value_counts())\n",
    "\n",
    "\n",
    "import matplotlib.pyplot as plt\n",
    "\n",
    "plt.scatter(X.iloc[:,0], X.iloc[:, 1], c= X[\"cluster\"])"
   ]
  },
  {
   "cell_type": "code",
   "execution_count": 156,
   "metadata": {},
   "outputs": [
    {
     "data": {
      "text/plain": [
       "<matplotlib.collections.PathCollection at 0x1af25605948>"
      ]
     },
     "execution_count": 156,
     "metadata": {},
     "output_type": "execute_result"
    },
    {
     "data": {
      "image/png": "[encoded data removed]",
      "text/plain": [
       "<Figure size 432x288 with 1 Axes>"
      ]
     },
     "metadata": {
      "needs_background": "light"
     },
     "output_type": "display_data"
    }
   ],
   "source": [
    "import matplotlib.pyplot as plt\n",
    "\n",
    "plt.scatter(X.iloc[:,0], X.iloc[:, 1], c= X[\"cluster\"])"
   ]
  },
  {
   "cell_type": "code",
   "execution_count": 157,
   "metadata": {},
   "outputs": [
    {
     "data": {
      "image/png": "[encoded data removed]",
      "text/plain": [
       "<Figure size 432x288 with 1 Axes>"
      ]
     },
     "metadata": {
      "needs_background": "light"
     },
     "output_type": "display_data"
    }
   ],
   "source": [
    "from sklearn.decomposition import PCA\n",
    "\n",
    "pca = PCA(n_components=2)\n",
    "X = pca.fit_transform(X)\n",
    "\n",
    "plt.scatter(X[:, 0], X[:, 1], c=y_pred, cmap=plt.cm.Set1)\n",
    "plt.show()"
   ]
  },
  {
   "cell_type": "code",
   "execution_count": 159,
   "metadata": {},
   "outputs": [
    {
     "data": {
      "text/plain": [
       "array([[-0.33160283,  0.60978105],\n",
       "       [-0.33223949,  0.60973173],\n",
       "       [-0.33168083,  0.60978411],\n",
       "       ...,\n",
       "       [-0.31683449,  0.61103502],\n",
       "       [-0.31545684,  0.61115121],\n",
       "       [-0.31580352,  0.61112151]])"
      ]
     },
     "execution_count": 159,
     "metadata": {},
     "output_type": "execute_result"
    }
   ],
   "source": [
    "X"
   ]
  },
  {
   "cell_type": "code",
   "execution_count": null,
   "metadata": {},
   "outputs": [],
   "source": []
  }
 ],
 "metadata": {
  "kernelspec": {
   "display_name": "Python 3",
   "language": "python",
   "name": "python3"
  },
  "language_info": {
   "codemirror_mode": {
    "name": "ipython",
    "version": 3
   },
   "file_extension": ".py",
   "mimetype": "text/x-python",
   "name": "python",
   "nbconvert_exporter": "python",
   "pygments_lexer": "ipython3",
   "version": "3.7.7"
  }
 },
 "nbformat": 4,
 "nbformat_minor": 4
}
