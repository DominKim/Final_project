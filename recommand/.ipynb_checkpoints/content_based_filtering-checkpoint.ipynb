{
 "cells": [
  {
   "cell_type": "code",
   "execution_count": 48,
   "metadata": {},
   "outputs": [
    {
     "name": "stdout",
     "output_type": "stream",
     "text": [
      "부채총계의 0을 가진 행의 갯수 : 0\n",
      "유동부채의 0을 가진 행의 갯수 : 0\n",
      "자본총계의 0을 가진 행의 갯수 : 0\n",
      "자본총계per자산총계의 0을 가진 행의 갯수 : 0\n",
      "부채총계per자산총계의 0을 가진 행의 갯수 : 0\n",
      "cluster의 0을 가진 행의 갯수 : 2401\n",
      "비유동부채의 0을 가진 행의 갯수 : 37\n",
      "이익잉여금(결손금)의 0을 가진 행의 갯수 : 0\n"
     ]
    }
   ],
   "source": [
    "import pandas as pd\n",
    "import numpy as np\n",
    "import matplotlib.pyplot as plt\n",
    "from matplotlib import cm\n",
    "import seaborn as sns\n",
    "from sklearn.utils import check_random_state\n",
    "from sklearn.metrics import silhouette_samples, silhouette_score\n",
    "from sklearn.metrics.pairwise import euclidean_distances, manhattan_distances, cosine_similarity\n",
    "from sklearn.cluster import KMeans\n",
    "from sklearn.base import BaseEstimator\n",
    "from sklearn.preprocessing import StandardScaler, RobustScaler\n",
    "from scipy import stats\n",
    "plt.rcParams['font.family'] = 'NanumGothic'\n",
    "\n",
    "df = pd.read_csv(\"../data/KmedianCluster_6_CapitalPerAsset_LiabilityPerAsset.csv\", encoding = \"euc-kr\")\n",
    "# df.drop(\"자본과부채총계\", axis = 1, inplace = True)\n",
    "idx = df.iloc[:,9:].isnull().sum().sort_values().head(11).index\n",
    "idx2 = df.iloc[:,:9].columns\n",
    "use_df = df[list(idx2) + list(idx)]\n",
    "for col in use_df.iloc[:,9:].columns:\n",
    "    print(f\"{col}의 0을 가진 행의 갯수 : {use_df[use_df[col] == 0].shape[0]}\")\n",
    "    \n",
    "# 금융부채, 유형자산, 금융자산, 비유동자산, 대손충당금\n",
    "# use_df.drop([\"금융부채\", \"유형자산\", \"금융자산\",  \"대손충당금\"], axis = 1, inplace = True)\n",
    "\n",
    "# use_df.columns[9:]"
   ]
  },
  {
   "cell_type": "code",
   "execution_count": 86,
   "metadata": {
    "scrolled": true
   },
   "outputs": [
    {
     "name": "stderr",
     "output_type": "stream",
     "text": [
      "C:\\Users\\user\\anaconda3\\lib\\site-packages\\pandas\\core\\indexing.py:965: SettingWithCopyWarning: \n",
      "A value is trying to be set on a copy of a slice from a DataFrame.\n",
      "Try using .loc[row_indexer,col_indexer] = value instead\n",
      "\n",
      "See the caveats in the documentation: https://pandas.pydata.org/pandas-docs/stable/user_guide/indexing.html#returning-a-view-versus-a-copy\n",
      "  self.obj[item] = s\n"
     ]
    }
   ],
   "source": [
    "# 회사 고유값\n",
    "company = df[\"회사명\"].unique()\n",
    "lst_idx = []\n",
    "\n",
    "# 가장 최신분기에 해당하는 값 뽑기\n",
    "for name in company:\n",
    "    \n",
    "    day = list(use_df[use_df[\"회사명\"] == name][\"결산기준일\"].sort_values())[-1]\n",
    "    company_index = list(use_df[(use_df[\"회사명\"] == name) & (use_df[\"결산기준일\"] == day)].index)[0]\n",
    "    lst_idx.append(company_index)\n",
    "\n",
    "recom_df = use_df.iloc[lst_idx, :]\n",
    "recom_df.reset_index(drop = True, inplace = True)\n",
    "recom_df.iloc[:,9:] = recom_df.iloc[:,9:].fillna(0)\n",
    "\n",
    "# 코사인 값 구하기\n",
    "cosine = cosine_similarity(recom_df.iloc[:,9:], recom_df.iloc[:,9:]).argsort()[:,::-1]\n",
    "\n",
    "\n",
    "def get_recommend_list(df, name,  top = 30):\n",
    "    cluster_num = recom_df[recom_df[\"회사명\"] == name][\"cluster\"].values[0]\n",
    "    new_df = recom_df[recom_df[\"cluster\"] == cluster_num]\n",
    "    new_df.reset_index(drop = True, inplace = True)\n",
    "    cosine = cosine_similarity(new_df.iloc[:,9:], new_df.iloc[:,9:]).argsort()[:,::-1]\n",
    "    company_index = new_df[new_df[\"회사명\"] == name].index.values\n",
    "\n",
    "    sim_index = cosine[company_index, :30].reshape(-1)\n",
    "    sim_index = sim_index[sim_index != company_index]\n",
    "\n",
    "    result = new_df.iloc[sim_index, :].sort_values(\"자본총계\", ascending = False)\n",
    "    return result\n",
    "\n",
    "a = get_recommend_list(recom_df, \"제넥신\")"
   ]
  }
 ],
 "metadata": {
  "kernelspec": {
   "display_name": "Python 3",
   "language": "python",
   "name": "python3"
  },
  "language_info": {
   "codemirror_mode": {
    "name": "ipython",
    "version": 3
   },
   "file_extension": ".py",
   "mimetype": "text/x-python",
   "name": "python",
   "nbconvert_exporter": "python",
   "pygments_lexer": "ipython3",
   "version": "3.7.7"
  }
 },
 "nbformat": 4,
 "nbformat_minor": 4
}
