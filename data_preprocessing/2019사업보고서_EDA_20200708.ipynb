{
 "cells": [
  {
   "cell_type": "markdown",
   "metadata": {},
   "source": [
    "### 1.data load"
   ]
  },
  {
   "cell_type": "code",
   "execution_count": 168,
   "metadata": {},
   "outputs": [],
   "source": [
    "import pandas as pd\n",
    "import numpy as np\n",
    "import matplotlib.pyplot as plt\n",
    "import seaborn as sns\n",
    "import re\n",
    "\n",
    "#  data load\n",
    "df2019 = pd.read_csv(\"../data/2019_사업보고서_01_재무상태표_연결_20200623.txt\", sep = \"\\t\", encoding = \"cp949\")"
   ]
  },
  {
   "cell_type": "code",
   "execution_count": 201,
   "metadata": {},
   "outputs": [
    {
     "name": "stdout",
     "output_type": "stream",
     "text": [
      "<class 'pandas.core.frame.DataFrame'>\n",
      "RangeIndex: 83940 entries, 0 to 83939\n",
      "Data columns (total 12 columns):\n",
      " #   Column  Non-Null Count  Dtype  \n",
      "---  ------  --------------  -----  \n",
      " 0   종목코드    83940 non-null  object \n",
      " 1   회사명     83940 non-null  object \n",
      " 2   시장구분    83940 non-null  object \n",
      " 3   업종      83940 non-null  int64  \n",
      " 4   업종명     83940 non-null  object \n",
      " 5   결산월     83940 non-null  int64  \n",
      " 6   결산기준일   83940 non-null  object \n",
      " 7   보고서종류   83940 non-null  object \n",
      " 8   통화      83940 non-null  object \n",
      " 9   항목코드    83940 non-null  object \n",
      " 10  항목명     83940 non-null  object \n",
      " 11  당기      75426 non-null  float32\n",
      "dtypes: float32(1), int64(2), object(9)\n",
      "memory usage: 7.4+ MB\n"
     ]
    }
   ],
   "source": [
    "df2019.info()"
   ]
  },
  {
   "cell_type": "markdown",
   "metadata": {},
   "source": [
    "### 2. 불필요한 변수 제거"
   ]
  },
  {
   "cell_type": "code",
   "execution_count": 169,
   "metadata": {},
   "outputs": [],
   "source": [
    "# 필요 없는 변수 제거\n",
    "def delete_col(data):\n",
    "#     data.drop(\"통화\", axis = 1, inplace = True)\n",
    "    data.drop(\"Unnamed: 15\", axis = 1, inplace = True)\n",
    "    data.drop(\"전기\", axis = 1, inplace = True)\n",
    "    data.drop(\"전전기\", axis = 1, inplace = True)\n",
    "    data.drop(\"재무제표종류\", axis = 1, inplace = True)\n",
    "    return data\n",
    "\n",
    "df2019 = delete_col(df2019)"
   ]
  },
  {
   "cell_type": "markdown",
   "metadata": {},
   "source": [
    "### 3. 연속형변수(당기, 전기, 전전기)  dtype 변경"
   ]
  },
  {
   "cell_type": "code",
   "execution_count": 170,
   "metadata": {},
   "outputs": [],
   "source": [
    "def str_to_float(data):\n",
    "    import numpy as np\n",
    "    \n",
    "    data[\"당기\"] = data[\"당기\"].str.replace(\",\", \"\")\n",
    "#     data[\"전기\"] = data[\"전기\"].str.replace(\",\", \"\")\n",
    "#     data[\"전전기\"] = data[\"전전기\"].str.replace(\",\", \"\")\n",
    "    data[\"당기\"] = data[\"당기\"].astype(np.float32)\n",
    "    return data\n",
    "\n",
    "df2019 = str_to_float(df2019)"
   ]
  },
  {
   "cell_type": "markdown",
   "metadata": {},
   "source": [
    "### 4. 항목명 변수 처리"
   ]
  },
  {
   "cell_type": "code",
   "execution_count": 171,
   "metadata": {},
   "outputs": [],
   "source": [
    "def duplication_check(data):\n",
    "    # 항목코드 중복 확인\n",
    "    entity_코드 = []\n",
    "    entity_명 = []\n",
    "    without_entity_코드 = []\n",
    "    without_entity_명 = []\n",
    "\n",
    "    # 각 리스트에 코드 및 코드명 append(소문자 처리)\n",
    "    for idx in range(len(data)):\n",
    "        if \"entity\" in data[\"항목코드\"][idx]:\n",
    "            entity_코드.append(data[\"항목코드\"][idx].lower())\n",
    "            entity_명.append(data[\"항목명\"][idx].lower())\n",
    "        else:\n",
    "            without_entity_코드.append(data[\"항목코드\"][idx].lower())\n",
    "            without_entity_명.append(data[\"항목명\"][idx].lower())\n",
    "\n",
    "    # !entity 코드 딕셔너리\n",
    "    dic_without_entity = {re.findall(\"_\\w{1,}\", without_entity_코드[idx])[0].lower():[] for idx in range(len(without_entity_코드))}\n",
    "\n",
    "    for i, j in zip(without_entity_코드, without_entity_명):\n",
    "        dic_without_entity[re.findall(\"_\\w{1,}\", i)[0].lower()].append(j)\n",
    "\n",
    "    check_without_entity = {i:len(set(j)) for i, j in dic_without_entity.items()}\n",
    "    \n",
    "    # entity 코드 딕셔너리\n",
    "    dic_entity = {entity_코드[idx]:[] for idx in range(len(entity_코드))}\n",
    "    \n",
    "    for i, j in zip(entity_코드, entity_명):\n",
    "        dic_entity[i].append(j)\n",
    "        \n",
    "    check_entity = {i:len(set(j)) for i, j in dic_entity.items()}\n",
    "    \n",
    "    return entity_코드, entity_명, without_entity_코드, without_entity_명, dic_without_entity, dic_entity\n",
    "\n",
    "entity_코드, entity_명, without_entity_코드, without_entity_명, dic_without_entity, dic_entity = duplication_check(df2019)"
   ]
  },
  {
   "cell_type": "markdown",
   "metadata": {},
   "source": [
    "### 5. 공시된 항목명, 항목코드 가져오기(금융감독원 재무제표 양식)"
   ]
  },
  {
   "cell_type": "code",
   "execution_count": 172,
   "metadata": {},
   "outputs": [],
   "source": [
    "def extract_element_id(data):\n",
    "    element_idx_lst_entity = []\n",
    "    element_idx_lst_without_entity = []\n",
    "    \n",
    "    for idx in range(len(data)):\n",
    "        if \"entity\" in data[\"항목코드\"][idx]:\n",
    "            element_idx_lst_entity.append(data[\"항목코드\"][idx])\n",
    "        else:\n",
    "            element_idx_lst_without_entity.append(data[\"항목코드\"][idx])\n",
    "            \n",
    "    entity = sorted(set(element_idx_lst_entity), reverse = True)\n",
    "    without_entity = sorted(set(element_idx_lst_without_entity), reverse = True)\n",
    "    \n",
    "    return entity, without_entity\n",
    "\n",
    "a, b = extract_element_id(df2019)\n",
    "pd.Series(b).to_csv(\"../2019항목명.csv\", encoding = \"euc-kr\", index = False)\n",
    "\n",
    "elementid = pd.read_excel(\"../data/재무제표양식.xlsx\", encoding = \"utf-8\", sheet_name = \"BS1\")\n",
    "# '한글 Label', 'Element ID'\n",
    "df_element = elementid[['한글 Label', 'Element ID']]\n",
    "df_element = df_element[df_element[\"Element ID\"].notnull()]\n",
    "\n",
    "df_element.columns = df_element.columns.str.replace(\" \", \"_\")\n",
    "lst_element = df_element[\"Element_ID\"].unique()\n",
    "\n",
    "re_lst_element = []\n",
    "for i in lst_element:\n",
    "    a = re.findall(\"_\\w{1,}\", i)[0].lower()\n",
    "    re_lst_element.append(a)\n",
    " \n",
    "dic_element = {i:[] for i in re_lst_element}\n",
    "for i, j in zip(re_lst_element, df_element[\"한글_Label\"]):\n",
    "    dic_element[i].append(j)"
   ]
  },
  {
   "cell_type": "markdown",
   "metadata": {},
   "source": [
    "### 5-1. 항목명 entity 값 처리(ver_1)"
   ]
  },
  {
   "cell_type": "code",
   "execution_count": 173,
   "metadata": {},
   "outputs": [],
   "source": [
    "# 항목명 전치리\n",
    "\n",
    "# 1) _가진 항목명 추출\n",
    "lst_ = []\n",
    "for i in range(len(df2019)):\n",
    "    if \"_\" in df2019.loc[i, \"항목명\"]:\n",
    "        lst_.append(i)\n",
    "        \n",
    "def preprocessing(x):\n",
    "    a = x.replace(\" \", \"\")\n",
    "    a = a.replace(\"_\", \"\")\n",
    "    a = a.replace(\"[\", \"\")\n",
    "    a = a.replace(\"]\", \"\")\n",
    "    a = a.replace(\"(\", \"\")\n",
    "    a = a.replace(\")\", \"\")\n",
    "    a = a.replace(\".\", \"\")\n",
    "    a = re.sub(\"[ⅠⅡⅢⅣⅤIII]\", \"\", a)\n",
    "    a = re.sub(\"[1-9]\", \"\", a)\n",
    "    \n",
    "    \n",
    "    return a\n",
    "\n",
    "df2019[\"항목명\"] = df2019[\"항목명\"].agg(preprocessing)"
   ]
  },
  {
   "cell_type": "code",
   "execution_count": 174,
   "metadata": {},
   "outputs": [],
   "source": [
    "lst_idx = []\n",
    "for i in range(len(df2019)):\n",
    "    if \"총계\" in df2019[\"항목명\"][i] and \"entity\" in df2019[\"항목코드\"][i]:\n",
    "        lst_idx.append(i)"
   ]
  },
  {
   "cell_type": "code",
   "execution_count": null,
   "metadata": {},
   "outputs": [],
   "source": [
    "for i in lst_idx:\n",
    "    if df2019[\"항목명\"][i] == '부채총계':\n",
    "        df2019[\"항목코드\"][i] = \"ifrs-full_Liabilities\"\n",
    "        \n",
    "    elif df2019[\"항목명\"][i] == '자본과부채의총계':\n",
    "        df2019[\"항목코드\"][i] = \"ifrs-full_EquityAndLiabilities\"\n",
    "        \n",
    "    elif df2019[\"항목명\"][i] == '자산총계':\n",
    "        df2019[\"항목코드\"][i] = \"ifrs-full_Assets\"\n",
    "        \n",
    "    else:\n",
    "        df2019[\"항목코드\"][i] = \"ifrs-full_Equity\""
   ]
  },
  {
   "cell_type": "markdown",
   "metadata": {},
   "source": [
    "### 6. entity 제외 항목명 변수 전처리"
   ]
  },
  {
   "cell_type": "code",
   "execution_count": 176,
   "metadata": {},
   "outputs": [
    {
     "name": "stderr",
     "output_type": "stream",
     "text": [
      "C:\\Users\\user\\anaconda3\\lib\\site-packages\\ipykernel_launcher.py:3: SettingWithCopyWarning: \n",
      "A value is trying to be set on a copy of a slice from a DataFrame\n",
      "\n",
      "See the caveats in the documentation: https://pandas.pydata.org/pandas-docs/stable/user_guide/indexing.html#returning-a-view-versus-a-copy\n",
      "  This is separate from the ipykernel package so we can avoid doing imports until\n"
     ]
    }
   ],
   "source": [
    "for idx in range(len(df2019)):\n",
    "    if \"entity\" not in df2019[\"항목코드\"][idx]:\n",
    "        df2019[\"항목명\"][idx] = dic_element[re.findall(\"_\\w{1,}\", df2019[\"항목코드\"][idx])[0].lower()][0]"
   ]
  },
  {
   "cell_type": "markdown",
   "metadata": {},
   "source": [
    "### 6-1. entity 변수 전처리"
   ]
  },
  {
   "cell_type": "code",
   "execution_count": null,
   "metadata": {},
   "outputs": [],
   "source": [
    "#  항목명 여러개 확인\n",
    "\n",
    "dic_please = {i:[]  for i in df2019[\"항목명\"].unique()}\n",
    "\n",
    "for i in range(len(df2019)):\n",
    "    if \"entity\" not in df2019.loc[i, \"항목코드\"]:\n",
    "        dic_please[df2019.loc[i, \"항목명\"]].append(df2019.loc[i, \"항목코드\"])\n",
    "        \n",
    "for i,j in dic_please.items():\n",
    "    dic_please[i] = set(j)       \n",
    "    \n",
    "dic_final = {}\n",
    "cnt = 0\n",
    "for i, j in dic_please.items():\n",
    "    if len(j) == 2:\n",
    "        j = list(j)\n",
    "        if re.findall(\"_\\w{1,}\", j[0])[0] != re.findall(\"_\\w{1,}\", j[1])[0]:\n",
    "            dic_final[i] = j\n",
    "            cnt += 1\n",
    "    elif len(j) > 2:\n",
    "        j = list(j)\n",
    "        dic_final[i] = j\n",
    "        cnt += 1\n",
    "        \n",
    "print(cnt)\n",
    "\n",
    "dic_final.keys()\n",
    "# 제거 : 감가상각누계액, 정부보조금\n",
    "# 합계 : 대손충당금, 현재가치할인차금\n",
    "# 보류 : 평가충당금, 손상차손누계액\n",
    "df2019.drop((df2019[df2019[\"항목명\"] == \"감가상각누계액\") | (df2019[df2019[\"항목명\"] == \"정부보조금\"]).index, inplace = True).reset_index(drop = True, inplace = True)"
   ]
  },
  {
   "cell_type": "code",
   "execution_count": null,
   "metadata": {},
   "outputs": [],
   "source": []
  },
  {
   "cell_type": "code",
   "execution_count": 196,
   "metadata": {},
   "outputs": [],
   "source": [
    "# entity변수를 가진 index 추출\n",
    "idx_entity = []\n",
    "\n",
    "for i in range(len(df2019)):\n",
    "    if \"entity\" in df2019.loc[i, \"항목코드\"]:\n",
    "        idx_entity.append(i)"
   ]
  },
  {
   "cell_type": "code",
   "execution_count": null,
   "metadata": {},
   "outputs": [],
   "source": []
  },
  {
   "cell_type": "code",
   "execution_count": 197,
   "metadata": {},
   "outputs": [
    {
     "name": "stderr",
     "output_type": "stream",
     "text": [
      "C:\\Users\\user\\anaconda3\\lib\\site-packages\\ipykernel_launcher.py:30: SettingWithCopyWarning: \n",
      "A value is trying to be set on a copy of a slice from a DataFrame\n",
      "\n",
      "See the caveats in the documentation: https://pandas.pydata.org/pandas-docs/stable/user_guide/indexing.html#returning-a-view-versus-a-copy\n"
     ]
    }
   ],
   "source": [
    "elementid = pd.read_excel(\"../data/재무제표양식.xlsx\", encoding = \"utf-8\", sheet_name = \"BS1\")\n",
    "# '한글 Label', 'Element ID'\n",
    "df_element = elementid[['한글 Label', 'Element ID']]\n",
    "df_element = df_element[df_element[\"Element ID\"].notnull()]\n",
    "\n",
    "df_element.columns = df_element.columns.str.replace(\" \", \"_\")\n",
    "lst_element = df_element[\"Element_ID\"].unique()\n",
    "\n",
    "re_lst_element = []\n",
    "for i in lst_element:\n",
    "    a = re.findall(\"_\\w{1,}\", i)[0].lower()\n",
    "    re_lst_element.append(a)\n",
    " \n",
    "dic_elementid = {(((i.replace(\"_\", \"\")).replace(\" \", \"\")).replace(\"[\", \"\")).replace(\"]\", \"\"):j \n",
    "                 for i, j in zip(df_element[\"한글_Label\"], df_element[\"Element_ID\"])}\n",
    "\n",
    "\n",
    "# entity 포함 항목코드 항목코드 전처리\n",
    "no_preprocessing_entity_idx = []\n",
    "for idx in idx_entity:\n",
    "    try:\n",
    "        df2019.loc[idx, \"항목코드\"] = dic_elementid[df2019.loc[idx, \"항목명\"]]\n",
    "\n",
    "    except Exception as e:\n",
    "        no_preprocessing_entity_idx.append(idx)\n",
    "        \n",
    "# 한번더 전처리\n",
    "for idx in range(len(df2019)):\n",
    "    if \"entity\" not in df2019[\"항목코드\"][idx]:\n",
    "        df2019[\"항목명\"][idx] = dic_element[re.findall(\"_\\w{1,}\", df2019[\"항목코드\"][idx])[0].lower()][0]"
   ]
  },
  {
   "cell_type": "code",
   "execution_count": 200,
   "metadata": {},
   "outputs": [
    {
     "data": {
      "text/plain": [
       "기타수취채권             134\n",
       "무형자산               130\n",
       "당기손익-공정가치측정금융자산    123\n",
       "기타지급채무              96\n",
       "매각예정비유동자산           90\n",
       "                  ... \n",
       "유동성차입금및사채            1\n",
       "유동장기리스부채             1\n",
       "지속관여자산관련부채           1\n",
       "매각예정비유동자산관련부채        1\n",
       "유동화부채                1\n",
       "Name: 항목명, Length: 957, dtype: int64"
      ]
     },
     "execution_count": 200,
     "metadata": {},
     "output_type": "execute_result"
    }
   ],
   "source": [
    "df2019.iloc[no_preprocessing_entity_idx,][\"항목명\"].value_counts()"
   ]
  },
  {
   "cell_type": "code",
   "execution_count": 207,
   "metadata": {},
   "outputs": [
    {
     "data": {
      "text/plain": [
       "array(['ifrs_CurrentLiabilities', 'ifrs-full_CurrentLiabilities'],\n",
       "      dtype=object)"
      ]
     },
     "execution_count": 207,
     "metadata": {},
     "output_type": "execute_result"
    }
   ],
   "source": [
    "df2019[df2019[\"항목명\"] == \"유동부채\"][\"항목코드\"].unique()"
   ]
  },
  {
   "cell_type": "markdown",
   "metadata": {},
   "source": [
    "### 7. 정제된 데이터 프레임 만들기 "
   ]
  },
  {
   "cell_type": "code",
   "execution_count": 65,
   "metadata": {},
   "outputs": [],
   "source": [
    "# DB 테이블에 적용할 D.F\n",
    "# 회사이름 추출\n",
    "lst_company = df2019[\"회사명\"].unique()\n",
    "element_value = []\n",
    "for i in dic_element.values():\n",
    "    element_value.append(i[0])\n",
    "    \n",
    "# columns\n",
    "col = list(df2019.columns[0:8]) + element_value\n",
    "check_col = list(dic_element.keys())\n",
    "\n",
    "#  해당년도 데이터 행길이\n",
    "company_dic = {i:[] for i in lst_company}\n",
    "day = []\n",
    "\n",
    "for i in lst_company:\n",
    "    company_dic[i].append(df2019[df2019[\"회사명\"] == i][\"결산기준일\"].unique())\n",
    "    day.append(len(df2019[df2019[\"회사명\"] == i][\"결산기준일\"].unique()))\n",
    "    \n",
    "row = sum(day)\n",
    "\n",
    "bon = np.zeros([row,len(col)]) + np.NAN\n",
    "\n",
    "# D.F\n",
    "last_df = pd.DataFrame(bon, columns = col)"
   ]
  },
  {
   "cell_type": "markdown",
   "metadata": {},
   "source": [
    "### 8. 데이터 입력"
   ]
  },
  {
   "cell_type": "code",
   "execution_count": 67,
   "metadata": {
    "scrolled": true
   },
   "outputs": [],
   "source": [
    "dic_standard = {i:list(df2019[df2019[\"회사명\"] == i][\"결산기준일\"].unique()) for i in lst_company}\n",
    "last_company = []\n",
    "last_standard  = []\n",
    "for key, value in dic_standard.items():\n",
    "    for index in range(len(value)):\n",
    "        last_company.append(key)\n",
    "        last_standard.append(value[index])\n",
    "        \n",
    "cnt = 0\n",
    "\n",
    "for idx in range(len(last_company)):\n",
    "\n",
    "    a = df2019[(df2019[\"회사명\"] == last_company[idx]) & (df2019[\"결산기준일\"] == last_standard[idx])]\n",
    "    a.reset_index(drop = True, inplace = True)\n",
    "    for i in range(8):\n",
    "        last_df.iloc[cnt, i] = a.iloc[0, i]\n",
    "\n",
    "    for idx3 in range(len(a)):\n",
    "        if \"entity\" not in a[\"항목코드\"][idx3]:\n",
    "            loc = dic_element[re.findall(\"_\\w{1,}\", a[\"항목코드\"][idx3])[0].lower()][0]\n",
    "            last_df.loc[cnt, loc] = a[\"당기\"][idx3]\n",
    "    cnt += 1"
   ]
  },
  {
   "cell_type": "markdown",
   "metadata": {},
   "source": [
    "### 9. 2018데이터 입력"
   ]
  },
  {
   "cell_type": "code",
   "execution_count": null,
   "metadata": {
    "scrolled": true
   },
   "outputs": [],
   "source": [
    "# 2018년 변수 처리\n",
    "df = pd.read_csv(\"./data/2019_사업보고서_01_재무상태표_연결_20200623.txt\", sep = \"\\t\", encoding = \"cp949\")\n",
    "\n",
    "def str_to_float(data):\n",
    "    import numpy as np\n",
    "    \n",
    "    data[\"당기\"] = data[\"당기\"].str.replace(\",\", \"\")\n",
    "    data[\"전기\"] = data[\"전기\"].str.replace(\",\", \"\")\n",
    "    data[\"전전기\"] = data[\"전전기\"].str.replace(\",\", \"\")\n",
    "    data[\"당기\"] = data[\"당기\"].astype(np.float32)\n",
    "    data[\"전기\"] = data[\"전기\"].astype(np.float32)\n",
    "    data[\"전전기\"] = data[\"전전기\"].astype(np.float32)\n",
    "    return data\n",
    "\n",
    "df = str_to_float(df)\n",
    "\n",
    "# 필요 없는 변수 제거\n",
    "def delete_col(data):\n",
    "    data.drop(\"통화\", axis = 1, inplace = True)\n",
    "    data.drop(\"Unnamed: 15\", axis = 1, inplace = True)\n",
    "    data.drop(\"당기\", axis = 1, inplace = True)\n",
    "    data.drop(\"전전기\", axis = 1, inplace = True)\n",
    "    data.drop(\"재무제표종류\", axis = 1, inplace = True)\n",
    "    return data\n",
    "\n",
    "df = delete_col(df)\n",
    "\n",
    "\n",
    "# 항목명 변수 전처리\n",
    "lst_idx = []\n",
    "for i in range(len(df)):\n",
    "    if \"총계\" in df[\"항목명\"][i] and \"entity\" in df[\"항목코드\"][i]:\n",
    "        lst_idx.append(i)\n",
    "\n",
    "\n",
    "for i in lst_idx:\n",
    "    if df[\"항목명\"][i] == '부채총계':\n",
    "        df[\"항목코드\"][i] = \"ifrs-full_Liabilities\"\n",
    "        \n",
    "    elif df[\"항목명\"][i] == '자본과 부채의 총계':\n",
    "        df[\"항목코드\"][i] = \"ifrs-full_EquityAndLiabilities\"\n",
    "        \n",
    "    elif df[\"항목명\"][i] == '자산총계':\n",
    "        df[\"항목코드\"][i] = \"ifrs-full_Assets\"\n",
    "        \n",
    "    else:\n",
    "        df[\"항목코드\"][i] = \"ifrs-full_Equity\"\n",
    "        \n",
    "        \n",
    "for idx in range(len(df)):\n",
    "    if \"entity\" not in df[\"항목코드\"][idx]:\n",
    "        df[\"항목명\"][idx] = dic_element[re.findall(\"_\\w{1,}\", df[\"항목코드\"][idx])[0].lower()][0]\n",
    "\n",
    "\n",
    "\n",
    "\n",
    "# DB 테이블에 적용할 D.F\n",
    "# 회사이름 추출\n",
    "lst_company = df[\"회사명\"].unique()\n",
    "element_value = []\n",
    "for i in dic_element.values():\n",
    "    element_value.append(i[0])\n",
    "    \n",
    "# columns\n",
    "col = list(df.columns[0:8]) + element_value\n",
    "check_col = list(dic_element.keys())\n",
    "\n",
    "#  해당년도 데이터 행길이\n",
    "company_dic = {i:[] for i in lst_company}\n",
    "day = []\n",
    "\n",
    "for i in lst_company:\n",
    "    company_dic[i].append(df[df[\"회사명\"] == i][\"결산기준일\"].unique())\n",
    "    day.append(len(df[df[\"회사명\"] == i][\"결산기준일\"].unique()))\n",
    "    \n",
    "row = sum(day)\n",
    "\n",
    "bon = np.zeros([row,len(col)]) + np.NAN\n",
    "\n",
    "# D.F\n",
    "add_df = pd.DataFrame(bon, columns = col)\n",
    "\n",
    "\n",
    "# 정제된 데이터프레임 생성\n",
    "dic_standard = {i:list(df[df[\"회사명\"] == i][\"결산기준일\"].unique()) for i in lst_company}\n",
    "last_company = []\n",
    "last_standard  = []\n",
    "for key, value in dic_standard.items():\n",
    "    for index in range(len(value)):\n",
    "        last_company.append(key)\n",
    "        last_standard.append(value[index])\n",
    "        \n",
    "cnt = 0\n",
    "\n",
    "for idx in range(len(last_company)):\n",
    "\n",
    "    a = df[(df[\"회사명\"] == last_company[idx]) & (df[\"결산기준일\"] == last_standard[idx])]\n",
    "    a.reset_index(drop = True, inplace = True)\n",
    "    for i in range(8):\n",
    "        add_df.iloc[cnt, i] = a.iloc[0, i]\n",
    "\n",
    "    for idx3 in range(len(a)):\n",
    "        if \"entity\" not in a[\"항목코드\"][idx3]:\n",
    "            loc = dic_element[re.findall(\"_\\w{1,}\", a[\"항목코드\"][idx3])[0].lower()][0]\n",
    "            add_df.loc[cnt, loc] = a[\"전기\"][idx3]\n",
    "    cnt += 1\n",
    "\n",
    "add_df[\"결산기준일\"] = add_df[\"결산기준일\"].str.replace(\"2019\", \"2018\")\n",
    "\n",
    "last_df = pd.concat([last_df, add_df]).reset_index(drop = True)"
   ]
  },
  {
   "cell_type": "markdown",
   "metadata": {},
   "source": [
    "### 10. 2017 데이터 입력"
   ]
  },
  {
   "cell_type": "code",
   "execution_count": null,
   "metadata": {
    "scrolled": true
   },
   "outputs": [],
   "source": [
    "# 2017년 변수 처리\n",
    "df = pd.read_csv(\"./data/2019_사업보고서_01_재무상태표_연결_20200623.txt\", sep = \"\\t\", encoding = \"cp949\")\n",
    "\n",
    "def str_to_float(data):\n",
    "    import numpy as np\n",
    "    \n",
    "    data[\"당기\"] = data[\"당기\"].str.replace(\",\", \"\")\n",
    "    data[\"전기\"] = data[\"전기\"].str.replace(\",\", \"\")\n",
    "    data[\"전전기\"] = data[\"전전기\"].str.replace(\",\", \"\")\n",
    "    data[\"당기\"] = data[\"당기\"].astype(np.float32)\n",
    "    data[\"전기\"] = data[\"전기\"].astype(np.float32)\n",
    "    data[\"전전기\"] = data[\"전전기\"].astype(np.float32)\n",
    "    return data\n",
    "\n",
    "df = str_to_float(df)\n",
    "\n",
    "# 필요 없는 변수 제거\n",
    "def delete_col(data):\n",
    "    data.drop(\"통화\", axis = 1, inplace = True)\n",
    "    data.drop(\"Unnamed: 15\", axis = 1, inplace = True)\n",
    "    data.drop(\"당기\", axis = 1, inplace = True)\n",
    "    data.drop(\"전기\", axis = 1, inplace = True)\n",
    "    data.drop(\"재무제표종류\", axis = 1, inplace = True)\n",
    "    return data\n",
    "\n",
    "df = delete_col(df)\n",
    "\n",
    "# 항목명 변수 전처리\n",
    "lst_idx = []\n",
    "for i in range(len(df)):\n",
    "    if \"총계\" in df[\"항목명\"][i] and \"entity\" in df[\"항목코드\"][i]:\n",
    "        lst_idx.append(i)\n",
    "\n",
    "\n",
    "for i in lst_idx:\n",
    "    if df[\"항목명\"][i] == '부채총계':\n",
    "        df[\"항목코드\"][i] = \"ifrs-full_Liabilities\"\n",
    "        \n",
    "    elif df[\"항목명\"][i] == '자본과 부채의 총계':\n",
    "        df[\"항목코드\"][i] = \"ifrs-full_EquityAndLiabilities\"\n",
    "        \n",
    "    elif df[\"항목명\"][i] == '자산총계':\n",
    "        df[\"항목코드\"][i] = \"ifrs-full_Assets\"\n",
    "        \n",
    "    else:\n",
    "        df[\"항목코드\"][i] = \"ifrs-full_Equity\"\n",
    "        \n",
    "        \n",
    "for idx in range(len(df)):\n",
    "    if \"entity\" not in df[\"항목코드\"][idx]:\n",
    "        df[\"항목명\"][idx] = dic_element[re.findall(\"_\\w{1,}\", df[\"항목코드\"][idx])[0].lower()][0]\n",
    "\n",
    "# DB 테이블에 적용할 D.F\n",
    "# 회사이름 추출\n",
    "lst_company = df2019[\"회사명\"].unique()\n",
    "element_value = []\n",
    "for i in dic_element.values():\n",
    "    element_value.append(i[0])\n",
    "    \n",
    "# columns\n",
    "col = list(df.columns[0:8]) + element_value\n",
    "check_col = list(dic_element.keys())\n",
    "\n",
    "#  해당년도 데이터 행길이\n",
    "company_dic = {i:[] for i in lst_company}\n",
    "day = []\n",
    "\n",
    "for i in lst_company:\n",
    "    company_dic[i].append(df[df[\"회사명\"] == i][\"결산기준일\"].unique())\n",
    "    day.append(len(df[df[\"회사명\"] == i][\"결산기준일\"].unique()))\n",
    "    \n",
    "row = sum(day)\n",
    "\n",
    "bon = np.zeros([row,len(col)]) + np.NAN\n",
    "\n",
    "# D.F\n",
    "add_df = pd.DataFrame(bon, columns = col)\n",
    "\n",
    "\n",
    "dic_standard = {i:list(df[df[\"회사명\"] == i][\"결산기준일\"].unique()) for i in lst_company}\n",
    "last_company = []\n",
    "last_standard  = []\n",
    "for key, value in dic_standard.items():\n",
    "    for index in range(len(value)):\n",
    "        last_company.append(key)\n",
    "        last_standard.append(value[index])\n",
    "        \n",
    "cnt = 0\n",
    "\n",
    "for idx in range(len(last_company)):\n",
    "\n",
    "    a = df[(df[\"회사명\"] == last_company[idx]) & (df[\"결산기준일\"] == last_standard[idx])]\n",
    "    a.reset_index(drop = True, inplace = True)\n",
    "    for i in range(8):\n",
    "        add_df.iloc[cnt, i] = a.iloc[0, i]\n",
    "\n",
    "    for idx3 in range(len(a)):\n",
    "        if \"entity\" not in a[\"항목코드\"][idx3]:\n",
    "            loc = dic_element[re.findall(\"_\\w{1,}\", a[\"항목코드\"][idx3])[0].lower()][0]\n",
    "            add_df.loc[cnt, loc] = a[\"전전기\"][idx3]\n",
    "    cnt += 1\n",
    "\n",
    "add_df[\"결산기준일\"] = add_df[\"결산기준일\"].str.replace(\"2019\", \"2017\")\n",
    "\n",
    "last_df = pd.concat([last_df, add_df]).reset_index(drop = True)"
   ]
  },
  {
   "cell_type": "code",
   "execution_count": 76,
   "metadata": {},
   "outputs": [],
   "source": [
    "last_df.to_csv(\"./data/2017_2019_without_entity.csv\", encoding = \"euc-kr\", index = False)"
   ]
  }
 ],
 "metadata": {
  "kernelspec": {
   "display_name": "Python 3",
   "language": "python",
   "name": "python3"
  },
  "language_info": {
   "codemirror_mode": {
    "name": "ipython",
    "version": 3
   },
   "file_extension": ".py",
   "mimetype": "text/x-python",
   "name": "python",
   "nbconvert_exporter": "python",
   "pygments_lexer": "ipython3",
   "version": "3.7.7"
  }
 },
 "nbformat": 4,
 "nbformat_minor": 4
}
