{
 "cells": [
  {
   "cell_type": "code",
   "execution_count": 76,
   "metadata": {},
   "outputs": [],
   "source": [
    "import pandas as pd\n",
    "import numpy as np\n",
    "import matplotlib.pyplot as plt\n",
    "import seaborn\n",
    "import re\n",
    "\n",
    "df = pd.read_csv(\"../data/fianl_data_without_entity.csv\", encoding = \"euc-kr\")"
   ]
  },
  {
   "cell_type": "code",
   "execution_count": null,
   "metadata": {},
   "outputs": [],
   "source": [
    "company = pd.read_csv(\"../data/check_companies2020.csv\", encoding = \"euc-kr\")\n",
    "company[company[\"회사명\"] < 4]"
   ]
  },
  {
   "cell_type": "code",
   "execution_count": 44,
   "metadata": {},
   "outputs": [],
   "source": [
    "# 한화케미칼 -> 한화솔루션\n",
    "# 메디파트너생명공학 -> 쎌마테라퓨틱스\n",
    "# 현성바이탈 -> 코썬바이오\n",
    "# 화신테크 -> 이노와이즈\n",
    "# 웰크론강원 -> 강원\n",
    "# KJ프리텍 -> 이엠앤아이\n",
    "# 지투하이소닉 -> 하이소닉\n",
    "# GMR 머티리얼즈 -> 글로스퍼랩스\n",
    "# 보령메디앙스 -> 메디앙스\n",
    "# 웅진코웨이 -> 코웨이\n",
    "# 휠라코리아 -> 휠라홀딩스\n",
    "# 유지인트 -> 에이비프로바이오\n",
    "# 에스엔텍 -> 이큐셀\n",
    "# 지엠피 -> 브이티지엠피\n",
    "# 서연전자 -> 모베이스전자\n",
    "# 젬백스테크놀러지 -> 에너전트 -> 젬백스지오\n",
    "# 스튜디오썸머 -> 행남사\n",
    "# 한컴시큐어 -> 한컴위드\n",
    "# 카리스국보 -> 국보\n",
    "# 팜스웰바이오 -> 큐브앤컴퍼니\n",
    "# 삼우엠스, 나인컴플렉스, 코스나인, 코티스\n",
    "# 에이티젠 -> 엔케이맥스\n",
    "# 한국타이어 -> 한국타이어앤테크놀로지\n",
    "# 한국타이어월드와이드 -> 한국테크놀로지그룹\n",
    "# 토필드 -> 필로시스헬스케어\n",
    "# 현대중공업 -> 한국조선해양\n",
    "# 에어파크 -> 엘 에너지 -> 퍼시픽바이오 -> 케이알피앤이\n",
    "# 만도공조 -> 위니아만도 -> 대유위니아 -> 위니아딤채\n",
    "# 영인프런티어 -> 에이프런티어\n",
    "# 세호로보트 -> 인터불스 -> 스타모빌리티\n",
    "# 리켐 -> 알이피 -> 스카이이앤엠\n",
    "# 까스텔바쟉 -> 까스텔바작\n",
    "# 엠코르셋 -> 그리티\n",
    "# KD건설 -> KD\n",
    "# 아트라스BX -> 한국아트라스비엑스"
   ]
  },
  {
   "cell_type": "code",
   "execution_count": 232,
   "metadata": {},
   "outputs": [],
   "source": [
    "# 회사명 변경\n",
    "def change_name(before, after):\n",
    "    df[(df[\"회사명\"] == before) | (df[\"회사명\"] == after)][\"회사명\"]\n",
    "    lst = df[(df[\"회사명\"] == before) | (df[\"회사명\"] == after)][\"회사명\"].index\n",
    "    df.iloc[lst, 1] = after\n",
    "\n",
    "change_name(\"아트라스BX\", \"한국아트라스비엑스\")"
   ]
  },
  {
   "cell_type": "code",
   "execution_count": null,
   "metadata": {},
   "outputs": [],
   "source": [
    "# 두산건설\n",
    "# 한컴지엠디\n",
    "# 동양네트웍스\n",
    "# 럭슬\n",
    "# 데코앤이\n",
    "# 차이나그레이트\n",
    "# 썬텍\n",
    "# 제이테크놀로지\n",
    "# 사조해표\n",
    "# 현대정보기술"
   ]
  },
  {
   "cell_type": "code",
   "execution_count": 228,
   "metadata": {},
   "outputs": [],
   "source": [
    "# 상장폐지 기업\n",
    "def delete_company(name):\n",
    "    lst = df[df['회사명'] == name].index\n",
    "    df.drop(lst, inplace = True)\n",
    "    \n",
    "delete_company(\"현대정보기술\")\n",
    "df.reset_index(drop = True, inplace = True)"
   ]
  },
  {
   "cell_type": "code",
   "execution_count": null,
   "metadata": {
    "scrolled": true
   },
   "outputs": [],
   "source": [
    "df.isnull().sum().sort_values().head(25)"
   ]
  },
  {
   "cell_type": "code",
   "execution_count": 83,
   "metadata": {},
   "outputs": [
    {
     "data": {
      "text/plain": [
       "'신주인수권부사채할증발행차금, 전환상환우선주부채할증발행차금, 교환사채상환할증금, 교환사채할인발행차금, 교환사채할증발행차금, 단기이연대출부대수익, 자산 [abstract], 투자선수금, 장기구조조정충당부채, 장기손실부담계약충당부채, 완성프로그램, 유형탐사평가자산, 재무상태표 [abstract], 자본 [abstract], 단기공사유보금, 부채 [abstract], 교환권대가, 전산자동화개발, 비유동 단기매매정의 충족 금융부채, 장기대행미수금'"
      ]
     },
     "execution_count": 83,
     "metadata": {},
     "output_type": "execute_result"
    }
   ],
   "source": [
    "\", \".join(df.isnull().sum().sort_values().tail(20).index)"
   ]
  },
  {
   "cell_type": "code",
   "execution_count": 84,
   "metadata": {},
   "outputs": [
    {
     "data": {
      "text/plain": [
       "(11674, 527)"
      ]
     },
     "execution_count": 84,
     "metadata": {},
     "output_type": "execute_result"
    }
   ],
   "source": [
    "df.shape"
   ]
  },
  {
   "cell_type": "code",
   "execution_count": 87,
   "metadata": {},
   "outputs": [
    {
     "data": {
      "text/html": [
       "<div>\n",
       "<style scoped>\n",
       "    .dataframe tbody tr th:only-of-type {\n",
       "        vertical-align: middle;\n",
       "    }\n",
       "\n",
       "    .dataframe tbody tr th {\n",
       "        vertical-align: top;\n",
       "    }\n",
       "\n",
       "    .dataframe thead th {\n",
       "        text-align: right;\n",
       "    }\n",
       "</style>\n",
       "<table border=\"1\" class=\"dataframe\">\n",
       "  <thead>\n",
       "    <tr style=\"text-align: right;\">\n",
       "      <th></th>\n",
       "      <th>회사명</th>\n",
       "      <th>자본과부채총계</th>\n",
       "    </tr>\n",
       "  </thead>\n",
       "  <tbody>\n",
       "    <tr>\n",
       "      <th>445</th>\n",
       "      <td>레드로버</td>\n",
       "      <td>NaN</td>\n",
       "    </tr>\n",
       "    <tr>\n",
       "      <th>2089</th>\n",
       "      <td>두산솔루스</td>\n",
       "      <td>NaN</td>\n",
       "    </tr>\n",
       "    <tr>\n",
       "      <th>2137</th>\n",
       "      <td>레드로버</td>\n",
       "      <td>NaN</td>\n",
       "    </tr>\n",
       "    <tr>\n",
       "      <th>3191</th>\n",
       "      <td>피에스케이</td>\n",
       "      <td>NaN</td>\n",
       "    </tr>\n",
       "    <tr>\n",
       "      <th>3427</th>\n",
       "      <td>HDC현대산업개발</td>\n",
       "      <td>NaN</td>\n",
       "    </tr>\n",
       "    <tr>\n",
       "      <th>3781</th>\n",
       "      <td>두산솔루스</td>\n",
       "      <td>NaN</td>\n",
       "    </tr>\n",
       "    <tr>\n",
       "      <th>3829</th>\n",
       "      <td>레드로버</td>\n",
       "      <td>NaN</td>\n",
       "    </tr>\n",
       "    <tr>\n",
       "      <th>4126</th>\n",
       "      <td>스타모빌리티</td>\n",
       "      <td>NaN</td>\n",
       "    </tr>\n",
       "    <tr>\n",
       "      <th>4157</th>\n",
       "      <td>신한알파리츠</td>\n",
       "      <td>NaN</td>\n",
       "    </tr>\n",
       "    <tr>\n",
       "      <th>4871</th>\n",
       "      <td>퓨전</td>\n",
       "      <td>NaN</td>\n",
       "    </tr>\n",
       "    <tr>\n",
       "      <th>4883</th>\n",
       "      <td>피에스케이</td>\n",
       "      <td>NaN</td>\n",
       "    </tr>\n",
       "    <tr>\n",
       "      <th>5053</th>\n",
       "      <td>효성중공업</td>\n",
       "      <td>NaN</td>\n",
       "    </tr>\n",
       "    <tr>\n",
       "      <th>5054</th>\n",
       "      <td>효성첨단소재</td>\n",
       "      <td>NaN</td>\n",
       "    </tr>\n",
       "    <tr>\n",
       "      <th>5055</th>\n",
       "      <td>효성티앤씨</td>\n",
       "      <td>NaN</td>\n",
       "    </tr>\n",
       "    <tr>\n",
       "      <th>5056</th>\n",
       "      <td>효성화학</td>\n",
       "      <td>NaN</td>\n",
       "    </tr>\n",
       "    <tr>\n",
       "      <th>9121</th>\n",
       "      <td>썬텍</td>\n",
       "      <td>NaN</td>\n",
       "    </tr>\n",
       "  </tbody>\n",
       "</table>\n",
       "</div>"
      ],
      "text/plain": [
       "            회사명  자본과부채총계\n",
       "445        레드로버      NaN\n",
       "2089      두산솔루스      NaN\n",
       "2137       레드로버      NaN\n",
       "3191      피에스케이      NaN\n",
       "3427  HDC현대산업개발      NaN\n",
       "3781      두산솔루스      NaN\n",
       "3829       레드로버      NaN\n",
       "4126     스타모빌리티      NaN\n",
       "4157     신한알파리츠      NaN\n",
       "4871         퓨전      NaN\n",
       "4883      피에스케이      NaN\n",
       "5053      효성중공업      NaN\n",
       "5054     효성첨단소재      NaN\n",
       "5055      효성티앤씨      NaN\n",
       "5056       효성화학      NaN\n",
       "9121         썬텍      NaN"
      ]
     },
     "execution_count": 87,
     "metadata": {},
     "output_type": "execute_result"
    }
   ],
   "source": [
    "pre1 = df[[\"회사명\", \"자본과부채총계\"]]\n",
    "pre1[pre1[\"자본과부채총계\"].isnull()]"
   ]
  },
  {
   "cell_type": "code",
   "execution_count": 88,
   "metadata": {},
   "outputs": [
    {
     "data": {
      "text/html": [
       "<div>\n",
       "<style scoped>\n",
       "    .dataframe tbody tr th:only-of-type {\n",
       "        vertical-align: middle;\n",
       "    }\n",
       "\n",
       "    .dataframe tbody tr th {\n",
       "        vertical-align: top;\n",
       "    }\n",
       "\n",
       "    .dataframe thead th {\n",
       "        text-align: right;\n",
       "    }\n",
       "</style>\n",
       "<table border=\"1\" class=\"dataframe\">\n",
       "  <thead>\n",
       "    <tr style=\"text-align: right;\">\n",
       "      <th></th>\n",
       "      <th>종목코드</th>\n",
       "      <th>회사명</th>\n",
       "      <th>시장구분</th>\n",
       "      <th>업종</th>\n",
       "      <th>업종명</th>\n",
       "      <th>결산월</th>\n",
       "      <th>결산기준일</th>\n",
       "      <th>보고서종류</th>\n",
       "      <th>재무상태표 [abstract]</th>\n",
       "      <th>자산 [abstract]</th>\n",
       "      <th>...</th>\n",
       "      <th>현금흐름위험회피파생상품평가손실</th>\n",
       "      <th>지분법기타포괄손익변동</th>\n",
       "      <th>이익잉여금(결손금)</th>\n",
       "      <th>이익준비금</th>\n",
       "      <th>기타법정적립금</th>\n",
       "      <th>임의적립금</th>\n",
       "      <th>미처분이익잉여금(미처리결손금)</th>\n",
       "      <th>비지배지분</th>\n",
       "      <th>자본총계</th>\n",
       "      <th>자본과부채총계</th>\n",
       "    </tr>\n",
       "  </thead>\n",
       "  <tbody>\n",
       "    <tr>\n",
       "      <th>445</th>\n",
       "      <td>[060300]</td>\n",
       "      <td>레드로버</td>\n",
       "      <td>코스닥시장상장법인</td>\n",
       "      <td>591.0</td>\n",
       "      <td>영화, 비디오물, 방송프로그램 제작 및 배급업</td>\n",
       "      <td>12.0</td>\n",
       "      <td>2019-12-31</td>\n",
       "      <td>사업보고서</td>\n",
       "      <td>NaN</td>\n",
       "      <td>NaN</td>\n",
       "      <td>...</td>\n",
       "      <td>NaN</td>\n",
       "      <td>NaN</td>\n",
       "      <td>-1.721994e+11</td>\n",
       "      <td>NaN</td>\n",
       "      <td>NaN</td>\n",
       "      <td>NaN</td>\n",
       "      <td>NaN</td>\n",
       "      <td>NaN</td>\n",
       "      <td>5.789188e+09</td>\n",
       "      <td>NaN</td>\n",
       "    </tr>\n",
       "    <tr>\n",
       "      <th>2137</th>\n",
       "      <td>[060300]</td>\n",
       "      <td>레드로버</td>\n",
       "      <td>코스닥시장상장법인</td>\n",
       "      <td>591.0</td>\n",
       "      <td>영화, 비디오물, 방송프로그램 제작 및 배급업</td>\n",
       "      <td>12.0</td>\n",
       "      <td>2018-12-31</td>\n",
       "      <td>사업보고서</td>\n",
       "      <td>NaN</td>\n",
       "      <td>NaN</td>\n",
       "      <td>...</td>\n",
       "      <td>NaN</td>\n",
       "      <td>NaN</td>\n",
       "      <td>-7.425069e+10</td>\n",
       "      <td>NaN</td>\n",
       "      <td>NaN</td>\n",
       "      <td>NaN</td>\n",
       "      <td>NaN</td>\n",
       "      <td>NaN</td>\n",
       "      <td>1.013587e+11</td>\n",
       "      <td>NaN</td>\n",
       "    </tr>\n",
       "    <tr>\n",
       "      <th>3829</th>\n",
       "      <td>[060300]</td>\n",
       "      <td>레드로버</td>\n",
       "      <td>코스닥시장상장법인</td>\n",
       "      <td>591.0</td>\n",
       "      <td>영화, 비디오물, 방송프로그램 제작 및 배급업</td>\n",
       "      <td>12.0</td>\n",
       "      <td>2017-12-31</td>\n",
       "      <td>사업보고서</td>\n",
       "      <td>NaN</td>\n",
       "      <td>NaN</td>\n",
       "      <td>...</td>\n",
       "      <td>NaN</td>\n",
       "      <td>NaN</td>\n",
       "      <td>-2.430996e+10</td>\n",
       "      <td>NaN</td>\n",
       "      <td>NaN</td>\n",
       "      <td>NaN</td>\n",
       "      <td>NaN</td>\n",
       "      <td>NaN</td>\n",
       "      <td>1.437280e+11</td>\n",
       "      <td>NaN</td>\n",
       "    </tr>\n",
       "    <tr>\n",
       "      <th>5512</th>\n",
       "      <td>[060300]</td>\n",
       "      <td>레드로버</td>\n",
       "      <td>코스닥시장상장법인</td>\n",
       "      <td>591.0</td>\n",
       "      <td>영화, 비디오물, 방송프로그램 제작 및 배급업</td>\n",
       "      <td>12.0</td>\n",
       "      <td>2019-06-30</td>\n",
       "      <td>반기보고서</td>\n",
       "      <td>NaN</td>\n",
       "      <td>NaN</td>\n",
       "      <td>...</td>\n",
       "      <td>NaN</td>\n",
       "      <td>NaN</td>\n",
       "      <td>-1.094667e+11</td>\n",
       "      <td>NaN</td>\n",
       "      <td>NaN</td>\n",
       "      <td>NaN</td>\n",
       "      <td>NaN</td>\n",
       "      <td>NaN</td>\n",
       "      <td>6.433454e+10</td>\n",
       "      <td>9.756144e+10</td>\n",
       "    </tr>\n",
       "    <tr>\n",
       "      <th>7148</th>\n",
       "      <td>[060300]</td>\n",
       "      <td>레드로버</td>\n",
       "      <td>코스닥시장상장법인</td>\n",
       "      <td>591.0</td>\n",
       "      <td>영화, 비디오물, 방송프로그램 제작 및 배급업</td>\n",
       "      <td>12.0</td>\n",
       "      <td>2019-03-31</td>\n",
       "      <td>1분기보고서</td>\n",
       "      <td>NaN</td>\n",
       "      <td>NaN</td>\n",
       "      <td>...</td>\n",
       "      <td>NaN</td>\n",
       "      <td>NaN</td>\n",
       "      <td>NaN</td>\n",
       "      <td>NaN</td>\n",
       "      <td>NaN</td>\n",
       "      <td>NaN</td>\n",
       "      <td>NaN</td>\n",
       "      <td>NaN</td>\n",
       "      <td>1.031632e+11</td>\n",
       "      <td>1.228558e+11</td>\n",
       "    </tr>\n",
       "    <tr>\n",
       "      <th>8784</th>\n",
       "      <td>[060300]</td>\n",
       "      <td>레드로버</td>\n",
       "      <td>코스닥시장상장법인</td>\n",
       "      <td>591.0</td>\n",
       "      <td>영화, 비디오물, 방송프로그램 제작 및 배급업</td>\n",
       "      <td>12.0</td>\n",
       "      <td>2019-09-30</td>\n",
       "      <td>3분기보고서</td>\n",
       "      <td>NaN</td>\n",
       "      <td>NaN</td>\n",
       "      <td>...</td>\n",
       "      <td>NaN</td>\n",
       "      <td>NaN</td>\n",
       "      <td>-1.112933e+11</td>\n",
       "      <td>NaN</td>\n",
       "      <td>NaN</td>\n",
       "      <td>NaN</td>\n",
       "      <td>NaN</td>\n",
       "      <td>NaN</td>\n",
       "      <td>6.250801e+10</td>\n",
       "      <td>9.504665e+10</td>\n",
       "    </tr>\n",
       "    <tr>\n",
       "      <th>10446</th>\n",
       "      <td>[060300]</td>\n",
       "      <td>레드로버</td>\n",
       "      <td>코스닥시장상장법인</td>\n",
       "      <td>591.0</td>\n",
       "      <td>영화, 비디오물, 방송프로그램 제작 및 배급업</td>\n",
       "      <td>12.0</td>\n",
       "      <td>2020-03-31</td>\n",
       "      <td>1분기보고서</td>\n",
       "      <td>NaN</td>\n",
       "      <td>NaN</td>\n",
       "      <td>...</td>\n",
       "      <td>NaN</td>\n",
       "      <td>NaN</td>\n",
       "      <td>-1.734183e+11</td>\n",
       "      <td>NaN</td>\n",
       "      <td>NaN</td>\n",
       "      <td>NaN</td>\n",
       "      <td>NaN</td>\n",
       "      <td>NaN</td>\n",
       "      <td>5.564730e+09</td>\n",
       "      <td>2.514613e+10</td>\n",
       "    </tr>\n",
       "  </tbody>\n",
       "</table>\n",
       "<p>7 rows × 527 columns</p>\n",
       "</div>"
      ],
      "text/plain": [
       "           종목코드   회사명       시장구분     업종                        업종명   결산월  \\\n",
       "445    [060300]  레드로버  코스닥시장상장법인  591.0  영화, 비디오물, 방송프로그램 제작 및 배급업  12.0   \n",
       "2137   [060300]  레드로버  코스닥시장상장법인  591.0  영화, 비디오물, 방송프로그램 제작 및 배급업  12.0   \n",
       "3829   [060300]  레드로버  코스닥시장상장법인  591.0  영화, 비디오물, 방송프로그램 제작 및 배급업  12.0   \n",
       "5512   [060300]  레드로버  코스닥시장상장법인  591.0  영화, 비디오물, 방송프로그램 제작 및 배급업  12.0   \n",
       "7148   [060300]  레드로버  코스닥시장상장법인  591.0  영화, 비디오물, 방송프로그램 제작 및 배급업  12.0   \n",
       "8784   [060300]  레드로버  코스닥시장상장법인  591.0  영화, 비디오물, 방송프로그램 제작 및 배급업  12.0   \n",
       "10446  [060300]  레드로버  코스닥시장상장법인  591.0  영화, 비디오물, 방송프로그램 제작 및 배급업  12.0   \n",
       "\n",
       "            결산기준일   보고서종류  재무상태표 [abstract]  자산 [abstract]  ...  \\\n",
       "445    2019-12-31   사업보고서               NaN            NaN  ...   \n",
       "2137   2018-12-31   사업보고서               NaN            NaN  ...   \n",
       "3829   2017-12-31   사업보고서               NaN            NaN  ...   \n",
       "5512   2019-06-30   반기보고서               NaN            NaN  ...   \n",
       "7148   2019-03-31  1분기보고서               NaN            NaN  ...   \n",
       "8784   2019-09-30  3분기보고서               NaN            NaN  ...   \n",
       "10446  2020-03-31  1분기보고서               NaN            NaN  ...   \n",
       "\n",
       "       현금흐름위험회피파생상품평가손실  지분법기타포괄손익변동    이익잉여금(결손금)  이익준비금  기타법정적립금  임의적립금  \\\n",
       "445                 NaN          NaN -1.721994e+11    NaN      NaN    NaN   \n",
       "2137                NaN          NaN -7.425069e+10    NaN      NaN    NaN   \n",
       "3829                NaN          NaN -2.430996e+10    NaN      NaN    NaN   \n",
       "5512                NaN          NaN -1.094667e+11    NaN      NaN    NaN   \n",
       "7148                NaN          NaN           NaN    NaN      NaN    NaN   \n",
       "8784                NaN          NaN -1.112933e+11    NaN      NaN    NaN   \n",
       "10446               NaN          NaN -1.734183e+11    NaN      NaN    NaN   \n",
       "\n",
       "       미처분이익잉여금(미처리결손금)  비지배지분          자본총계       자본과부채총계  \n",
       "445                 NaN    NaN  5.789188e+09           NaN  \n",
       "2137                NaN    NaN  1.013587e+11           NaN  \n",
       "3829                NaN    NaN  1.437280e+11           NaN  \n",
       "5512                NaN    NaN  6.433454e+10  9.756144e+10  \n",
       "7148                NaN    NaN  1.031632e+11  1.228558e+11  \n",
       "8784                NaN    NaN  6.250801e+10  9.504665e+10  \n",
       "10446               NaN    NaN  5.564730e+09  2.514613e+10  \n",
       "\n",
       "[7 rows x 527 columns]"
      ]
     },
     "execution_count": 88,
     "metadata": {},
     "output_type": "execute_result"
    }
   ],
   "source": [
    "# 자본과부채총계 결측치 처리 Let's get it\n",
    "# HDC현대산업개발 : 2018 상장\n",
    "df[df['회사명'] == \"HDC현대산업개발\"]\n",
    "\n",
    "# 두산솔루스 : 2019 상장\n",
    "df[df['회사명'] == \"두산솔루스\"]\n",
    "\n",
    "# 레드로버 : 사업보고서에만 자본과부채총계 부재... 좀 더 살펴봐야 함\n",
    "df[df['회사명'] == \"레드로버\"]\n",
    "\n",
    "# 스타모빌리티 : 2018년 이전 데이터 보고 X\n",
    "df[df['회사명'] == \"스타모빌리티\"]\n",
    "\n",
    "# 신한알파리츠 : 2018 사장\n",
    "df[df['회사명'] == \"신한알파리츠\"]\n",
    "\n",
    "# 썬텍 : 상장폐지\n",
    "df[df['회사명'] == \"썬텍\"]\n",
    "\n",
    "# 전처리가 잘못된거 같음......\n",
    "df[df['회사명'] == \"레드로버\"]"
   ]
  },
  {
   "cell_type": "code",
   "execution_count": 61,
   "metadata": {},
   "outputs": [
    {
     "data": {
      "text/plain": [
       "519"
      ]
     },
     "execution_count": 61,
     "metadata": {},
     "output_type": "execute_result"
    }
   ],
   "source": [
    "df.iloc[4126,:].isnull()"
   ]
  },
  {
   "cell_type": "code",
   "execution_count": null,
   "metadata": {},
   "outputs": [],
   "source": [
    "df = df.drop(3427).reset_index(drop=True)"
   ]
  },
  {
   "cell_type": "code",
   "execution_count": 63,
   "metadata": {},
   "outputs": [],
   "source": [
    "a = pd.read_csv(\"../data/2017_사업보고서_01_재무상태표_연결_20200626.txt\",  sep = \"\\t\", encoding = \"cp949\")"
   ]
  },
  {
   "cell_type": "code",
   "execution_count": 234,
   "metadata": {},
   "outputs": [],
   "source": [
    "df.to_csv(\"../data/fianl_data_without_entity_change.csv\", encoding = 'euc-kr')"
   ]
  },
  {
   "cell_type": "code",
   "execution_count": 235,
   "metadata": {},
   "outputs": [
    {
     "data": {
      "text/plain": [
       "(11650, 527)"
      ]
     },
     "execution_count": 235,
     "metadata": {},
     "output_type": "execute_result"
    }
   ],
   "source": [
    "df.shape # (11650, 527)"
   ]
  },
  {
   "cell_type": "code",
   "execution_count": 236,
   "metadata": {},
   "outputs": [
    {
     "data": {
      "text/plain": [
       "5825.0"
      ]
     },
     "execution_count": 236,
     "metadata": {},
     "output_type": "execute_result"
    }
   ],
   "source": [
    "11650 / 2"
   ]
  },
  {
   "cell_type": "code",
   "execution_count": 244,
   "metadata": {},
   "outputs": [],
   "source": [
    "df.iloc[:5826, :].to_csv(\"../data/sumichoi.csv\", encoding = \"euc-kr\")\n",
    "df.iloc[5826:, :].to_csv(\"../data/dominkim.csv\", encoding = \"euc-kr\", index = False)"
   ]
  }
 ],
 "metadata": {
  "kernelspec": {
   "display_name": "Python 3",
   "language": "python",
   "name": "python3"
  },
  "language_info": {
   "codemirror_mode": {
    "name": "ipython",
    "version": 3
   },
   "file_extension": ".py",
   "mimetype": "text/x-python",
   "name": "python",
   "nbconvert_exporter": "python",
   "pygments_lexer": "ipython3",
   "version": "3.7.6"
  }
 },
 "nbformat": 4,
 "nbformat_minor": 4
}
