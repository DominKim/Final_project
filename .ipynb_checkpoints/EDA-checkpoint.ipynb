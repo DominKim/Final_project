{
 "cells": [
  {
   "cell_type": "code",
   "execution_count": 43,
   "metadata": {},
   "outputs": [],
   "source": [
    "import pandas as pd\n",
    "import numpy as np\n",
    "import matplotlib.pyplot as plt\n",
    "import seaborn as sns\n",
    "import re"
   ]
  },
  {
   "cell_type": "code",
   "execution_count": 46,
   "metadata": {},
   "outputs": [],
   "source": [
    "data = pd.read_csv(\"./data/2015_사업보고서_01_재무상태표_연결_20200515.txt\", sep = \"\\t\", encoding = \"cp949\")\n",
    "df = data.copy()\n",
    "df2016 = pd.read_csv(\"./data/2016_사업보고서_01_재무상태표_연결_20200626.txt\", sep = \"\\t\", encoding = \"cp949\")\n",
    "df2017 = pd.read_csv(\"./data/2017_사업보고서_01_재무상태표_연결_20200626.txt\", sep = \"\\t\", encoding = \"cp949\")\n",
    "df2018 = pd.read_csv(\"./data/2018_사업보고서_01_재무상태표_연결_20200627.txt\", sep = \"\\t\", encoding = \"cp949\")\n",
    "df2019 = pd.read_csv(\"./data/2019_사업보고서_01_재무상태표_연결_20200623.txt\", sep = \"\\t\", encoding = \"cp949\")"
   ]
  },
  {
   "cell_type": "code",
   "execution_count": null,
   "metadata": {},
   "outputs": [],
   "source": [
    "print(df.isnull().sum())\n",
    "# 결측치 처리 필요!\n",
    "print(df.info())"
   ]
  },
  {
   "cell_type": "code",
   "execution_count": null,
   "metadata": {},
   "outputs": [],
   "source": [
    "# 변수 \n",
    "# 재무제표종류 종목코드 회사명 시장구분 업종 업종명 결산월 결산기준일 \n",
    "# 보고서종류 통화 항목코드 항목명 당기 전기 전전기 Unnamed: 15\n",
    "print(\" \".join(df.columns))\n",
    "print(\" \".join(df2016.columns))\n",
    "print(\" \".join(df2017.columns))\n",
    "print(\" \".join(df2018.columns))\n",
    "print(\" \".join(df2019.columns))"
   ]
  },
  {
   "cell_type": "code",
   "execution_count": null,
   "metadata": {},
   "outputs": [],
   "source": [
    "# 재무제표종류\n",
    "print(df[\"재무제표종류\"].unique())\n",
    "print(df2016[\"재무제표종류\"].unique())\n",
    "print(df2017[\"재무제표종류\"].unique())\n",
    "print(df2018[\"재무제표종류\"].unique())\n",
    "print(df2019[\"재무제표종류\"].unique())\n",
    "print(df[\"재무제표종류\"].value_counts())"
   ]
  },
  {
   "cell_type": "code",
   "execution_count": null,
   "metadata": {},
   "outputs": [],
   "source": [
    "# 종목코드 : 한국거래소에서 관리하는 회사코드로 6자리로 구성\n",
    "def unique(data):\n",
    "    print(len(data[\"종목코드\"].unique()))\n",
    "\n",
    "unique(df)\n",
    "unique(df2016)\n",
    "unique(df2017)\n",
    "unique(df2018)\n",
    "unique(df2019)"
   ]
  },
  {
   "cell_type": "code",
   "execution_count": null,
   "metadata": {},
   "outputs": [],
   "source": [
    "# 회사명 : 제출인의 회사명칭\n",
    "print(len(df[\"회사명\"].unique()))\n",
    "print(len(df2016[\"회사명\"].unique()))\n",
    "print(len(df2017[\"회사명\"].unique()))\n",
    "print(len(df2018[\"회사명\"].unique()))\n",
    "print(len(df2019[\"회사명\"].unique()))"
   ]
  },
  {
   "cell_type": "code",
   "execution_count": 8,
   "metadata": {},
   "outputs": [
    {
     "name": "stdout",
     "output_type": "stream",
     "text": [
      "['코스닥시장상장법인' '유가증권시장상장법인']\n"
     ]
    }
   ],
   "source": [
    "# 시장구분 : 유가증권시장상장법인, 코스닥시장상장법인(Kosdaq)\n",
    "# 유가증권시장상장법인 : Kospi\n",
    "# 코스닥 시장은 IT(Information technology), BT(Bio technology), CT(Culture technology) \n",
    "# 기업과 벤처기업의 자금조달을 목적으로 1996년 7월 개설된 첨단 벤처기업 중심 시장입니다.\n",
    "print(df[\"시장구분\"].unique())"
   ]
  },
  {
   "cell_type": "code",
   "execution_count": null,
   "metadata": {},
   "outputs": [],
   "source": [
    "# 업종, 업종명\n",
    "# 통계청 통계분류 포털 : https://kssc.kostat.go.kr:8443/ksscNew_web/link.do?gubun=001\n",
    "print(df[\"업종명\"].value_counts())\n",
    "company_name = df[\"업종명\"].unique()\n",
    "company_name_sum = df[\"업종명\"].value_counts().sort_values()\n",
    "df_company_name = pd.DataFrame({\"업종명\":company_name, \"합계\":company_name_sum})\n",
    "\n",
    "# 업종\n",
    "print(df[\"업종\"].value_counts())\n",
    "company = df[\"업종\"].unique()\n",
    "company_sum = df[\"업종\"].value_counts().sort_values()\n",
    "df_company = pd.DataFrame({\"업종\":company, \"합계\":company_sum})\n",
    "\n",
    "# 업종과 업종명이 다른 행 추출\n",
    "com_left = pd.merge(df_company_name, df_company, how = \"left\")\n",
    "print(com_left[com_left[\"업종\"].isnull()])\n",
    "\n",
    "com_right = pd.merge(df_company_name, df_company, how = \"right\")\n",
    "print(com_right[com_right[\"업종명\"].isnull()])\n",
    "\n",
    "# 업종 != 업종명 처리방법 회의 필요"
   ]
  },
  {
   "cell_type": "code",
   "execution_count": null,
   "metadata": {},
   "outputs": [],
   "source": [
    "# 결산월, 결산기준일\n",
    "print(df[\"결산월\"].unique())\n",
    "print(df[\"결산기준일\"].unique())"
   ]
  },
  {
   "cell_type": "code",
   "execution_count": null,
   "metadata": {},
   "outputs": [],
   "source": [
    "# data\n",
    "def str_to_float(data):\n",
    "    import numpy as np\n",
    "    \n",
    "    data[\"당기\"] = data[\"당기\"].str.replace(\",\", \"\")\n",
    "    data[\"전기\"] = data[\"전기\"].str.replace(\",\", \"\")\n",
    "    data[\"전전기\"] = data[\"전전기\"].str.replace(\",\", \"\")\n",
    "    data[[\"당기\", \"전기\", \"전전기\"]] = data[[\"당기\", \"전기\", \"전전기\"]].astype(np.float32)\n",
    "    return data\n",
    "\n",
    "str_to_float(df)\n",
    "str_to_float(df2016)\n",
    "str_to_float(df2017)\n",
    "str_to_float(df2018)\n",
    "str_to_float(df2019)"
   ]
  },
  {
   "cell_type": "code",
   "execution_count": null,
   "metadata": {
    "scrolled": true
   },
   "outputs": [],
   "source": [
    "# 필요 없는 변수 제거\n",
    "def delete_col(data):\n",
    "    data.drop(\"통화\", axis = 1, inplace = True)\n",
    "    data.drop(\"Unnamed: 15\", axis = 1, inplace = True)\n",
    "    return data\n",
    "\n",
    "delete_col(df)\n",
    "delete_col(df2016)\n",
    "delete_col(df2017)\n",
    "delete_col(df2018)\n",
    "delete_col(df2019)"
   ]
  },
  {
   "cell_type": "code",
   "execution_count": 293,
   "metadata": {},
   "outputs": [
    {
     "name": "stdout",
     "output_type": "stream",
     "text": [
      "농우바이오\n"
     ]
    }
   ],
   "source": [
    "# 회사명 \n",
    "company = list(df[\"회사명\"].unique())\n",
    "\n",
    "col_num = []\n",
    "col_num_name = []\n",
    "for idx, name in enumerate(company):\n",
    "    a = df[df[\"회사명\"] == name][[\"항목명\", \"당기\"]].T\n",
    "    a.rename(columns = a.iloc[0,:], inplace = True)\n",
    "    a.drop(index = \"항목명\", inplace = True)\n",
    "    col_num.append(len(a.columns))\n",
    "    col_num_name.append(name)\n",
    "    \n",
    "    \n",
    "# 가장 많은 항목명을 가진 회사\n",
    "for i in range(len(col_num)):\n",
    "    if col_num[i] == max(col_num):\n",
    "        print(col_num_name[i])"
   ]
  },
  {
   "cell_type": "code",
   "execution_count": 294,
   "metadata": {},
   "outputs": [
    {
     "name": "stdout",
     "output_type": "stream",
     "text": [
      "   자산 [abstract]         유동자산     현금및현금성자산        현금성자산       매도가능금융자산  \\\n",
      "당기           NaN  1.10246e+11  1.28772e+10  1.28772e+10    1.81281e+08   \n",
      "\n",
      "            매도가능금융자산       만기보유금융자산          만기보유금융자산 매출채권 및 기타유동채권  \\\n",
      "당기       1.81281e+08      8.084e+07         8.084e+07   3.00516e+10   \n",
      "\n",
      "           매출채권  ...       해외사업환산손익       매도가능금융자산평가이익       지분변동차액  \\\n",
      "당기  3.04912e+10  ...    5.43001e+09        4.09875e+07 -7.18345e+06   \n",
      "\n",
      "      이익잉여금(결 손 금)       법정적립금        임의적립금       미처분이익잉여금(미처리결손금)  \\\n",
      "당기     1.35262e+11  1.2726e+10  6.70326e+10            5.55032e+10   \n",
      "\n",
      "          비지배지분         자본총계      자본과부채총계  \n",
      "당기  7.67658e+07  1.80592e+11  2.16354e+11  \n",
      "\n",
      "[1 rows x 228 columns]\n"
     ]
    }
   ],
   "source": [
    "a = df[df[\"회사명\"] == \"농우바이오\"][[\"항목명\", \"당기\"]].T\n",
    "a.rename(columns = a.iloc[0,:], inplace = True)\n",
    "a.drop(index = \"항목명\", inplace = True)\n",
    "print(a)"
   ]
  },
  {
   "cell_type": "markdown",
   "metadata": {},
   "source": [
    "### 항목명 처리"
   ]
  },
  {
   "cell_type": "code",
   "execution_count": 265,
   "metadata": {},
   "outputs": [],
   "source": [
    "def duplication_check(data):\n",
    "    # 항목코드 중복 확인\n",
    "    lst_entity_코드 = []\n",
    "    lst_entity_명 = []\n",
    "    lst_without_entity_코드 = []\n",
    "    lst_without_entity_명 = []\n",
    "\n",
    "    # 각 리스트에 코드 및 코드명 append\n",
    "    for idx in range(len(data)):\n",
    "        if \"entity\" in data[\"항목코드\"][idx]:\n",
    "            lst_entity_코드.append(data[\"항목코드\"][idx].lower())\n",
    "            lst_entity_명.append(data[\"항목명\"][idx].lower())\n",
    "        else:\n",
    "            lst_without_entity_코드.append(data[\"항목코드\"][idx].lower())\n",
    "            lst_without_entity_명.append(data[\"항목명\"][idx].lower())\n",
    "\n",
    "    # !entity 코드 딕셔너리\n",
    "    dic_without_entity = {lst_without_entity_코드[idx]:[] for idx in range(len(lst_without_entity_코드))}\n",
    "\n",
    "    for i, j in zip(lst_without_entity_코드, lst_without_entity_명):\n",
    "        dic_without_entity[i].append(j)\n",
    "\n",
    "    check_duplication = {i:len(set(j)) for i, j in dic_without_entity.items()}\n",
    "    \n",
    "    return lst_entity_코드, lst_entity_명, lst_without_entity_코드, lst_without_entity_명, dic_without_entity, check_duplication\n",
    "\n",
    "lst_entity_코드, lst_entity_명, lst_without_entity_코드, lst_without_entity_명, dic_without_entity, check_duplication = duplication_check(df)"
   ]
  },
  {
   "cell_type": "code",
   "execution_count": 266,
   "metadata": {},
   "outputs": [],
   "source": [
    "dic_entity = {lst_entity_코드[idx]:[] for idx in range(len(lst_entity_코드))}\n",
    "\n",
    "for i, j in zip(lst_entity_코드, lst_entity_명):\n",
    "    dic_entity[i].append(j)\n",
    "\n",
    "check_duplication_entity = {i:len(set(j)) for i, j in dic_entity.items()}\n",
    "\n",
    "dic_entity_명_코드 = {lst_entity_명[idx]:[] for idx in range(len(lst_entity_명))}\n",
    "\n",
    "for i, j in zip(lst_entity_명, lst_entity_코드):\n",
    "    dic_entity_명_코드[i].append(j)\n",
    "    \n",
    "dic_entity_명_코드"
   ]
  },
  {
   "cell_type": "code",
   "execution_count": 138,
   "metadata": {},
   "outputs": [],
   "source": [
    "def extract_element_id(data):\n",
    "    element_idx_lst_entity = []\n",
    "    element_idx_lst_without_entity = []\n",
    "    \n",
    "    for idx in range(len(data)):\n",
    "        if \"entity\" in data[\"항목코드\"][idx]:\n",
    "            element_idx_lst_entity.append(data[\"항목코드\"][idx])\n",
    "        else:\n",
    "            element_idx_lst_without_entity.append(data[\"항목코드\"][idx])\n",
    "            \n",
    "    entity = sorted(set(element_idx_lst_entity), reverse = True)\n",
    "    without_entity = sorted(set(element_idx_lst_without_entity), reverse = True)\n",
    "    \n",
    "    return entity, without_entity\n",
    "\n",
    "a, b = extract_element_id(df2019)\n",
    "pd.Series(b).to_csv(\"./2019항목명.csv\", encoding = \"euc-kr\", index = False)"
   ]
  },
  {
   "cell_type": "markdown",
   "metadata": {},
   "source": [
    "### 재무제표 양식 기반 entity 없는 항목명 처리"
   ]
  },
  {
   "cell_type": "code",
   "execution_count": 300,
   "metadata": {
    "scrolled": true
   },
   "outputs": [
    {
     "name": "stderr",
     "output_type": "stream",
     "text": [
      "C:\\Users\\user\\anaconda3\\lib\\site-packages\\ipykernel_launcher.py:23: SettingWithCopyWarning: \n",
      "A value is trying to be set on a copy of a slice from a DataFrame\n",
      "\n",
      "See the caveats in the documentation: https://pandas.pydata.org/pandas-docs/stable/user_guide/indexing.html#returning-a-view-versus-a-copy\n"
     ]
    }
   ],
   "source": [
    "elementid = pd.read_csv(\"./data/재무제표양식.csv\", encoding = \"utf-8\")\n",
    "# '한글 Label', 'Element ID'\n",
    "df_element = elementid[['한글 Label', 'Element ID']]\n",
    "df_element = df_element[df_element[\"Element ID\"].notnull()]\n",
    "\n",
    "df_element.columns = df_element.columns.str.replace(\" \", \"_\")\n",
    "lst_element = df_element[\"Element_ID\"].unique()\n",
    "\n",
    "re_lst_element = []\n",
    "for i in lst_element:\n",
    "    a = re.findall(\"_\\w{1,}\", i)[0].lower()\n",
    "    re_lst_element.append(a)\n",
    " \n",
    "dic_element = {i:[] for i in re_lst_element}\n",
    "for i, j in zip(re_lst_element, df_element[\"한글_Label\"]):\n",
    "    dic_element[i].append(j)\n",
    "    \n",
    "    \n",
    "error_idx = []\n",
    "for idx in range(len(df)):\n",
    "    try:        \n",
    "        if \"entity\" not in df[\"항목코드\"][idx]:\n",
    "            df[\"항목명\"][idx] = dic_element[re.findall(\"_\\w{1,}\", df[\"항목코드\"][idx])[0].lower()][0]\n",
    "    except Exception as e:\n",
    "        error_idx.append(idx)"
   ]
  },
  {
   "cell_type": "code",
   "execution_count": 303,
   "metadata": {},
   "outputs": [],
   "source": [
    "df.iloc[error_idx, :].to_csv(\"./2015에러행.csv\", encoding = \"euc-kr\", index = False)"
   ]
  },
  {
   "cell_type": "code",
   "execution_count": 304,
   "metadata": {},
   "outputs": [
    {
     "data": {
      "text/plain": [
       "64605"
      ]
     },
     "execution_count": 304,
     "metadata": {},
     "output_type": "execute_result"
    }
   ],
   "source": [
    "len(df)"
   ]
  },
  {
   "cell_type": "code",
   "execution_count": null,
   "metadata": {},
   "outputs": [],
   "source": []
  }
 ],
 "metadata": {
  "kernelspec": {
   "display_name": "Python 3",
   "language": "python",
   "name": "python3"
  },
  "language_info": {
   "codemirror_mode": {
    "name": "ipython",
    "version": 3
   },
   "file_extension": ".py",
   "mimetype": "text/x-python",
   "name": "python",
   "nbconvert_exporter": "python",
   "pygments_lexer": "ipython3",
   "version": "3.7.7"
  }
 },
 "nbformat": 4,
 "nbformat_minor": 4
}
