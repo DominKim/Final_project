{
 "cells": [
  {
   "cell_type": "markdown",
   "metadata": {},
   "source": [
    "### 1. data load"
   ]
  },
  {
   "cell_type": "code",
   "execution_count": 3,
   "metadata": {},
   "outputs": [],
   "source": [
    "import pandas as pd\n",
    "import numpy as np\n",
    "import matplotlib.pyplot as plt\n",
    "import seaborn as sns\n",
    "import re\n",
    "#  data load\n",
    "df = pd.read_csv(\"./data/2019_3분기보고서_01_재무상태표_연결_20200617.txt\", sep = \"\\t\", encoding = \"cp949\")"
   ]
  },
  {
   "cell_type": "markdown",
   "metadata": {},
   "source": [
    "### 2. 연속형변수 변경 dtype 변경"
   ]
  },
  {
   "cell_type": "code",
   "execution_count": 4,
   "metadata": {},
   "outputs": [],
   "source": [
    "def str_to_float(data):\n",
    "    import numpy as np\n",
    "    \n",
    "    data[\"당기 3분기말\"] = data[\"당기 3분기말\"].str.replace(\",\", \"\")\n",
    "    data[\"전기말\"] = data[\"전기말\"].str.replace(\",\", \"\")\n",
    "#     data[\"전전기말\"] = data[\"전전기말\"].str.replace(\",\", \"\")\n",
    "    data[\"당기 3분기말\"] = data[\"당기 3분기말\"].astype(np.float32)\n",
    "    return data\n",
    "\n",
    "df = str_to_float(df)"
   ]
  },
  {
   "cell_type": "markdown",
   "metadata": {},
   "source": [
    "### 3. 불필요한 변수 제거"
   ]
  },
  {
   "cell_type": "code",
   "execution_count": 5,
   "metadata": {},
   "outputs": [],
   "source": [
    "# 필요 없는 변수 제거\n",
    "def delete_col(data):\n",
    "#     data.drop(\"통화\", axis = 1, inplace = True)\n",
    "#     data.drop(\"Unnamed: 15\", axis = 1, inplace = True)\n",
    "    data.drop(\"전기말\", axis = 1, inplace = True)\n",
    "    data.drop(\"전전기말\", axis = 1, inplace = True)\n",
    "    data.drop(\"재무제표종류\", axis = 1, inplace = True)\n",
    "    return data\n",
    "\n",
    "df = delete_col(df)"
   ]
  },
  {
   "cell_type": "markdown",
   "metadata": {},
   "source": [
    "### 4. 항목명 변수 처리"
   ]
  },
  {
   "cell_type": "code",
   "execution_count": 6,
   "metadata": {},
   "outputs": [],
   "source": [
    "def duplication_check(data):\n",
    "    # 항목코드 중복 확인\n",
    "    entity_코드 = []\n",
    "    entity_명 = []\n",
    "    without_entity_코드 = []\n",
    "    without_entity_명 = []\n",
    "\n",
    "    # 각 리스트에 코드 및 코드명 append(소문자 처리)\n",
    "    for idx in range(len(data)):\n",
    "        if \"entity\" in data[\"항목코드\"][idx]:\n",
    "            entity_코드.append(data[\"항목코드\"][idx].lower())\n",
    "            entity_명.append(data[\"항목명\"][idx].lower())\n",
    "        else:\n",
    "            without_entity_코드.append(data[\"항목코드\"][idx].lower())\n",
    "            without_entity_명.append(data[\"항목명\"][idx].lower())\n",
    "\n",
    "    # !entity 코드 딕셔너리\n",
    "    dic_without_entity = {re.findall(\"_\\w{1,}\", without_entity_코드[idx])[0].lower():[] for idx in range(len(without_entity_코드))}\n",
    "\n",
    "    for i, j in zip(without_entity_코드, without_entity_명):\n",
    "        dic_without_entity[re.findall(\"_\\w{1,}\", i)[0].lower()].append(j)\n",
    "\n",
    "    check_without_entity = {i:len(set(j)) for i, j in dic_without_entity.items()}\n",
    "    \n",
    "    # entity 코드 딕셔너리\n",
    "    dic_entity = {entity_코드[idx]:[] for idx in range(len(entity_코드))}\n",
    "    \n",
    "    for i, j in zip(entity_코드, entity_명):\n",
    "        dic_entity[i].append(j)\n",
    "        \n",
    "    check_entity = {i:len(set(j)) for i, j in dic_entity.items()}\n",
    "    \n",
    "    return entity_코드, entity_명, without_entity_코드, without_entity_명, dic_without_entity, dic_entity\n",
    "\n",
    "entity_코드, entity_명, without_entity_코드, without_entity_명, dic_without_entity, dic_entity = duplication_check(df)"
   ]
  },
  {
   "cell_type": "markdown",
   "metadata": {},
   "source": [
    "### 5. 공시된 항목명, 항목코드 가져오기(금융감독원 재무제표 양식)"
   ]
  },
  {
   "cell_type": "code",
   "execution_count": 7,
   "metadata": {},
   "outputs": [],
   "source": [
    "def extract_element_id(data):\n",
    "    element_idx_lst_entity = []\n",
    "    element_idx_lst_without_entity = []\n",
    "    \n",
    "    for idx in range(len(data)):\n",
    "        if \"entity\" in data[\"항목코드\"][idx]:\n",
    "            element_idx_lst_entity.append(data[\"항목코드\"][idx])\n",
    "        else:\n",
    "            element_idx_lst_without_entity.append(data[\"항목코드\"][idx])\n",
    "            \n",
    "    entity = sorted(set(element_idx_lst_entity), reverse = True)\n",
    "    without_entity = sorted(set(element_idx_lst_without_entity), reverse = True)\n",
    "    \n",
    "    return entity, without_entity\n",
    "\n",
    "a, b = extract_element_id(df)\n",
    "\n",
    "elementid = pd.read_excel(\"./data/재무제표양식.xlsx\", encoding = \"utf-8\", sheet_name = \"BS1\")\n",
    "# '한글 Label', 'Element ID'\n",
    "df_element = elementid[['한글 Label', 'Element ID']]\n",
    "df_element = df_element[df_element[\"Element ID\"].notnull()]\n",
    "\n",
    "df_element.columns = df_element.columns.str.replace(\" \", \"_\")\n",
    "lst_element = df_element[\"Element_ID\"].unique()\n",
    "\n",
    "re_lst_element = []\n",
    "for i in lst_element:\n",
    "    a = re.findall(\"_\\w{1,}\", i)[0].lower()\n",
    "    re_lst_element.append(a)\n",
    " \n",
    "dic_element = {i:[] for i in re_lst_element}\n",
    "for i, j in zip(re_lst_element, df_element[\"한글_Label\"]):\n",
    "    dic_element[i].append(j)"
   ]
  },
  {
   "cell_type": "markdown",
   "metadata": {},
   "source": [
    "### 5-1. 항목명 entity 값 처리"
   ]
  },
  {
   "cell_type": "code",
   "execution_count": null,
   "metadata": {},
   "outputs": [],
   "source": [
    "lst_idx = []\n",
    "for i in range(len(df)):\n",
    "    if \"총계\" in df[\"항목명\"][i] and \"entity\" in df[\"항목코드\"][i]:\n",
    "        lst_idx.append(i)\n",
    "        \n",
    "# 처리 대상 항목명 추출\n",
    "set(df[[\"항목코드\", \"항목명\"]].iloc[lst_idx,][\"항목명\"])\n",
    "# '   자본의 총계', '자본총계'\n",
    "# '부채총계'\n",
    "# '자본과 부채의 총계'\n",
    "# '자산총계'\n",
    "\n",
    "for i in lst_idx:\n",
    "    if df[\"항목명\"][i] == '부채총계':\n",
    "        df[\"항목코드\"][i] = \"ifrs-full_Liabilities\"\n",
    "        \n",
    "    elif df[\"항목명\"][i] == '자본과 부채의 총계':\n",
    "        df[\"항목코드\"][i] = \"ifrs-full_EquityAndLiabilities\"\n",
    "        \n",
    "    elif df[\"항목명\"][i] == '자산총계':\n",
    "        df[\"항목코드\"][i] = \"ifrs-full_Assets\"\n",
    "        \n",
    "    else:\n",
    "        df[\"항목코드\"][i] = \"ifrs-full_Equity\""
   ]
  },
  {
   "cell_type": "markdown",
   "metadata": {},
   "source": [
    "### 6. entity 제외 항목명 변수 전처리"
   ]
  },
  {
   "cell_type": "code",
   "execution_count": 10,
   "metadata": {},
   "outputs": [
    {
     "name": "stderr",
     "output_type": "stream",
     "text": [
      "C:\\Users\\user\\anaconda3\\lib\\site-packages\\ipykernel_launcher.py:5: SettingWithCopyWarning: \n",
      "A value is trying to be set on a copy of a slice from a DataFrame\n",
      "\n",
      "See the caveats in the documentation: https://pandas.pydata.org/pandas-docs/stable/user_guide/indexing.html#returning-a-view-versus-a-copy\n",
      "  \"\"\"\n"
     ]
    }
   ],
   "source": [
    "lst_idx = []\n",
    "for idx in range(len(df)):\n",
    "    try:\n",
    "        if \"entity\" not in df[\"항목코드\"][idx]:\n",
    "            df[\"항목명\"][idx] = dic_element[re.findall(\"_\\w{1,}\", df[\"항목코드\"][idx])[0].lower()][0]\n",
    "    except Exception as e:\n",
    "        lst_idx.append(idx)"
   ]
  },
  {
   "cell_type": "markdown",
   "metadata": {},
   "source": [
    "### 7. 정제된 데이터 프레임 만들기"
   ]
  },
  {
   "cell_type": "code",
   "execution_count": 11,
   "metadata": {},
   "outputs": [],
   "source": [
    "# DB 테이블에 적용할 D.F\n",
    "# 회사이름 추출\n",
    "lst_company = df[\"회사명\"].unique()\n",
    "element_value = []\n",
    "for i in dic_element.values():\n",
    "    element_value.append(i[0])\n",
    "    \n",
    "# columns\n",
    "col = list(df.columns[0:8]) + element_value\n",
    "check_col = list(dic_element.keys())\n",
    "\n",
    "#  해당년도 데이터 행길이\n",
    "company_dic = {i:[] for i in lst_company}\n",
    "day = []\n",
    "\n",
    "for i in lst_company:\n",
    "    company_dic[i].append(df[df[\"회사명\"] == i][\"결산기준일\"].unique())\n",
    "    day.append(len(df[df[\"회사명\"] == i][\"결산기준일\"].unique()))\n",
    "    \n",
    "row = sum(day)\n",
    "\n",
    "bon = np.zeros([row,len(col)]) + np.NAN\n",
    "\n",
    "# D.F\n",
    "last_df = pd.DataFrame(bon, columns = col)"
   ]
  },
  {
   "cell_type": "markdown",
   "metadata": {},
   "source": [
    "### 8. 데이터 입력"
   ]
  },
  {
   "cell_type": "code",
   "execution_count": 12,
   "metadata": {},
   "outputs": [],
   "source": [
    "dic_standard = {i:list(df[df[\"회사명\"] == i][\"결산기준일\"].unique()) for i in lst_company}\n",
    "last_company = []\n",
    "last_standard  = []\n",
    "for key, value in dic_standard.items():\n",
    "    for index in range(len(value)):\n",
    "        last_company.append(key)\n",
    "        last_standard.append(value[index])\n",
    "        \n",
    "cnt = 0\n",
    "\n",
    "for idx in range(len(last_company)):\n",
    "\n",
    "    a = df[(df[\"회사명\"] == last_company[idx]) & (df[\"결산기준일\"] == last_standard[idx])]\n",
    "    a.reset_index(drop = True, inplace = True)\n",
    "    for i in range(8):\n",
    "        last_df.iloc[cnt, i] = a.iloc[0, i]\n",
    "\n",
    "    for idx3 in range(len(a)):\n",
    "        if \"entity\" not in a[\"항목코드\"][idx3]:\n",
    "            loc = dic_element[re.findall(\"_\\w{1,}\", a[\"항목코드\"][idx3])[0].lower()][0]\n",
    "            last_df.loc[cnt, loc] = a[\"당기 3분기말\"][idx3]\n",
    "    cnt += 1"
   ]
  },
  {
   "cell_type": "code",
   "execution_count": 13,
   "metadata": {},
   "outputs": [],
   "source": [
    "df2019 = pd.read_csv(\"./data/분기_반기.csv\", encoding = \"euc-kr\")"
   ]
  },
  {
   "cell_type": "code",
   "execution_count": 14,
   "metadata": {},
   "outputs": [],
   "source": [
    "col2019 = df2019.columns\n",
    "col = last_df.columns\n",
    "\n",
    "\n",
    "last_df.columns = col2019"
   ]
  },
  {
   "cell_type": "code",
   "execution_count": 15,
   "metadata": {},
   "outputs": [],
   "source": [
    "real_df = pd.concat([df2019, last_df]).reset_index(drop = True)"
   ]
  },
  {
   "cell_type": "code",
   "execution_count": 16,
   "metadata": {},
   "outputs": [],
   "source": [
    "real_df.to_csv(\"./data/분기_반기.csv\", encoding = \"euc=kr\", index = False)"
   ]
  }
 ],
 "metadata": {
  "kernelspec": {
   "display_name": "Python 3",
   "language": "python",
   "name": "python3"
  },
  "language_info": {
   "codemirror_mode": {
    "name": "ipython",
    "version": 3
   },
   "file_extension": ".py",
   "mimetype": "text/x-python",
   "name": "python",
   "nbconvert_exporter": "python",
   "pygments_lexer": "ipython3",
   "version": "3.7.7"
  }
 },
 "nbformat": 4,
 "nbformat_minor": 4
}
