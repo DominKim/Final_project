{
 "cells": [
  {
   "cell_type": "code",
   "execution_count": 22,
   "metadata": {},
   "outputs": [],
   "source": [
    "import pandas as pd\n",
    "import numpy as np\n",
    "import matplotlib.pyplot as plt\n",
    "import seaborn as sns"
   ]
  },
  {
   "cell_type": "code",
   "execution_count": 23,
   "metadata": {},
   "outputs": [],
   "source": [
    "data = pd.read_csv(\"./data/2015_사업보고서_01_재무상태표_20200515.txt\", sep = \"\\t\", encoding = \"cp949\")\n",
    "df = data.copy()"
   ]
  },
  {
   "cell_type": "code",
   "execution_count": 24,
   "metadata": {},
   "outputs": [
    {
     "name": "stdout",
     "output_type": "stream",
     "text": [
      "재무제표종류             0\n",
      "종목코드               0\n",
      "회사명                0\n",
      "시장구분               0\n",
      "업종                 0\n",
      "업종명                0\n",
      "결산월                0\n",
      "결산기준일              0\n",
      "보고서종류              0\n",
      "통화                 0\n",
      "항목코드               0\n",
      "항목명                0\n",
      "당기              8270\n",
      "전기              8905\n",
      "전전기             9621\n",
      "Unnamed: 15    77067\n",
      "dtype: int64\n",
      "<class 'pandas.core.frame.DataFrame'>\n",
      "RangeIndex: 77067 entries, 0 to 77066\n",
      "Data columns (total 16 columns):\n",
      " #   Column       Non-Null Count  Dtype  \n",
      "---  ------       --------------  -----  \n",
      " 0   재무제표종류       77067 non-null  object \n",
      " 1   종목코드         77067 non-null  object \n",
      " 2   회사명          77067 non-null  object \n",
      " 3   시장구분         77067 non-null  object \n",
      " 4   업종           77067 non-null  int64  \n",
      " 5   업종명          77067 non-null  object \n",
      " 6   결산월          77067 non-null  int64  \n",
      " 7   결산기준일        77067 non-null  object \n",
      " 8   보고서종류        77067 non-null  object \n",
      " 9   통화           77067 non-null  object \n",
      " 10  항목코드         77067 non-null  object \n",
      " 11  항목명          77067 non-null  object \n",
      " 12  당기           68797 non-null  object \n",
      " 13  전기           68162 non-null  object \n",
      " 14  전전기          67446 non-null  object \n",
      " 15  Unnamed: 15  0 non-null      float64\n",
      "dtypes: float64(1), int64(2), object(13)\n",
      "memory usage: 9.4+ MB\n",
      "None\n"
     ]
    }
   ],
   "source": [
    "print(df.isnull().sum())\n",
    "# 결측치 처리 필요!\n",
    "print(df.info())"
   ]
  },
  {
   "cell_type": "code",
   "execution_count": 27,
   "metadata": {},
   "outputs": [
    {
     "data": {
      "text/plain": [
       "'재무제표종류 종목코드 회사명 시장구분 업종 업종명 결산월 결산기준일 보고서종류 통화 항목코드 항목명 당기 전기 전전기 Unnamed: 15'"
      ]
     },
     "execution_count": 27,
     "metadata": {},
     "output_type": "execute_result"
    }
   ],
   "source": [
    "# 변수 \n",
    "# 재무제표종류 종목코드 회사명 시장구분 업종 업종명 결산월 결산기준일 \n",
    "# 보고서종류 통화 항목코드 항목명 당기 전기 전전기 Unnamed: 15\n",
    "\" \".join(df.columns)"
   ]
  },
  {
   "cell_type": "code",
   "execution_count": 30,
   "metadata": {},
   "outputs": [
    {
     "name": "stdout",
     "output_type": "stream",
     "text": [
      "['재무상태표, 유동/비유동법-별도재무제표' '재무상태표, 유동성배열법-별도재무제표']\n",
      "재무상태표, 유동/비유동법-별도재무제표    76661\n",
      "재무상태표, 유동성배열법-별도재무제표       406\n",
      "Name: 재무제표종류, dtype: int64\n"
     ]
    }
   ],
   "source": [
    "# 재무제표종류\n",
    "print(df[\"재무제표종류\"].unique())\n",
    "print(df[\"재무제표종류\"].value_counts())"
   ]
  },
  {
   "cell_type": "code",
   "execution_count": 38,
   "metadata": {},
   "outputs": [
    {
     "name": "stdout",
     "output_type": "stream",
     "text": [
      "1800\n",
      "[054050]    210\n",
      "[036460]    150\n",
      "[095720]    126\n",
      "[001790]    125\n",
      "[052690]    124\n",
      "           ... \n",
      "[208870]     20\n",
      "[208370]     20\n",
      "[215100]     20\n",
      "[218150]     20\n",
      "[230240]     19\n",
      "Name: 종목코드, Length: 1800, dtype: int64\n"
     ]
    }
   ],
   "source": [
    "# 종목코드 : 한국거래소에서 관리하는 회사코드로 6자리로 구성\n",
    "print(len(df[\"종목코드\"].unique()))\n",
    "print(df[\"종목코드\"].value_counts())"
   ]
  },
  {
   "cell_type": "code",
   "execution_count": 40,
   "metadata": {},
   "outputs": [
    {
     "name": "stdout",
     "output_type": "stream",
     "text": [
      "1801\n",
      "농우바이오         210\n",
      "한국가스공사        150\n",
      "웅진씽크빅         126\n",
      "대한제당          125\n",
      "한전기술          124\n",
      "             ... \n",
      "하나머스트4호스팩      20\n",
      "하나머스트5호스팩      20\n",
      "하나머스트3호스팩      20\n",
      "한국3호스팩         20\n",
      "하나금융7호SPAC     19\n",
      "Name: 회사명, Length: 1801, dtype: int64\n"
     ]
    }
   ],
   "source": [
    "# 회사명 : 제출인의 회사명칭\n",
    "print(len(df[\"회사명\"].unique()))\n",
    "print(df[\"회사명\"].value_counts())"
   ]
  },
  {
   "cell_type": "code",
   "execution_count": 43,
   "metadata": {},
   "outputs": [
    {
     "name": "stdout",
     "output_type": "stream",
     "text": [
      "['코스닥시장상장법인' '유가증권시장상장법인']\n",
      "코스닥시장상장법인     45751\n",
      "유가증권시장상장법인    31316\n",
      "Name: 시장구분, dtype: int64\n"
     ]
    }
   ],
   "source": [
    "# 시장구분 : 유가증권시장상장법인, 코스닥시장상장법인(Kosdaq)\n",
    "# 유가증권시장상장법인 : Kospi\n",
    "# 코스닥 시장은 IT(Information technology), BT(Bio technology), CT(Culture technology) \n",
    "# 기업과 벤처기업의 자금조달을 목적으로 1996년 7월 개설된 첨단 벤처기업 중심 시장입니다.\n",
    "print(df[\"시장구분\"].unique())"
   ]
  },
  {
   "cell_type": "code",
   "execution_count": 93,
   "metadata": {},
   "outputs": [
    {
     "name": "stdout",
     "output_type": "stream",
     "text": [
      "전자부품 제조업              4731\n",
      "특수 목적용 기계 제조업         4151\n",
      "자동차 부품 제조업            3576\n",
      "소프트웨어 개발 및 공급업        3254\n",
      "의약품 제조업               3033\n",
      "                      ... \n",
      "그외 기타 운송장비 제조업          34\n",
      "소화물 전문 운송업              34\n",
      "자동차 부품 및 내장품 판매업        33\n",
      "과실, 채소 가공 및 저장 처리업      32\n",
      "인형,장난감 및 오락용품 제조업       32\n",
      "Name: 업종명, Length: 155, dtype: int64\n",
      "262    4731\n",
      "292    4151\n",
      "303    3651\n",
      "582    3254\n",
      "212    3033\n",
      "       ... \n",
      "26       35\n",
      "494      34\n",
      "452      33\n",
      "334      32\n",
      "103      32\n",
      "Name: 업종, Length: 145, dtype: int64\n",
      "                                업종명    합계  업종\n",
      "32               유원지 및 기타 오락관련 서비스업    42 NaN\n",
      "33                           건물 건설업    42 NaN\n",
      "79                       소화물 전문 운송업   114 NaN\n",
      "90                     방적 및 가공사 제조업   123 NaN\n",
      "91                      1차 비철금속 제조업   124 NaN\n",
      "143                           어로 어업   367 NaN\n",
      "152                    그외 기타 제품 제조업   468 NaN\n",
      "180  전동기, 발전기 및 전기 변환ㆍ 공급ㆍ제어 장치 제조업  1121 NaN\n",
      "184             건축자재, 철물 및 난방장치 도매업  1671 NaN\n",
      "189                    기타 상품 전문 소매업  2647 NaN\n",
      "193                     제재 및 목재 가공업  3576 NaN\n",
      "     업종명    합계   업종\n",
      "185  NaN    70  303\n",
      "186  NaN   320   26\n",
      "187  NaN   451   72\n",
      "188  NaN   503  320\n",
      "189  NaN   598  339\n",
      "190  NaN  1235  753\n",
      "191  NaN  1713  382\n",
      "192  NaN  2688  120\n",
      "193  NaN  3651  351\n"
     ]
    }
   ],
   "source": [
    "# 업종, 업종명\n",
    "# 통계청 통계분류 포털 : https://kssc.kostat.go.kr:8443/ksscNew_web/link.do?gubun=001\n",
    "print(df[\"업종명\"].value_counts())\n",
    "company_name = df[\"업종명\"].unique()\n",
    "company_name_sum = df[\"업종명\"].value_counts().sort_values()\n",
    "df_company_name = pd.DataFrame({\"업종명\":company_name, \"합계\":company_name_sum})\n",
    "\n",
    "# 업종\n",
    "print(df[\"업종\"].value_counts())\n",
    "company = df[\"업종\"].unique()\n",
    "company_sum = df[\"업종\"].value_counts().sort_values()\n",
    "df_company = pd.DataFrame({\"업종\":company, \"합계\":company_sum})\n",
    "\n",
    "# 업종과 업종명이 다른 행 추출\n",
    "com_left = pd.merge(df_company_name, df_company, how = \"left\")\n",
    "print(com_left[com_left[\"업종\"].isnull()])\n",
    "\n",
    "com_right = pd.merge(df_company_name, df_company, how = \"right\")\n",
    "print(com_right[com_right[\"업종명\"].isnull()])\n",
    "\n",
    "# 업종 != 업종명 처리방법 회의 필요"
   ]
  },
  {
   "cell_type": "code",
   "execution_count": 95,
   "metadata": {},
   "outputs": [
    {
     "name": "stdout",
     "output_type": "stream",
     "text": [
      "[ 3 12  9  6  5  8  4 11]\n",
      "['2015-03-31' '2015-12-31' '2015-09-30' '2015-06-30' '2015-05-31'\n",
      " '2015-08-31' '2015-04-30' '2015-10-31' '2015-11-30']\n"
     ]
    }
   ],
   "source": [
    "# 결산월, 결산기준일\n",
    "print(df[\"결산월\"].unique())\n",
    "print(df[\"결산기준일\"].unique())"
   ]
  },
  {
   "cell_type": "code",
   "execution_count": 98,
   "metadata": {},
   "outputs": [
    {
     "name": "stdout",
     "output_type": "stream",
     "text": [
      "['사업보고서']\n"
     ]
    }
   ],
   "source": [
    "# 보고서종류\n",
    "print(df[\"보고서종류\"].unique())"
   ]
  },
  {
   "cell_type": "code",
   "execution_count": null,
   "metadata": {},
   "outputs": [],
   "source": [
    "# 통화 : 필요 없는 변수\n",
    "# 항목코드 : 계정과목코드\n",
    "# ifrs_xxx : 국제 기준\n",
    "# dart_xxx : 국제 기준을 수정\n",
    "# entity_xxx : 신규회사"
   ]
  },
  {
   "cell_type": "code",
   "execution_count": null,
   "metadata": {},
   "outputs": [],
   "source": []
  },
  {
   "cell_type": "code",
   "execution_count": null,
   "metadata": {},
   "outputs": [],
   "source": []
  },
  {
   "cell_type": "code",
   "execution_count": 19,
   "metadata": {},
   "outputs": [],
   "source": [
    "# data\n",
    "df[\"당기\"] = df[\"당기\"].str.replace(\",\", \"\")\n",
    "df[\"전기\"] = df[\"전기\"].str.replace(\",\", \"\")\n",
    "df[\"전전기\"] = df[\"전전기\"].str.replace(\",\", \"\")\n",
    "df[[\"당기\", \"전기\", \"전전기\"]] = df[[\"당기\", \"전기\", \"전전기\"]].astype(np.float32)"
   ]
  },
  {
   "cell_type": "code",
   "execution_count": null,
   "metadata": {},
   "outputs": [],
   "source": [
    "# 필요 없는 변수 제거\n",
    "df.drop(\"통화\", axis = 1, inplace = True)\n",
    "df.drop(\"종목코드\", axis = 1, inplace = True)"
   ]
  }
 ],
 "metadata": {
  "kernelspec": {
   "display_name": "Python 3",
   "language": "python",
   "name": "python3"
  },
  "language_info": {
   "codemirror_mode": {
    "name": "ipython",
    "version": 3
   },
   "file_extension": ".py",
   "mimetype": "text/x-python",
   "name": "python",
   "nbconvert_exporter": "python",
   "pygments_lexer": "ipython3",
   "version": "3.7.6"
  }
 },
 "nbformat": 4,
 "nbformat_minor": 4
}
