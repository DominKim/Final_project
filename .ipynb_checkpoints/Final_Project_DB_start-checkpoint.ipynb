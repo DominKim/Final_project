{
 "cells": [
  {
   "cell_type": "code",
   "execution_count": 52,
   "metadata": {},
   "outputs": [],
   "source": [
    "import pandas as pd\n",
    "import numpy as np\n",
    "import matplotlib.pyplot as plt\n",
    "import seaborn as sns"
   ]
  },
  {
   "cell_type": "code",
   "execution_count": 3,
   "metadata": {},
   "outputs": [],
   "source": [
    "data = pd.read_csv(\"./data/2015_사업보고서_01_재무상태표_20200515.txt\", sep = \"\\t\", encoding = \"cp949\")"
   ]
  },
  {
   "cell_type": "code",
   "execution_count": 41,
   "metadata": {},
   "outputs": [
    {
     "name": "stdout",
     "output_type": "stream",
     "text": [
      "재무제표종류             0\n",
      "회사명                0\n",
      "시장구분               0\n",
      "업종                 0\n",
      "업종명                0\n",
      "결산월                0\n",
      "결산기준일              0\n",
      "보고서종류              0\n",
      "항목코드               0\n",
      "항목명                0\n",
      "당기              8270\n",
      "전기              8905\n",
      "전전기             9621\n",
      "Unnamed: 15    77067\n",
      "dtype: int64\n",
      "<class 'pandas.core.frame.DataFrame'>\n",
      "RangeIndex: 77067 entries, 0 to 77066\n",
      "Data columns (total 14 columns):\n",
      " #   Column       Non-Null Count  Dtype  \n",
      "---  ------       --------------  -----  \n",
      " 0   재무제표종류       77067 non-null  object \n",
      " 1   회사명          77067 non-null  object \n",
      " 2   시장구분         77067 non-null  object \n",
      " 3   업종           77067 non-null  int64  \n",
      " 4   업종명          77067 non-null  object \n",
      " 5   결산월          77067 non-null  int64  \n",
      " 6   결산기준일        77067 non-null  object \n",
      " 7   보고서종류        77067 non-null  object \n",
      " 8   항목코드         77067 non-null  object \n",
      " 9   항목명          77067 non-null  object \n",
      " 10  당기           68797 non-null  object \n",
      " 11  전기           68162 non-null  object \n",
      " 12  전전기          67446 non-null  object \n",
      " 13  Unnamed: 15  0 non-null      float64\n",
      "dtypes: float64(1), int64(2), object(11)\n",
      "memory usage: 8.2+ MB\n",
      "None\n"
     ]
    }
   ],
   "source": [
    "print(data.isnull().sum())\n",
    "# 결측치 처리 필요!\n",
    "print(data.info())"
   ]
  },
  {
   "cell_type": "code",
   "execution_count": 32,
   "metadata": {},
   "outputs": [],
   "source": [
    "# 필요 없는 변수 선정 : 통화\n",
    "data.drop(\"통화\", axis = 1, inplace = True)"
   ]
  },
  {
   "cell_type": "code",
   "execution_count": 35,
   "metadata": {},
   "outputs": [
    {
     "name": "stdout",
     "output_type": "stream",
     "text": [
      "1800\n",
      "1801\n"
     ]
    }
   ],
   "source": [
    "# 종목코드 = 회사명 -> 종목코드 삭제\n",
    "print(len(data[\"종목코드\"].unique()))\n",
    "print(len(data[\"회사명\"].unique()))\n",
    "\n",
    "data.drop(\"종목코드\", axis = 1, inplace = True)"
   ]
  },
  {
   "cell_type": "code",
   "execution_count": 39,
   "metadata": {},
   "outputs": [
    {
     "name": "stdout",
     "output_type": "stream",
     "text": [
      "16390\n",
      "2751\n"
     ]
    }
   ],
   "source": [
    "# 항목코드, 항목명은 얘기 해볼 필요가 있음\n",
    "# 항목명 : 변수\n",
    "print(len(data[\"항목코드\"].unique()))\n",
    "print(len(data[\"항목명\"].unique()))"
   ]
  },
  {
   "cell_type": "code",
   "execution_count": 46,
   "metadata": {},
   "outputs": [],
   "source": [
    "# data\n",
    "data[\"당기\"] = data[\"당기\"].str.replace(\",\", \"\")\n",
    "data[\"전기\"] = data[\"전기\"].str.replace(\",\", \"\")\n",
    "data[\"전전기\"] = data[\"전전기\"].str.replace(\",\", \"\")\n",
    "data[[\"당기\", \"전기\", \"전전기\"]] = data[[\"당기\", \"전기\", \"전전기\"]].astype(np.float32)"
   ]
  }
 ],
 "metadata": {
  "kernelspec": {
   "display_name": "Python 3",
   "language": "python",
   "name": "python3"
  },
  "language_info": {
   "codemirror_mode": {
    "name": "ipython",
    "version": 3
   },
   "file_extension": ".py",
   "mimetype": "text/x-python",
   "name": "python",
   "nbconvert_exporter": "python",
   "pygments_lexer": "ipython3",
   "version": "3.7.7"
  }
 },
 "nbformat": 4,
 "nbformat_minor": 4
}
