{
 "cells": [
  {
   "cell_type": "code",
   "execution_count": null,
   "metadata": {},
   "outputs": [],
   "source": [
    "import pandas as pd\n",
    "import numpy as np\n",
    "import matplotlib.pyplot as plt\n",
    "import os\n",
    "import glob\n",
    "import pandas as pd\n",
    "import seaborn as sns"
   ]
  },
  {
   "cell_type": "code",
   "execution_count": null,
   "metadata": {},
   "outputs": [],
   "source": [
    "def get_merged_csv(flist, **kwargs):\n",
    "    return pd.concat([pd.read_csv(f, **kwargs) for f in flist], ignore_index=True)\n",
    "\n",
    "path = os.getcwd() + \"/data\"\n",
    "fmask = os.path.join(path, '*기보고서*.txt')\n",
    "glob.glob(fmask)\n",
    "df = get_merged_csv(glob.glob(fmask), index_col=None, sep = \"\\t\", encoding = \"cp949\")"
   ]
  },
  {
   "cell_type": "code",
   "execution_count": null,
   "metadata": {
    "scrolled": true
   },
   "outputs": [],
   "source": [
    "# '재무제표종류 종목코드 회사명 시장구분 업종 업종명 결산월 결산기준일 \n",
    "# 보고서종류 통화 항목코드 항목명 당기 1분기말 전기말 전전기말 Unnamed: 15 당기 3분기말 당기 반기말'\n",
    "\n",
    "# 변수 삭제\n",
    "\" \".join(df.columns)\n",
    "\n",
    "lst = [\"통화\", \"Unnamed: 15\"]\n",
    "df.drop(lst, axis = 1, inplace = True)"
   ]
  },
  {
   "cell_type": "code",
   "execution_count": null,
   "metadata": {},
   "outputs": [],
   "source": [
    "df.info()"
   ]
  },
  {
   "cell_type": "code",
   "execution_count": null,
   "metadata": {},
   "outputs": [],
   "source": [
    "# 1분기보고서 : 결산월 3월 이면 결산기준일 6/30\n",
    "# 결산월 부터 \n",
    "df[df[\"보고서종류\"] == \"3분기보고서\"][[\"결산기준일\", \"결산월\"]]"
   ]
  },
  {
   "cell_type": "code",
   "execution_count": null,
   "metadata": {},
   "outputs": [],
   "source": [
    "a = df[[\"업종명\", \"업종\"]].groupby([\"업종명\"]).agg([\"count\"]).reset_index().sort_values(by = ( '업종', 'count'))\n",
    "a.to_csv(\"./data/업종명.csv\", encoding = \"utf-8\", index = False)"
   ]
  },
  {
   "cell_type": "code",
   "execution_count": null,
   "metadata": {},
   "outputs": [],
   "source": [
    "b = a = df[[\"업종명\", \"업종\"]].groupby([\"업종\"]).agg([\"count\"]).reset_index().sort_values(by = ( '업종명', 'count'))\n",
    "b.to_csv(\"./data/업종.csv\", encoding = \"utf-8\", index = False)"
   ]
  },
  {
   "cell_type": "code",
   "execution_count": null,
   "metadata": {},
   "outputs": [],
   "source": [
    "print(a)\n",
    "print(len(df[\"업종명\"].unique()))\n",
    "print(len(df[\"업종\"].unique()))"
   ]
  },
  {
   "cell_type": "code",
   "execution_count": null,
   "metadata": {},
   "outputs": [],
   "source": [
    "# 업종, 업종명 변수 확인 및 처리\n",
    "\n",
    "lst = df[\"업종명\"].unique()\n",
    "\n",
    "check = df[[\"업종명\", \"업종\"]]\n",
    "\n",
    "lst2 = []\n",
    "for i in lst:\n",
    "    lst2.append(check[check[\"업종명\"] == i].iloc[0,1])\n",
    "    \n",
    "check_df1 = pd.DataFrame({\"업종명1\":lst, \"업종\":lst2})\n",
    "# check_df.to_csv(\"업종명기준확인.csv\", encoding = \"utf-8\", index = False)\n",
    "\n",
    "lst = df[\"업종\"].unique()\n",
    "\n",
    "check = df[[\"업종\", \"업종명\"]]\n",
    "\n",
    "lst2 = []\n",
    "for i in lst:\n",
    "    lst2.append(check[check[\"업종\"] == i].iloc[0,1])\n",
    "    \n",
    "check_df2 = pd.DataFrame({\"업종\":lst, \"업종명2\":lst2})\n",
    "pd.merge(check_df1, check_df2, how = \"outer\").to_csv(\"최종확인.csv\", encoding = \"utf-8\", index = False)"
   ]
  },
  {
   "cell_type": "code",
   "execution_count": null,
   "metadata": {},
   "outputs": [],
   "source": [
    "# 2019년도 결산기준일 부터는 업종명이 통일 되어 있으므로\n",
    "# 19년도 행을 기반으로 업종명 추출\n",
    "check_idx = []\n",
    "for i in range(len(df)):\n",
    "    if df[\"결산기준일\"][i][:4] == \"2019\":\n",
    "        check_idx.append(i)\n",
    "        \n",
    "check = df.iloc[check_idx,:].reset_index(drop=True)\n",
    "lst_업종 = list(check[\"업종\"].unique())\n",
    "lst_업종명 = []\n",
    "\n",
    "for i in lst_업종:\n",
    "    lst_업종명.append(check[check[\"업종\"] == i].iloc[0, 5])\n",
    "    \n",
    "# 19년도에 없는 업종과 업종명 추가\n",
    "# index순서가 중요하다(why? 업종의 인덱스 위치와 업종명의 인덱스 위치가 같아야 되기 때문)\n",
    "lst_업종.append(693)\n",
    "lst_업종명.append(\"산업용 기계 및 장비 임대업\")\n",
    "lst_업종.append(691)\n",
    "lst_업종명.append(\"운송장비 임대업\")\n",
    "lst_업종.append(71)\n",
    "lst_업종명.append(\"토사석 광업\")\n",
    "lst_업종.append(302)\n",
    "lst_업종명.append(\"자동차 차체 및 트레일러 제조업\")\n",
    "lst_업종.append(12)\n",
    "lst_업종명.append(\"축산업\")\n",
    "\n",
    "# 업종 id, 업종명 value\n",
    "df[\"업종명\"] = None\n",
    "dic = {i:j for i, j in zip(lst_업종, lst_업종명)}\n",
    "\n",
    "# 19년도 기준 업종명 추가 \n",
    "for i in range(len(df)):\n",
    "    df[\"업종명\"][i] = dic[df[\"업종\"][i]]"
   ]
  },
  {
   "cell_type": "code",
   "execution_count": null,
   "metadata": {},
   "outputs": [],
   "source": [
    "for i in range(len(df)):\n",
    "    df[\"업종명\"][i] = dic[df[\"업종\"][i]]"
   ]
  },
  {
   "cell_type": "code",
   "execution_count": null,
   "metadata": {},
   "outputs": [],
   "source": []
  }
 ],
 "metadata": {
  "kernelspec": {
   "display_name": "Python 3",
   "language": "python",
   "name": "python3"
  },
  "language_info": {
   "codemirror_mode": {
    "name": "ipython",
    "version": 3
   },
   "file_extension": ".py",
   "mimetype": "text/x-python",
   "name": "python",
   "nbconvert_exporter": "python",
   "pygments_lexer": "ipython3",
   "version": "3.7.7"
  }
 },
 "nbformat": 4,
 "nbformat_minor": 4
}
